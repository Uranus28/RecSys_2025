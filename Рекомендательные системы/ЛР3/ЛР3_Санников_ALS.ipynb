{
  "cells": [
    {
      "cell_type": "code",
      "execution_count": 1,
      "metadata": {
        "id": "la_kev-0oD_i"
      },
      "outputs": [],
      "source": [
        "import pandas as pd\n",
        "import numpy as np\n",
        "from matplotlib import pyplot as plt\n",
        "from typing import List\n",
        "from tqdm import tqdm"
      ]
    },
    {
      "cell_type": "code",
      "execution_count": 2,
      "metadata": {
        "collapsed": true,
        "id": "ZdtODKio2Txy"
      },
      "outputs": [],
      "source": [
        "# !pip install implicit"
      ]
    },
    {
      "cell_type": "code",
      "execution_count": 3,
      "metadata": {
        "id": "I4R00gHhNo3C"
      },
      "outputs": [],
      "source": [
        "from google.colab import drive\n"
      ]
    },
    {
      "cell_type": "markdown",
      "metadata": {
        "id": "QwFIBcaM8gHy"
      },
      "source": [
        "#распаковать данные и провести анализ"
      ]
    },
    {
      "cell_type": "code",
      "execution_count": 4,
      "metadata": {
        "colab": {
          "base_uri": "https://localhost:8080/"
        },
        "id": "rBzDCVIwxX1e",
        "outputId": "6533095b-d82e-4498-8959-e1508a3f72eb"
      },
      "outputs": [
        {
          "output_type": "stream",
          "name": "stdout",
          "text": [
            "Drive already mounted at /content/drive; to attempt to forcibly remount, call drive.mount(\"/content/drive\", force_remount=True).\n"
          ]
        }
      ],
      "source": [
        "from google.colab import drive\n",
        "drive.mount('/content/drive')"
      ]
    },
    {
      "cell_type": "code",
      "execution_count": 5,
      "metadata": {
        "id": "4HF0reDCxHFm"
      },
      "outputs": [],
      "source": [
        "df_users = pd.read_csv('/content/drive/MyDrive/2025Mag2/RecSys/DataSet/users.csv')\n",
        "df_items = pd.read_csv('/content/drive/MyDrive/2025Mag2/RecSys/DataSet/items.csv')\n",
        "df_interactions = pd.read_csv('/content/drive/MyDrive/2025Mag2/RecSys/DataSet/interactions.csv')"
      ]
    },
    {
      "cell_type": "code",
      "source": [
        "df_users = df_users.head(int(len(df_users)/5))\n",
        "df_items = df_items.head(int(len(df_items)/5))"
      ],
      "metadata": {
        "id": "EzyDcW22Xm4O"
      },
      "execution_count": 6,
      "outputs": []
    },
    {
      "cell_type": "code",
      "execution_count": 7,
      "metadata": {
        "id": "usPTD7SYCOim"
      },
      "outputs": [],
      "source": [
        "# df_users = pd.read_csv('/content/users.csv')\n",
        "# df_items = pd.read_csv('/content/items.csv')\n",
        "# df_interactions = pd.read_csv(\"/content/interactions.csv\")\n",
        "\n",
        "# df_interactions = df_interactions.head(int(len(df_interactions)/2))"
      ]
    },
    {
      "cell_type": "code",
      "execution_count": 8,
      "metadata": {
        "colab": {
          "base_uri": "https://localhost:8080/",
          "height": 608
        },
        "id": "TdwczGv82cEN",
        "outputId": "3b2e8fd2-b8ca-4c3f-de36-efa5770d193e"
      },
      "outputs": [
        {
          "output_type": "execute_result",
          "data": {
            "text/plain": [
              "   item_id content_type                 title      title_orig  release_year  \\\n",
              "0    10711         film        Поговори с ней  Hable con ella        2002.0   \n",
              "1     2508         film           Голые перцы    Search Party        2014.0   \n",
              "2    10716         film      Тактическая сила  Tactical Force        2011.0   \n",
              "3     7868         film                45 лет        45 Years        2015.0   \n",
              "4    16268         film  Все решает мгновение             NaN        1978.0   \n",
              "\n",
              "                                             genres       countries  for_kids  \\\n",
              "0           драмы, зарубежные, детективы, мелодрамы         Испания       NaN   \n",
              "1                  зарубежные, приключения, комедии             США       NaN   \n",
              "2  криминал, зарубежные, триллеры, боевики, комедии          Канада       NaN   \n",
              "3                      драмы, зарубежные, мелодрамы  Великобритания       NaN   \n",
              "4                драмы, спорт, советские, мелодрамы            СССР       NaN   \n",
              "\n",
              "   age_rating   studios         directors  \\\n",
              "0        16.0       NaN  Педро Альмодовар   \n",
              "1        16.0       NaN    Скот Армстронг   \n",
              "2        16.0       NaN  Адам П. Калтраро   \n",
              "3        16.0       NaN         Эндрю Хэй   \n",
              "4        12.0  Ленфильм  Виктор Садовский   \n",
              "\n",
              "                                              actors  \\\n",
              "0  Адольфо Фернандес, Ана Фернандес, Дарио Гранди...   \n",
              "1  Адам Палли, Брайан Хаски, Дж.Б. Смув, Джейсон ...   \n",
              "2  Адриан Холмс, Даррен Шалави, Джерри Вассерман,...   \n",
              "3  Александра Риддлстон-Барретт, Джеральдин Джейм...   \n",
              "4  Александр Абдулов, Александр Демьяненко, Алекс...   \n",
              "\n",
              "                                         description  \\\n",
              "0  Мелодрама легендарного Педро Альмодовара «Пого...   \n",
              "1  Уморительная современная комедия на популярную...   \n",
              "2  Профессиональный рестлер Стив Остин («Все или ...   \n",
              "3  Шарлотта Рэмплинг, Том Кортни, Джеральдин Джей...   \n",
              "4  Расчетливая чаровница из советского кинохита «...   \n",
              "\n",
              "                                            keywords  \n",
              "0  Поговори, ней, 2002, Испания, друзья, любовь, ...  \n",
              "1  Голые, перцы, 2014, США, друзья, свадьбы, прео...  \n",
              "2  Тактическая, сила, 2011, Канада, бандиты, ганг...  \n",
              "3  45, лет, 2015, Великобритания, брак, жизнь, лю...  \n",
              "4  Все, решает, мгновение, 1978, СССР, сильные, ж...  "
            ],
            "text/html": [
              "\n",
              "  <div id=\"df-bf8eb0e1-55db-457f-8177-78a0dddc3c31\" class=\"colab-df-container\">\n",
              "    <div>\n",
              "<style scoped>\n",
              "    .dataframe tbody tr th:only-of-type {\n",
              "        vertical-align: middle;\n",
              "    }\n",
              "\n",
              "    .dataframe tbody tr th {\n",
              "        vertical-align: top;\n",
              "    }\n",
              "\n",
              "    .dataframe thead th {\n",
              "        text-align: right;\n",
              "    }\n",
              "</style>\n",
              "<table border=\"1\" class=\"dataframe\">\n",
              "  <thead>\n",
              "    <tr style=\"text-align: right;\">\n",
              "      <th></th>\n",
              "      <th>item_id</th>\n",
              "      <th>content_type</th>\n",
              "      <th>title</th>\n",
              "      <th>title_orig</th>\n",
              "      <th>release_year</th>\n",
              "      <th>genres</th>\n",
              "      <th>countries</th>\n",
              "      <th>for_kids</th>\n",
              "      <th>age_rating</th>\n",
              "      <th>studios</th>\n",
              "      <th>directors</th>\n",
              "      <th>actors</th>\n",
              "      <th>description</th>\n",
              "      <th>keywords</th>\n",
              "    </tr>\n",
              "  </thead>\n",
              "  <tbody>\n",
              "    <tr>\n",
              "      <th>0</th>\n",
              "      <td>10711</td>\n",
              "      <td>film</td>\n",
              "      <td>Поговори с ней</td>\n",
              "      <td>Hable con ella</td>\n",
              "      <td>2002.0</td>\n",
              "      <td>драмы, зарубежные, детективы, мелодрамы</td>\n",
              "      <td>Испания</td>\n",
              "      <td>NaN</td>\n",
              "      <td>16.0</td>\n",
              "      <td>NaN</td>\n",
              "      <td>Педро Альмодовар</td>\n",
              "      <td>Адольфо Фернандес, Ана Фернандес, Дарио Гранди...</td>\n",
              "      <td>Мелодрама легендарного Педро Альмодовара «Пого...</td>\n",
              "      <td>Поговори, ней, 2002, Испания, друзья, любовь, ...</td>\n",
              "    </tr>\n",
              "    <tr>\n",
              "      <th>1</th>\n",
              "      <td>2508</td>\n",
              "      <td>film</td>\n",
              "      <td>Голые перцы</td>\n",
              "      <td>Search Party</td>\n",
              "      <td>2014.0</td>\n",
              "      <td>зарубежные, приключения, комедии</td>\n",
              "      <td>США</td>\n",
              "      <td>NaN</td>\n",
              "      <td>16.0</td>\n",
              "      <td>NaN</td>\n",
              "      <td>Скот Армстронг</td>\n",
              "      <td>Адам Палли, Брайан Хаски, Дж.Б. Смув, Джейсон ...</td>\n",
              "      <td>Уморительная современная комедия на популярную...</td>\n",
              "      <td>Голые, перцы, 2014, США, друзья, свадьбы, прео...</td>\n",
              "    </tr>\n",
              "    <tr>\n",
              "      <th>2</th>\n",
              "      <td>10716</td>\n",
              "      <td>film</td>\n",
              "      <td>Тактическая сила</td>\n",
              "      <td>Tactical Force</td>\n",
              "      <td>2011.0</td>\n",
              "      <td>криминал, зарубежные, триллеры, боевики, комедии</td>\n",
              "      <td>Канада</td>\n",
              "      <td>NaN</td>\n",
              "      <td>16.0</td>\n",
              "      <td>NaN</td>\n",
              "      <td>Адам П. Калтраро</td>\n",
              "      <td>Адриан Холмс, Даррен Шалави, Джерри Вассерман,...</td>\n",
              "      <td>Профессиональный рестлер Стив Остин («Все или ...</td>\n",
              "      <td>Тактическая, сила, 2011, Канада, бандиты, ганг...</td>\n",
              "    </tr>\n",
              "    <tr>\n",
              "      <th>3</th>\n",
              "      <td>7868</td>\n",
              "      <td>film</td>\n",
              "      <td>45 лет</td>\n",
              "      <td>45 Years</td>\n",
              "      <td>2015.0</td>\n",
              "      <td>драмы, зарубежные, мелодрамы</td>\n",
              "      <td>Великобритания</td>\n",
              "      <td>NaN</td>\n",
              "      <td>16.0</td>\n",
              "      <td>NaN</td>\n",
              "      <td>Эндрю Хэй</td>\n",
              "      <td>Александра Риддлстон-Барретт, Джеральдин Джейм...</td>\n",
              "      <td>Шарлотта Рэмплинг, Том Кортни, Джеральдин Джей...</td>\n",
              "      <td>45, лет, 2015, Великобритания, брак, жизнь, лю...</td>\n",
              "    </tr>\n",
              "    <tr>\n",
              "      <th>4</th>\n",
              "      <td>16268</td>\n",
              "      <td>film</td>\n",
              "      <td>Все решает мгновение</td>\n",
              "      <td>NaN</td>\n",
              "      <td>1978.0</td>\n",
              "      <td>драмы, спорт, советские, мелодрамы</td>\n",
              "      <td>СССР</td>\n",
              "      <td>NaN</td>\n",
              "      <td>12.0</td>\n",
              "      <td>Ленфильм</td>\n",
              "      <td>Виктор Садовский</td>\n",
              "      <td>Александр Абдулов, Александр Демьяненко, Алекс...</td>\n",
              "      <td>Расчетливая чаровница из советского кинохита «...</td>\n",
              "      <td>Все, решает, мгновение, 1978, СССР, сильные, ж...</td>\n",
              "    </tr>\n",
              "  </tbody>\n",
              "</table>\n",
              "</div>\n",
              "    <div class=\"colab-df-buttons\">\n",
              "\n",
              "  <div class=\"colab-df-container\">\n",
              "    <button class=\"colab-df-convert\" onclick=\"convertToInteractive('df-bf8eb0e1-55db-457f-8177-78a0dddc3c31')\"\n",
              "            title=\"Convert this dataframe to an interactive table.\"\n",
              "            style=\"display:none;\">\n",
              "\n",
              "  <svg xmlns=\"http://www.w3.org/2000/svg\" height=\"24px\" viewBox=\"0 -960 960 960\">\n",
              "    <path d=\"M120-120v-720h720v720H120Zm60-500h600v-160H180v160Zm220 220h160v-160H400v160Zm0 220h160v-160H400v160ZM180-400h160v-160H180v160Zm440 0h160v-160H620v160ZM180-180h160v-160H180v160Zm440 0h160v-160H620v160Z\"/>\n",
              "  </svg>\n",
              "    </button>\n",
              "\n",
              "  <style>\n",
              "    .colab-df-container {\n",
              "      display:flex;\n",
              "      gap: 12px;\n",
              "    }\n",
              "\n",
              "    .colab-df-convert {\n",
              "      background-color: #E8F0FE;\n",
              "      border: none;\n",
              "      border-radius: 50%;\n",
              "      cursor: pointer;\n",
              "      display: none;\n",
              "      fill: #1967D2;\n",
              "      height: 32px;\n",
              "      padding: 0 0 0 0;\n",
              "      width: 32px;\n",
              "    }\n",
              "\n",
              "    .colab-df-convert:hover {\n",
              "      background-color: #E2EBFA;\n",
              "      box-shadow: 0px 1px 2px rgba(60, 64, 67, 0.3), 0px 1px 3px 1px rgba(60, 64, 67, 0.15);\n",
              "      fill: #174EA6;\n",
              "    }\n",
              "\n",
              "    .colab-df-buttons div {\n",
              "      margin-bottom: 4px;\n",
              "    }\n",
              "\n",
              "    [theme=dark] .colab-df-convert {\n",
              "      background-color: #3B4455;\n",
              "      fill: #D2E3FC;\n",
              "    }\n",
              "\n",
              "    [theme=dark] .colab-df-convert:hover {\n",
              "      background-color: #434B5C;\n",
              "      box-shadow: 0px 1px 3px 1px rgba(0, 0, 0, 0.15);\n",
              "      filter: drop-shadow(0px 1px 2px rgba(0, 0, 0, 0.3));\n",
              "      fill: #FFFFFF;\n",
              "    }\n",
              "  </style>\n",
              "\n",
              "    <script>\n",
              "      const buttonEl =\n",
              "        document.querySelector('#df-bf8eb0e1-55db-457f-8177-78a0dddc3c31 button.colab-df-convert');\n",
              "      buttonEl.style.display =\n",
              "        google.colab.kernel.accessAllowed ? 'block' : 'none';\n",
              "\n",
              "      async function convertToInteractive(key) {\n",
              "        const element = document.querySelector('#df-bf8eb0e1-55db-457f-8177-78a0dddc3c31');\n",
              "        const dataTable =\n",
              "          await google.colab.kernel.invokeFunction('convertToInteractive',\n",
              "                                                    [key], {});\n",
              "        if (!dataTable) return;\n",
              "\n",
              "        const docLinkHtml = 'Like what you see? Visit the ' +\n",
              "          '<a target=\"_blank\" href=https://colab.research.google.com/notebooks/data_table.ipynb>data table notebook</a>'\n",
              "          + ' to learn more about interactive tables.';\n",
              "        element.innerHTML = '';\n",
              "        dataTable['output_type'] = 'display_data';\n",
              "        await google.colab.output.renderOutput(dataTable, element);\n",
              "        const docLink = document.createElement('div');\n",
              "        docLink.innerHTML = docLinkHtml;\n",
              "        element.appendChild(docLink);\n",
              "      }\n",
              "    </script>\n",
              "  </div>\n",
              "\n",
              "\n",
              "    <div id=\"df-d13e5130-6180-4d08-a128-ee39f0454e6d\">\n",
              "      <button class=\"colab-df-quickchart\" onclick=\"quickchart('df-d13e5130-6180-4d08-a128-ee39f0454e6d')\"\n",
              "                title=\"Suggest charts\"\n",
              "                style=\"display:none;\">\n",
              "\n",
              "<svg xmlns=\"http://www.w3.org/2000/svg\" height=\"24px\"viewBox=\"0 0 24 24\"\n",
              "     width=\"24px\">\n",
              "    <g>\n",
              "        <path d=\"M19 3H5c-1.1 0-2 .9-2 2v14c0 1.1.9 2 2 2h14c1.1 0 2-.9 2-2V5c0-1.1-.9-2-2-2zM9 17H7v-7h2v7zm4 0h-2V7h2v10zm4 0h-2v-4h2v4z\"/>\n",
              "    </g>\n",
              "</svg>\n",
              "      </button>\n",
              "\n",
              "<style>\n",
              "  .colab-df-quickchart {\n",
              "      --bg-color: #E8F0FE;\n",
              "      --fill-color: #1967D2;\n",
              "      --hover-bg-color: #E2EBFA;\n",
              "      --hover-fill-color: #174EA6;\n",
              "      --disabled-fill-color: #AAA;\n",
              "      --disabled-bg-color: #DDD;\n",
              "  }\n",
              "\n",
              "  [theme=dark] .colab-df-quickchart {\n",
              "      --bg-color: #3B4455;\n",
              "      --fill-color: #D2E3FC;\n",
              "      --hover-bg-color: #434B5C;\n",
              "      --hover-fill-color: #FFFFFF;\n",
              "      --disabled-bg-color: #3B4455;\n",
              "      --disabled-fill-color: #666;\n",
              "  }\n",
              "\n",
              "  .colab-df-quickchart {\n",
              "    background-color: var(--bg-color);\n",
              "    border: none;\n",
              "    border-radius: 50%;\n",
              "    cursor: pointer;\n",
              "    display: none;\n",
              "    fill: var(--fill-color);\n",
              "    height: 32px;\n",
              "    padding: 0;\n",
              "    width: 32px;\n",
              "  }\n",
              "\n",
              "  .colab-df-quickchart:hover {\n",
              "    background-color: var(--hover-bg-color);\n",
              "    box-shadow: 0 1px 2px rgba(60, 64, 67, 0.3), 0 1px 3px 1px rgba(60, 64, 67, 0.15);\n",
              "    fill: var(--button-hover-fill-color);\n",
              "  }\n",
              "\n",
              "  .colab-df-quickchart-complete:disabled,\n",
              "  .colab-df-quickchart-complete:disabled:hover {\n",
              "    background-color: var(--disabled-bg-color);\n",
              "    fill: var(--disabled-fill-color);\n",
              "    box-shadow: none;\n",
              "  }\n",
              "\n",
              "  .colab-df-spinner {\n",
              "    border: 2px solid var(--fill-color);\n",
              "    border-color: transparent;\n",
              "    border-bottom-color: var(--fill-color);\n",
              "    animation:\n",
              "      spin 1s steps(1) infinite;\n",
              "  }\n",
              "\n",
              "  @keyframes spin {\n",
              "    0% {\n",
              "      border-color: transparent;\n",
              "      border-bottom-color: var(--fill-color);\n",
              "      border-left-color: var(--fill-color);\n",
              "    }\n",
              "    20% {\n",
              "      border-color: transparent;\n",
              "      border-left-color: var(--fill-color);\n",
              "      border-top-color: var(--fill-color);\n",
              "    }\n",
              "    30% {\n",
              "      border-color: transparent;\n",
              "      border-left-color: var(--fill-color);\n",
              "      border-top-color: var(--fill-color);\n",
              "      border-right-color: var(--fill-color);\n",
              "    }\n",
              "    40% {\n",
              "      border-color: transparent;\n",
              "      border-right-color: var(--fill-color);\n",
              "      border-top-color: var(--fill-color);\n",
              "    }\n",
              "    60% {\n",
              "      border-color: transparent;\n",
              "      border-right-color: var(--fill-color);\n",
              "    }\n",
              "    80% {\n",
              "      border-color: transparent;\n",
              "      border-right-color: var(--fill-color);\n",
              "      border-bottom-color: var(--fill-color);\n",
              "    }\n",
              "    90% {\n",
              "      border-color: transparent;\n",
              "      border-bottom-color: var(--fill-color);\n",
              "    }\n",
              "  }\n",
              "</style>\n",
              "\n",
              "      <script>\n",
              "        async function quickchart(key) {\n",
              "          const quickchartButtonEl =\n",
              "            document.querySelector('#' + key + ' button');\n",
              "          quickchartButtonEl.disabled = true;  // To prevent multiple clicks.\n",
              "          quickchartButtonEl.classList.add('colab-df-spinner');\n",
              "          try {\n",
              "            const charts = await google.colab.kernel.invokeFunction(\n",
              "                'suggestCharts', [key], {});\n",
              "          } catch (error) {\n",
              "            console.error('Error during call to suggestCharts:', error);\n",
              "          }\n",
              "          quickchartButtonEl.classList.remove('colab-df-spinner');\n",
              "          quickchartButtonEl.classList.add('colab-df-quickchart-complete');\n",
              "        }\n",
              "        (() => {\n",
              "          let quickchartButtonEl =\n",
              "            document.querySelector('#df-d13e5130-6180-4d08-a128-ee39f0454e6d button');\n",
              "          quickchartButtonEl.style.display =\n",
              "            google.colab.kernel.accessAllowed ? 'block' : 'none';\n",
              "        })();\n",
              "      </script>\n",
              "    </div>\n",
              "    </div>\n",
              "  </div>\n"
            ],
            "application/vnd.google.colaboratory.intrinsic+json": {
              "type": "dataframe",
              "variable_name": "df_items",
              "summary": "{\n  \"name\": \"df_items\",\n  \"rows\": 3192,\n  \"fields\": [\n    {\n      \"column\": \"item_id\",\n      \"properties\": {\n        \"dtype\": \"number\",\n        \"std\": 4759,\n        \"min\": 1,\n        \"max\": 16517,\n        \"num_unique_values\": 3192,\n        \"samples\": [\n          6473,\n          9012,\n          16510\n        ],\n        \"semantic_type\": \"\",\n        \"description\": \"\"\n      }\n    },\n    {\n      \"column\": \"content_type\",\n      \"properties\": {\n        \"dtype\": \"category\",\n        \"num_unique_values\": 2,\n        \"samples\": [\n          \"series\",\n          \"film\"\n        ],\n        \"semantic_type\": \"\",\n        \"description\": \"\"\n      }\n    },\n    {\n      \"column\": \"title\",\n      \"properties\": {\n        \"dtype\": \"string\",\n        \"num_unique_values\": 3162,\n        \"samples\": [\n          \"\\u0411\\u043b\\u0438\\u0437\\u043d\\u0435\\u0446\\u044b\",\n          \"537 \\u0433\\u043e\\u043b\\u043e\\u0441\\u043e\\u0432\"\n        ],\n        \"semantic_type\": \"\",\n        \"description\": \"\"\n      }\n    },\n    {\n      \"column\": \"title_orig\",\n      \"properties\": {\n        \"dtype\": \"string\",\n        \"num_unique_values\": 2187,\n        \"samples\": [\n          \"Ozzy\",\n          \"Unheimlich perfekte Freunde (with Audio Description)\"\n        ],\n        \"semantic_type\": \"\",\n        \"description\": \"\"\n      }\n    },\n    {\n      \"column\": \"release_year\",\n      \"properties\": {\n        \"dtype\": \"number\",\n        \"std\": 16.607968399614194,\n        \"min\": 1897.0,\n        \"max\": 2021.0,\n        \"num_unique_values\": 94,\n        \"samples\": [\n          1966.0,\n          1992.0\n        ],\n        \"semantic_type\": \"\",\n        \"description\": \"\"\n      }\n    },\n    {\n      \"column\": \"genres\",\n      \"properties\": {\n        \"dtype\": \"category\",\n        \"num_unique_values\": 1020,\n        \"samples\": [\n          \"\\u0434\\u0440\\u0430\\u043c\\u044b, \\u0431\\u0438\\u043e\\u0433\\u0440\\u0430\\u0444\\u0438\\u044f, \\u043f\\u0440\\u0438\\u043a\\u043b\\u044e\\u0447\\u0435\\u043d\\u0438\\u044f\",\n          \"\\u0434\\u0440\\u0430\\u043c\\u044b, \\u0442\\u0440\\u0438\\u043b\\u043b\\u0435\\u0440\\u044b, \\u0434\\u0435\\u0442\\u0435\\u043a\\u0442\\u0438\\u0432\\u044b, \\u043a\\u043e\\u043c\\u0435\\u0434\\u0438\\u0438\"\n        ],\n        \"semantic_type\": \"\",\n        \"description\": \"\"\n      }\n    },\n    {\n      \"column\": \"countries\",\n      \"properties\": {\n        \"dtype\": \"category\",\n        \"num_unique_values\": 236,\n        \"samples\": [\n          \"\\u041a\\u0430\\u043d\\u0430\\u0434\\u0430, \\u0421\\u0428\\u0410\",\n          \"\\u0420\\u043e\\u0441\\u0441\\u0438\\u044f, \\u0411\\u0435\\u043b\\u0430\\u0440\\u0443\\u0441\\u044c, \\u041f\\u043e\\u043b\\u044c\\u0448\\u0430\"\n        ],\n        \"semantic_type\": \"\",\n        \"description\": \"\"\n      }\n    },\n    {\n      \"column\": \"for_kids\",\n      \"properties\": {\n        \"dtype\": \"number\",\n        \"std\": 0.3876574430285535,\n        \"min\": 0.0,\n        \"max\": 1.0,\n        \"num_unique_values\": 2,\n        \"samples\": [\n          1.0,\n          0.0\n        ],\n        \"semantic_type\": \"\",\n        \"description\": \"\"\n      }\n    },\n    {\n      \"column\": \"age_rating\",\n      \"properties\": {\n        \"dtype\": \"number\",\n        \"std\": 5.419360697513175,\n        \"min\": 0.0,\n        \"max\": 21.0,\n        \"num_unique_values\": 6,\n        \"samples\": [\n          16.0,\n          12.0\n        ],\n        \"semantic_type\": \"\",\n        \"description\": \"\"\n      }\n    },\n    {\n      \"column\": \"studios\",\n      \"properties\": {\n        \"dtype\": \"category\",\n        \"num_unique_values\": 24,\n        \"samples\": [\n          \"Sky\",\n          \"Warner Bros\"\n        ],\n        \"semantic_type\": \"\",\n        \"description\": \"\"\n      }\n    },\n    {\n      \"column\": \"directors\",\n      \"properties\": {\n        \"dtype\": \"string\",\n        \"num_unique_values\": 2310,\n        \"samples\": [\n          \"\\u0421\\u0435\\u0440\\u0433\\u0435\\u0439 \\u0422\\u043a\\u0430\\u0447\\u0435\\u0432\",\n          \"\\u0412\\u043b\\u0430\\u0434\\u0438\\u043c\\u0438\\u0440 \\u042f\\u043d\\u043a\\u043e\\u0432\\u0441\\u043a\\u0438\\u0439\"\n        ],\n        \"semantic_type\": \"\",\n        \"description\": \"\"\n      }\n    },\n    {\n      \"column\": \"actors\",\n      \"properties\": {\n        \"dtype\": \"string\",\n        \"num_unique_values\": 2692,\n        \"samples\": [\n          \"\\u041f\\u043e\\u043b \\u0414\\u0430\\u043d\\u043e, \\u0414\\u044d\\u043d\\u0438\\u044d\\u043b \\u0420\\u044d\\u0434\\u043a\\u043b\\u0438\\u0444\\u0444, \\u041c\\u044d\\u0440\\u0438 \\u042d\\u043b\\u0438\\u0437\\u0430\\u0431\\u0435\\u0442 \\u0423\\u0438\\u043d\\u0441\\u0442\\u044d\\u0434, \\u0410\\u043d\\u0442\\u043e\\u043d\\u0438\\u044f \\u0420\\u0438\\u0431\\u0435\\u0440\\u043e, \\u0422\\u0438\\u043c\\u043e\\u0442\\u0438 \\u0419\\u043e\\u043b\\u0438\\u0445, \\u0420\\u0438\\u0447\\u0430\\u0440\\u0434 \\u0413\\u0440\\u043e\\u0441\\u0441, \\u041c\\u0430\\u0440\\u0438\\u043a\\u0430 \\u041a\\u0430\\u0441\\u0442\\u0438\\u043b, \\u042d\\u043d\\u0434\\u0438 \\u0425\\u0430\\u043b\\u043b, \\u0410\\u0430\\u0440\\u043e\\u043d \\u041c\\u0430\\u0440\\u0448\\u0430\\u043b\\u043b, \\u0428\\u0435\\u0439\\u043d \\u041a\\u0430\\u0440\\u0440\\u0443\\u0442\",\n          \"\\u0414\\u0430\\u043d\\u0438\\u043b\\u0430 \\u041a\\u043e\\u0437\\u043b\\u043e\\u0432\\u0441\\u043a\\u0438\\u0439, \\u0418\\u043b\\u044c\\u044f \\u041c\\u0430\\u043b\\u0430\\u043d\\u0438\\u043d, \\u0415\\u043b\\u0435\\u043d\\u0430 \\u041e\\u0431\\u043e\\u043b\\u0435\\u043d\\u0441\\u043a\\u0430\\u044f, \\u0410\\u043d\\u0433\\u0435\\u043b\\u0438\\u043d\\u0430 \\u0421\\u0442\\u0440\\u0435\\u0447\\u0438\\u043d\\u0430, \\u041e\\u043b\\u044c\\u0433\\u0430 \\u0417\\u0443\\u0435\\u0432\\u0430, \\u0410\\u043d\\u0434\\u0440\\u0435\\u0439 \\u0410\\u043c\\u0448\\u0438\\u043d\\u0441\\u043a\\u0438\\u0439, \\u042d\\u0434\\u0433\\u0430\\u0440 \\u0413\\u0438\\u0437\\u0430\\u0442\\u0443\\u043b\\u043b\\u0438\\u043d, \\u0410\\u043b\\u0435\\u043a\\u0441\\u0430\\u043d\\u0434\\u0440 \\u041c\\u0438\\u0437\\u0435\\u0432, \\u0412\\u043b\\u0430\\u0434\\u0438\\u043c\\u0438\\u0440 \\u0425\\u0430\\u0446\\u043a\\u0435\\u0432\\u0438\\u0447, \\u0412\\u043b\\u0430\\u0434\\u0438\\u043c\\u0438\\u0440 \\u0410\\u0444\\u0430\\u043d\\u0430\\u0441\\u044c\\u0435\\u0432\"\n        ],\n        \"semantic_type\": \"\",\n        \"description\": \"\"\n      }\n    },\n    {\n      \"column\": \"description\",\n      \"properties\": {\n        \"dtype\": \"string\",\n        \"num_unique_values\": 3181,\n        \"samples\": [\n          \"\\u041a\\u0430\\u043a\\u043e\\u0439 \\u043f\\u0440\\u0435\\u0434\\u0441\\u0442\\u0430\\u0435\\u0442  \\u0432\\u043e\\u0439\\u043d\\u0430 \\u0442\\u0435\\u043c, \\u043a\\u0442\\u043e \\u0441\\u043c\\u043e\\u0442\\u0440\\u0438\\u0442 \\u0435\\u0439 \\u0432 \\u043b\\u0438\\u0446\\u043e? \\u0410\\u043c\\u0435\\u0440\\u0438\\u043a\\u0430\\u043d\\u0441\\u043a\\u0438\\u0435 \\u043c\\u043e\\u0440\\u043f\\u0435\\u0445\\u0438 \\u0432\\u043e \\u0432\\u0440\\u0435\\u043c\\u044f \\u0412\\u0442\\u043e\\u0440\\u043e\\u0439 \\u043c\\u0438\\u0440\\u043e\\u0432\\u043e\\u0439. \\u0421\\u0446\\u0435\\u043d\\u0430\\u0440\\u0438\\u0439 \\u043e\\u0441\\u043d\\u043e\\u0432\\u0430\\u043d \\u043d\\u0430 \\u0432\\u043e\\u0441\\u043f\\u043e\\u043c\\u0438\\u043d\\u0430\\u043d\\u0438\\u044f\\u0445 \\u0440\\u0435\\u0430\\u043b\\u044c\\u043d\\u044b\\u0445 \\u0443\\u0447\\u0430\\u0441\\u0442\\u043d\\u0438\\u043a\\u043e\\u0432 \\u0431\\u043e\\u0435\\u0432\\u044b\\u0445 \\u0434\\u0435\\u0439\\u0441\\u0442\\u0432\\u0438\\u0439 \\u043f\\u0440\\u043e\\u0442\\u0438\\u0432 \\u044f\\u043f\\u043e\\u043d\\u0446\\u0435\\u0432 \\u043d\\u0430 \\u043e\\u0441\\u0442\\u0440\\u043e\\u0432\\u0430\\u0445  \\u0421\\u043e\\u043b\\u043e\\u043c\\u043e\\u043d\\u043e\\u0432\\u0430 \\u0430\\u0440\\u0445\\u0438\\u043f\\u0435\\u043b\\u0430\\u0433\\u0430, \\u0433\\u0434\\u0435 \\u0431\\u043e\\u0438 \\u0432\\u0435\\u043b\\u0438\\u0441\\u044c \\u043e\\u0434\\u043d\\u043e\\u0432\\u0440\\u0435\\u043c\\u0435\\u043d\\u043d\\u043e \\u043d\\u0430 \\u0437\\u0435\\u043c\\u043b\\u0435, \\u043d\\u0430 \\u0432\\u043e\\u0434\\u0435 \\u0438 \\u0432 \\u0432\\u043e\\u0437\\u0434\\u0443\\u0445\\u0435. \\u0421\\u0438\\u043b\\u044c\\u043d\\u0435\\u0439\\u0448\\u0438\\u0435 \\u0441\\u044a\\u0435\\u043c\\u043a\\u0438 \\u0431\\u0430\\u0442\\u0430\\u043b\\u044c\\u043d\\u044b\\u0445 \\u0441\\u0446\\u0435\\u043d \\u0438 \\u0441\\u043f\\u0435\\u0446\\u044d\\u0444\\u0444\\u0435\\u043a\\u0442\\u044b (\\u0443 \\u0441\\u0435\\u0440\\u0438\\u0430\\u043b\\u0430 \\u0432\\u043f\\u0435\\u0447\\u0430\\u0442\\u043b\\u044f\\u044e\\u0449\\u0438\\u0439 \\u0431\\u044e\\u0434\\u0436\\u0435\\u0442). \\u041c\\u0430\\u0441\\u0442\\u0435\\u0440\\u0441\\u0442\\u0432\\u043e \\u0441 \\u043a\\u043e\\u0442\\u043e\\u0440\\u044b\\u043c \\u043f\\u0440\\u043e\\u0434\\u044e\\u0441\\u0435\\u0440\\u044b \\u0421\\u0442\\u0438\\u0432\\u0435\\u043d \\u0421\\u043f\\u0438\\u043b\\u0431\\u0435\\u0440\\u0433 \\u0438 \\u0422\\u043e\\u043c \\u0425\\u044d\\u043d\\u043a\\u0441 \\u0441\\u043e\\u0432\\u043c\\u0435\\u0449\\u0430\\u044e\\u0442 \\u043b\\u0438\\u0447\\u043d\\u044b\\u0435 \\u0441\\u0443\\u0434\\u044c\\u0431\\u044b \\u0433\\u0435\\u0440\\u043e\\u0435\\u0432 \\u0441 \\u043c\\u0430\\u0441\\u0448\\u0442\\u0430\\u0431\\u043d\\u043e\\u0439 \\u043a\\u0430\\u0440\\u0442\\u0438\\u043d\\u043e\\u0439 \\u0432\\u043e\\u0439\\u043d\\u044b, \\u0441\\u0442\\u0430\\u0432\\u044f\\u0442 \\\"\\u0422\\u0438\\u0445\\u0438\\u0439 \\u043e\\u043a\\u0435\\u0430\\u043d\\\" \\u0432 \\u043e\\u0434\\u0438\\u043d \\u0440\\u044f\\u0434 \\u0441 \\u043a\\u043b\\u0430\\u0441\\u0441\\u0438\\u043a\\u043e\\u0439 \\u0436\\u0430\\u043d\\u0440\\u0430 \\u0432\\u043e\\u0435\\u043d\\u043d\\u043e\\u0439 \\u0434\\u0440\\u0430\\u043c\\u044b - \\u0444\\u0438\\u043b\\u044c\\u043c\\u0430\\u043c\\u0438 \\\"\\u0421\\u043f\\u0430\\u0441\\u0442\\u0438 \\u0440\\u044f\\u0434\\u043e\\u0432\\u043e\\u0433\\u043e \\u0420\\u0430\\u0439\\u0430\\u043d\\u0430\\\" \\u0442\\u043e\\u0433\\u043e \\u0436\\u0435 \\u0421\\u043f\\u0438\\u043b\\u0431\\u0435\\u0440\\u0433\\u0430, \\\"\\u041f\\u0438\\u0441\\u044c\\u043c\\u0430 \\u0441 \\u0418\\u0432\\u043e\\u0434\\u0437\\u0438\\u043c\\u044b\\\" \\u041a\\u043b\\u0438\\u043d\\u0442\\u0430 \\u0418\\u0441\\u0442\\u0432\\u0443\\u0434\\u0430 \\u0438 \\\"\\u0422\\u043e\\u043d\\u043a\\u0430\\u044f \\u043a\\u0440\\u0430\\u0441\\u043d\\u0430\\u044f \\u043b\\u0438\\u043d\\u0438\\u044f\\\" \\u0422\\u0435\\u0440\\u0435\\u043d\\u0441\\u0430 \\u041c\\u0430\\u043b\\u0438\\u043a\\u0430.\",\n          \"\\u0421\\u043e\\u0432\\u0435\\u0442\\u0441\\u043a\\u0438\\u0435 \\u0440\\u0430\\u0437\\u0432\\u0435\\u0434\\u0447\\u0438\\u043a\\u0438 \\u043f\\u043e\\u0441\\u0442\\u0430\\u0432\\u043b\\u0435\\u043d\\u044b \\u043f\\u0435\\u0440\\u0435\\u0434 \\u0441\\u043b\\u043e\\u0436\\u043d\\u043e\\u0439 \\u0438 \\u043e\\u043f\\u0430\\u0441\\u043d\\u043e\\u0439 \\u0437\\u0430\\u0434\\u0430\\u0447\\u0435\\u0439 - \\u0441\\u0440\\u043e\\u0447\\u043d\\u043e \\u0432\\u044b\\u044f\\u0432\\u0438\\u0442\\u044c \\u0430\\u0433\\u0435\\u043d\\u0442\\u0430 \\u0426\\u0420\\u0423, \\u0436\\u0438\\u0432\\u0443\\u0449\\u0435\\u0433\\u043e \\u0432 \\u041c\\u043e\\u0441\\u043a\\u0432\\u0435 \\u0438 \\u0440\\u0430\\u0431\\u043e\\u0442\\u0430\\u044e\\u0449\\u0435\\u0433\\u043e \\u0432 \\u0443\\u0447\\u0440\\u0435\\u0436\\u0434\\u0435\\u043d\\u0438\\u0438, \\u043a\\u0443\\u0434\\u0430 \\u043f\\u043e\\u0441\\u0442\\u0443\\u043f\\u0430\\u0435\\u0442 \\u0432\\u0441\\u044f \\u0438\\u043d\\u0444\\u043e\\u0440\\u043c\\u0430\\u0446\\u0438\\u044f \\u043f\\u043e \\u00ab\\u0430\\u0444\\u0440\\u0438\\u043a\\u0430\\u043d\\u0441\\u043a\\u043e\\u043c\\u0443 \\u0443\\u0437\\u043b\\u0443\\u00bb. \\u041e\\u0442 \\u043e\\u043f\\u0435\\u0440\\u0430\\u0442\\u0438\\u0432\\u043d\\u043e\\u0441\\u0442\\u0438 \\u0440\\u0435\\u0448\\u0435\\u043d\\u0438\\u044f \\u044d\\u0442\\u043e\\u0439 \\u0437\\u0430\\u0434\\u0430\\u0447\\u0438 \\u0437\\u0430\\u0432\\u0438\\u0441\\u044f\\u0442 \\u0441\\u0443\\u0434\\u044c\\u0431\\u044b \\u043d\\u0435 \\u0442\\u043e\\u043b\\u044c\\u043a\\u043e \\u043e\\u0442\\u0434\\u0435\\u043b\\u044c\\u043d\\u044b\\u0445 \\u043b\\u044e\\u0434\\u0435\\u0439, \\u043d\\u043e \\u0438 \\u0446\\u0435\\u043b\\u043e\\u0433\\u043e \\u0433\\u043e\\u0441\\u0443\\u0434\\u0430\\u0440\\u0441\\u0442\\u0432\\u0430 - \\u0430\\u0444\\u0440\\u0438\\u043a\\u0430\\u043d\\u0441\\u043a\\u043e\\u0439 \\u0441\\u0442\\u0440\\u0430\\u043d\\u044b \\u041d\\u0430\\u0433\\u043e\\u043d\\u0438\\u0438...\"\n        ],\n        \"semantic_type\": \"\",\n        \"description\": \"\"\n      }\n    },\n    {\n      \"column\": \"keywords\",\n      \"properties\": {\n        \"dtype\": \"string\",\n        \"num_unique_values\": 3100,\n        \"samples\": [\n          \"2018, \\u0441\\u043e\\u0435\\u0434\\u0438\\u043d\\u0435\\u043d\\u043d\\u044b\\u0435 \\u0448\\u0442\\u0430\\u0442\\u044b, \\u0431\\u0435\\u043b\\u044c\\u043a\\u0430\\u043d\\u0442\\u043e\",\n          \"\\u0417\\u043e\\u044f, 1945, \\u0421\\u0421\\u0421\\u0420\"\n        ],\n        \"semantic_type\": \"\",\n        \"description\": \"\"\n      }\n    }\n  ]\n}"
            }
          },
          "metadata": {},
          "execution_count": 8
        }
      ],
      "source": [
        "df_items.head(5)"
      ]
    },
    {
      "cell_type": "code",
      "execution_count": 9,
      "metadata": {
        "colab": {
          "base_uri": "https://localhost:8080/"
        },
        "id": "jv6gB58b9H9h",
        "outputId": "b8ffe4d7-a2ed-44b2-d196-325b472ddb59"
      },
      "outputs": [
        {
          "output_type": "stream",
          "name": "stdout",
          "text": [
            "<class 'pandas.core.frame.DataFrame'>\n",
            "RangeIndex: 3192 entries, 0 to 3191\n",
            "Data columns (total 14 columns):\n",
            " #   Column        Non-Null Count  Dtype  \n",
            "---  ------        --------------  -----  \n",
            " 0   item_id       3192 non-null   int64  \n",
            " 1   content_type  3192 non-null   object \n",
            " 2   title         3192 non-null   object \n",
            " 3   title_orig    2215 non-null   object \n",
            " 4   release_year  3172 non-null   float64\n",
            " 5   genres        3192 non-null   object \n",
            " 6   countries     3183 non-null   object \n",
            " 7   for_kids      99 non-null     float64\n",
            " 8   age_rating    3192 non-null   float64\n",
            " 9   studios       221 non-null    object \n",
            " 10  directors     2904 non-null   object \n",
            " 11  actors        2702 non-null   object \n",
            " 12  description   3191 non-null   object \n",
            " 13  keywords      3100 non-null   object \n",
            "dtypes: float64(3), int64(1), object(10)\n",
            "memory usage: 349.3+ KB\n"
          ]
        }
      ],
      "source": [
        "df_items.info()"
      ]
    },
    {
      "cell_type": "code",
      "execution_count": 10,
      "metadata": {
        "colab": {
          "base_uri": "https://localhost:8080/",
          "height": 206
        },
        "id": "HH1_ToX922p2",
        "outputId": "95196927-c0df-401a-a6c1-1fba638157c6"
      },
      "outputs": [
        {
          "output_type": "execute_result",
          "data": {
            "text/plain": [
              "   user_id        age        income sex  kids_flg\n",
              "0   973171  age_25_34  income_60_90   М         1\n",
              "1   962099  age_18_24  income_20_40   М         0\n",
              "2  1047345  age_45_54  income_40_60   Ж         0\n",
              "3   721985  age_45_54  income_20_40   Ж         0\n",
              "4   704055  age_35_44  income_60_90   Ж         0"
            ],
            "text/html": [
              "\n",
              "  <div id=\"df-09dfdac6-d97b-48c5-b52a-44bd903d2c15\" class=\"colab-df-container\">\n",
              "    <div>\n",
              "<style scoped>\n",
              "    .dataframe tbody tr th:only-of-type {\n",
              "        vertical-align: middle;\n",
              "    }\n",
              "\n",
              "    .dataframe tbody tr th {\n",
              "        vertical-align: top;\n",
              "    }\n",
              "\n",
              "    .dataframe thead th {\n",
              "        text-align: right;\n",
              "    }\n",
              "</style>\n",
              "<table border=\"1\" class=\"dataframe\">\n",
              "  <thead>\n",
              "    <tr style=\"text-align: right;\">\n",
              "      <th></th>\n",
              "      <th>user_id</th>\n",
              "      <th>age</th>\n",
              "      <th>income</th>\n",
              "      <th>sex</th>\n",
              "      <th>kids_flg</th>\n",
              "    </tr>\n",
              "  </thead>\n",
              "  <tbody>\n",
              "    <tr>\n",
              "      <th>0</th>\n",
              "      <td>973171</td>\n",
              "      <td>age_25_34</td>\n",
              "      <td>income_60_90</td>\n",
              "      <td>М</td>\n",
              "      <td>1</td>\n",
              "    </tr>\n",
              "    <tr>\n",
              "      <th>1</th>\n",
              "      <td>962099</td>\n",
              "      <td>age_18_24</td>\n",
              "      <td>income_20_40</td>\n",
              "      <td>М</td>\n",
              "      <td>0</td>\n",
              "    </tr>\n",
              "    <tr>\n",
              "      <th>2</th>\n",
              "      <td>1047345</td>\n",
              "      <td>age_45_54</td>\n",
              "      <td>income_40_60</td>\n",
              "      <td>Ж</td>\n",
              "      <td>0</td>\n",
              "    </tr>\n",
              "    <tr>\n",
              "      <th>3</th>\n",
              "      <td>721985</td>\n",
              "      <td>age_45_54</td>\n",
              "      <td>income_20_40</td>\n",
              "      <td>Ж</td>\n",
              "      <td>0</td>\n",
              "    </tr>\n",
              "    <tr>\n",
              "      <th>4</th>\n",
              "      <td>704055</td>\n",
              "      <td>age_35_44</td>\n",
              "      <td>income_60_90</td>\n",
              "      <td>Ж</td>\n",
              "      <td>0</td>\n",
              "    </tr>\n",
              "  </tbody>\n",
              "</table>\n",
              "</div>\n",
              "    <div class=\"colab-df-buttons\">\n",
              "\n",
              "  <div class=\"colab-df-container\">\n",
              "    <button class=\"colab-df-convert\" onclick=\"convertToInteractive('df-09dfdac6-d97b-48c5-b52a-44bd903d2c15')\"\n",
              "            title=\"Convert this dataframe to an interactive table.\"\n",
              "            style=\"display:none;\">\n",
              "\n",
              "  <svg xmlns=\"http://www.w3.org/2000/svg\" height=\"24px\" viewBox=\"0 -960 960 960\">\n",
              "    <path d=\"M120-120v-720h720v720H120Zm60-500h600v-160H180v160Zm220 220h160v-160H400v160Zm0 220h160v-160H400v160ZM180-400h160v-160H180v160Zm440 0h160v-160H620v160ZM180-180h160v-160H180v160Zm440 0h160v-160H620v160Z\"/>\n",
              "  </svg>\n",
              "    </button>\n",
              "\n",
              "  <style>\n",
              "    .colab-df-container {\n",
              "      display:flex;\n",
              "      gap: 12px;\n",
              "    }\n",
              "\n",
              "    .colab-df-convert {\n",
              "      background-color: #E8F0FE;\n",
              "      border: none;\n",
              "      border-radius: 50%;\n",
              "      cursor: pointer;\n",
              "      display: none;\n",
              "      fill: #1967D2;\n",
              "      height: 32px;\n",
              "      padding: 0 0 0 0;\n",
              "      width: 32px;\n",
              "    }\n",
              "\n",
              "    .colab-df-convert:hover {\n",
              "      background-color: #E2EBFA;\n",
              "      box-shadow: 0px 1px 2px rgba(60, 64, 67, 0.3), 0px 1px 3px 1px rgba(60, 64, 67, 0.15);\n",
              "      fill: #174EA6;\n",
              "    }\n",
              "\n",
              "    .colab-df-buttons div {\n",
              "      margin-bottom: 4px;\n",
              "    }\n",
              "\n",
              "    [theme=dark] .colab-df-convert {\n",
              "      background-color: #3B4455;\n",
              "      fill: #D2E3FC;\n",
              "    }\n",
              "\n",
              "    [theme=dark] .colab-df-convert:hover {\n",
              "      background-color: #434B5C;\n",
              "      box-shadow: 0px 1px 3px 1px rgba(0, 0, 0, 0.15);\n",
              "      filter: drop-shadow(0px 1px 2px rgba(0, 0, 0, 0.3));\n",
              "      fill: #FFFFFF;\n",
              "    }\n",
              "  </style>\n",
              "\n",
              "    <script>\n",
              "      const buttonEl =\n",
              "        document.querySelector('#df-09dfdac6-d97b-48c5-b52a-44bd903d2c15 button.colab-df-convert');\n",
              "      buttonEl.style.display =\n",
              "        google.colab.kernel.accessAllowed ? 'block' : 'none';\n",
              "\n",
              "      async function convertToInteractive(key) {\n",
              "        const element = document.querySelector('#df-09dfdac6-d97b-48c5-b52a-44bd903d2c15');\n",
              "        const dataTable =\n",
              "          await google.colab.kernel.invokeFunction('convertToInteractive',\n",
              "                                                    [key], {});\n",
              "        if (!dataTable) return;\n",
              "\n",
              "        const docLinkHtml = 'Like what you see? Visit the ' +\n",
              "          '<a target=\"_blank\" href=https://colab.research.google.com/notebooks/data_table.ipynb>data table notebook</a>'\n",
              "          + ' to learn more about interactive tables.';\n",
              "        element.innerHTML = '';\n",
              "        dataTable['output_type'] = 'display_data';\n",
              "        await google.colab.output.renderOutput(dataTable, element);\n",
              "        const docLink = document.createElement('div');\n",
              "        docLink.innerHTML = docLinkHtml;\n",
              "        element.appendChild(docLink);\n",
              "      }\n",
              "    </script>\n",
              "  </div>\n",
              "\n",
              "\n",
              "    <div id=\"df-6bddb083-cc46-41b9-b2cf-0640d5b2cb4e\">\n",
              "      <button class=\"colab-df-quickchart\" onclick=\"quickchart('df-6bddb083-cc46-41b9-b2cf-0640d5b2cb4e')\"\n",
              "                title=\"Suggest charts\"\n",
              "                style=\"display:none;\">\n",
              "\n",
              "<svg xmlns=\"http://www.w3.org/2000/svg\" height=\"24px\"viewBox=\"0 0 24 24\"\n",
              "     width=\"24px\">\n",
              "    <g>\n",
              "        <path d=\"M19 3H5c-1.1 0-2 .9-2 2v14c0 1.1.9 2 2 2h14c1.1 0 2-.9 2-2V5c0-1.1-.9-2-2-2zM9 17H7v-7h2v7zm4 0h-2V7h2v10zm4 0h-2v-4h2v4z\"/>\n",
              "    </g>\n",
              "</svg>\n",
              "      </button>\n",
              "\n",
              "<style>\n",
              "  .colab-df-quickchart {\n",
              "      --bg-color: #E8F0FE;\n",
              "      --fill-color: #1967D2;\n",
              "      --hover-bg-color: #E2EBFA;\n",
              "      --hover-fill-color: #174EA6;\n",
              "      --disabled-fill-color: #AAA;\n",
              "      --disabled-bg-color: #DDD;\n",
              "  }\n",
              "\n",
              "  [theme=dark] .colab-df-quickchart {\n",
              "      --bg-color: #3B4455;\n",
              "      --fill-color: #D2E3FC;\n",
              "      --hover-bg-color: #434B5C;\n",
              "      --hover-fill-color: #FFFFFF;\n",
              "      --disabled-bg-color: #3B4455;\n",
              "      --disabled-fill-color: #666;\n",
              "  }\n",
              "\n",
              "  .colab-df-quickchart {\n",
              "    background-color: var(--bg-color);\n",
              "    border: none;\n",
              "    border-radius: 50%;\n",
              "    cursor: pointer;\n",
              "    display: none;\n",
              "    fill: var(--fill-color);\n",
              "    height: 32px;\n",
              "    padding: 0;\n",
              "    width: 32px;\n",
              "  }\n",
              "\n",
              "  .colab-df-quickchart:hover {\n",
              "    background-color: var(--hover-bg-color);\n",
              "    box-shadow: 0 1px 2px rgba(60, 64, 67, 0.3), 0 1px 3px 1px rgba(60, 64, 67, 0.15);\n",
              "    fill: var(--button-hover-fill-color);\n",
              "  }\n",
              "\n",
              "  .colab-df-quickchart-complete:disabled,\n",
              "  .colab-df-quickchart-complete:disabled:hover {\n",
              "    background-color: var(--disabled-bg-color);\n",
              "    fill: var(--disabled-fill-color);\n",
              "    box-shadow: none;\n",
              "  }\n",
              "\n",
              "  .colab-df-spinner {\n",
              "    border: 2px solid var(--fill-color);\n",
              "    border-color: transparent;\n",
              "    border-bottom-color: var(--fill-color);\n",
              "    animation:\n",
              "      spin 1s steps(1) infinite;\n",
              "  }\n",
              "\n",
              "  @keyframes spin {\n",
              "    0% {\n",
              "      border-color: transparent;\n",
              "      border-bottom-color: var(--fill-color);\n",
              "      border-left-color: var(--fill-color);\n",
              "    }\n",
              "    20% {\n",
              "      border-color: transparent;\n",
              "      border-left-color: var(--fill-color);\n",
              "      border-top-color: var(--fill-color);\n",
              "    }\n",
              "    30% {\n",
              "      border-color: transparent;\n",
              "      border-left-color: var(--fill-color);\n",
              "      border-top-color: var(--fill-color);\n",
              "      border-right-color: var(--fill-color);\n",
              "    }\n",
              "    40% {\n",
              "      border-color: transparent;\n",
              "      border-right-color: var(--fill-color);\n",
              "      border-top-color: var(--fill-color);\n",
              "    }\n",
              "    60% {\n",
              "      border-color: transparent;\n",
              "      border-right-color: var(--fill-color);\n",
              "    }\n",
              "    80% {\n",
              "      border-color: transparent;\n",
              "      border-right-color: var(--fill-color);\n",
              "      border-bottom-color: var(--fill-color);\n",
              "    }\n",
              "    90% {\n",
              "      border-color: transparent;\n",
              "      border-bottom-color: var(--fill-color);\n",
              "    }\n",
              "  }\n",
              "</style>\n",
              "\n",
              "      <script>\n",
              "        async function quickchart(key) {\n",
              "          const quickchartButtonEl =\n",
              "            document.querySelector('#' + key + ' button');\n",
              "          quickchartButtonEl.disabled = true;  // To prevent multiple clicks.\n",
              "          quickchartButtonEl.classList.add('colab-df-spinner');\n",
              "          try {\n",
              "            const charts = await google.colab.kernel.invokeFunction(\n",
              "                'suggestCharts', [key], {});\n",
              "          } catch (error) {\n",
              "            console.error('Error during call to suggestCharts:', error);\n",
              "          }\n",
              "          quickchartButtonEl.classList.remove('colab-df-spinner');\n",
              "          quickchartButtonEl.classList.add('colab-df-quickchart-complete');\n",
              "        }\n",
              "        (() => {\n",
              "          let quickchartButtonEl =\n",
              "            document.querySelector('#df-6bddb083-cc46-41b9-b2cf-0640d5b2cb4e button');\n",
              "          quickchartButtonEl.style.display =\n",
              "            google.colab.kernel.accessAllowed ? 'block' : 'none';\n",
              "        })();\n",
              "      </script>\n",
              "    </div>\n",
              "    </div>\n",
              "  </div>\n"
            ],
            "application/vnd.google.colaboratory.intrinsic+json": {
              "type": "dataframe",
              "variable_name": "df_users"
            }
          },
          "metadata": {},
          "execution_count": 10
        }
      ],
      "source": [
        "df_users.head(5)"
      ]
    },
    {
      "cell_type": "code",
      "execution_count": 11,
      "metadata": {
        "colab": {
          "base_uri": "https://localhost:8080/"
        },
        "id": "MiVH5n4j8_s9",
        "outputId": "07eddbbf-d46c-4050-c235-d42d1e6154dd"
      },
      "outputs": [
        {
          "output_type": "stream",
          "name": "stdout",
          "text": [
            "<class 'pandas.core.frame.DataFrame'>\n",
            "RangeIndex: 168039 entries, 0 to 168038\n",
            "Data columns (total 5 columns):\n",
            " #   Column    Non-Null Count   Dtype \n",
            "---  ------    --------------   ----- \n",
            " 0   user_id   168039 non-null  int64 \n",
            " 1   age       165245 non-null  object\n",
            " 2   income    165152 non-null  object\n",
            " 3   sex       165323 non-null  object\n",
            " 4   kids_flg  168039 non-null  int64 \n",
            "dtypes: int64(2), object(3)\n",
            "memory usage: 6.4+ MB\n"
          ]
        }
      ],
      "source": [
        "df_users.info()"
      ]
    },
    {
      "cell_type": "code",
      "execution_count": 12,
      "metadata": {
        "colab": {
          "base_uri": "https://localhost:8080/"
        },
        "id": "0BE5XZas33VD",
        "outputId": "9c32e997-caaf-4419-e099-b436f5d17a5a"
      },
      "outputs": [
        {
          "output_type": "stream",
          "name": "stdout",
          "text": [
            "5476251\n",
            "5476250\n"
          ]
        }
      ],
      "source": [
        "df_interactions['last_watch_dt'] = pd.to_datetime(df_interactions['last_watch_dt'])\n",
        "print(len(df_interactions))\n",
        "df_interactions.drop(df_interactions.tail(1).index,inplace=True)\n",
        "print(len(df_interactions))\n",
        "df_interactions = df_interactions.assign(reallyWatched = df_interactions['watched_pct'] >= 10.0)"
      ]
    },
    {
      "cell_type": "code",
      "source": [
        "uniq_users = df_users['user_id'].unique()\n",
        "uniq_items = df_items['item_id'].unique()"
      ],
      "metadata": {
        "id": "C3sBVvD3KN1R"
      },
      "execution_count": 13,
      "outputs": []
    },
    {
      "cell_type": "code",
      "source": [
        "len(df_interactions)"
      ],
      "metadata": {
        "colab": {
          "base_uri": "https://localhost:8080/"
        },
        "id": "gXj345rrLQqw",
        "outputId": "40196514-545b-4ee4-dcce-7d620e76db1a"
      },
      "execution_count": 14,
      "outputs": [
        {
          "output_type": "execute_result",
          "data": {
            "text/plain": [
              "5476250"
            ]
          },
          "metadata": {},
          "execution_count": 14
        }
      ]
    },
    {
      "cell_type": "code",
      "source": [
        "df_interactions = df_interactions[df_interactions['user_id'].isin(df_users['user_id']) & df_interactions['item_id'].isin(df_items['item_id'])]"
      ],
      "metadata": {
        "id": "vdH562BRQvAs"
      },
      "execution_count": 15,
      "outputs": []
    },
    {
      "cell_type": "code",
      "source": [
        "len(df_interactions)"
      ],
      "metadata": {
        "colab": {
          "base_uri": "https://localhost:8080/"
        },
        "id": "vmiXoTSeLTR1",
        "outputId": "ad37aad8-0291-4aef-ef33-fdb31d09c397"
      },
      "execution_count": 16,
      "outputs": [
        {
          "output_type": "execute_result",
          "data": {
            "text/plain": [
              "197782"
            ]
          },
          "metadata": {},
          "execution_count": 16
        }
      ]
    },
    {
      "cell_type": "code",
      "execution_count": 17,
      "metadata": {
        "colab": {
          "base_uri": "https://localhost:8080/",
          "height": 206
        },
        "id": "wpI98lDF5ctR",
        "outputId": "74f9b186-d1cf-42ed-e9c9-2b78f4894ce7"
      },
      "outputs": [
        {
          "output_type": "execute_result",
          "data": {
            "text/plain": [
              "     user_id  item_id last_watch_dt  total_dur  watched_pct  reallyWatched\n",
              "48    568405    15297    2021-07-30      15298        100.0           True\n",
              "83    154102    12299    2021-08-01        940         12.0           True\n",
              "145   141072     7308    2021-07-10       8657        100.0           True\n",
              "157   827032     6979    2021-05-26       6133        100.0           True\n",
              "190   741742     7107    2021-05-16         11          0.0          False"
            ],
            "text/html": [
              "\n",
              "  <div id=\"df-a82def58-8983-4f38-9abe-a9dd2daab89c\" class=\"colab-df-container\">\n",
              "    <div>\n",
              "<style scoped>\n",
              "    .dataframe tbody tr th:only-of-type {\n",
              "        vertical-align: middle;\n",
              "    }\n",
              "\n",
              "    .dataframe tbody tr th {\n",
              "        vertical-align: top;\n",
              "    }\n",
              "\n",
              "    .dataframe thead th {\n",
              "        text-align: right;\n",
              "    }\n",
              "</style>\n",
              "<table border=\"1\" class=\"dataframe\">\n",
              "  <thead>\n",
              "    <tr style=\"text-align: right;\">\n",
              "      <th></th>\n",
              "      <th>user_id</th>\n",
              "      <th>item_id</th>\n",
              "      <th>last_watch_dt</th>\n",
              "      <th>total_dur</th>\n",
              "      <th>watched_pct</th>\n",
              "      <th>reallyWatched</th>\n",
              "    </tr>\n",
              "  </thead>\n",
              "  <tbody>\n",
              "    <tr>\n",
              "      <th>48</th>\n",
              "      <td>568405</td>\n",
              "      <td>15297</td>\n",
              "      <td>2021-07-30</td>\n",
              "      <td>15298</td>\n",
              "      <td>100.0</td>\n",
              "      <td>True</td>\n",
              "    </tr>\n",
              "    <tr>\n",
              "      <th>83</th>\n",
              "      <td>154102</td>\n",
              "      <td>12299</td>\n",
              "      <td>2021-08-01</td>\n",
              "      <td>940</td>\n",
              "      <td>12.0</td>\n",
              "      <td>True</td>\n",
              "    </tr>\n",
              "    <tr>\n",
              "      <th>145</th>\n",
              "      <td>141072</td>\n",
              "      <td>7308</td>\n",
              "      <td>2021-07-10</td>\n",
              "      <td>8657</td>\n",
              "      <td>100.0</td>\n",
              "      <td>True</td>\n",
              "    </tr>\n",
              "    <tr>\n",
              "      <th>157</th>\n",
              "      <td>827032</td>\n",
              "      <td>6979</td>\n",
              "      <td>2021-05-26</td>\n",
              "      <td>6133</td>\n",
              "      <td>100.0</td>\n",
              "      <td>True</td>\n",
              "    </tr>\n",
              "    <tr>\n",
              "      <th>190</th>\n",
              "      <td>741742</td>\n",
              "      <td>7107</td>\n",
              "      <td>2021-05-16</td>\n",
              "      <td>11</td>\n",
              "      <td>0.0</td>\n",
              "      <td>False</td>\n",
              "    </tr>\n",
              "  </tbody>\n",
              "</table>\n",
              "</div>\n",
              "    <div class=\"colab-df-buttons\">\n",
              "\n",
              "  <div class=\"colab-df-container\">\n",
              "    <button class=\"colab-df-convert\" onclick=\"convertToInteractive('df-a82def58-8983-4f38-9abe-a9dd2daab89c')\"\n",
              "            title=\"Convert this dataframe to an interactive table.\"\n",
              "            style=\"display:none;\">\n",
              "\n",
              "  <svg xmlns=\"http://www.w3.org/2000/svg\" height=\"24px\" viewBox=\"0 -960 960 960\">\n",
              "    <path d=\"M120-120v-720h720v720H120Zm60-500h600v-160H180v160Zm220 220h160v-160H400v160Zm0 220h160v-160H400v160ZM180-400h160v-160H180v160Zm440 0h160v-160H620v160ZM180-180h160v-160H180v160Zm440 0h160v-160H620v160Z\"/>\n",
              "  </svg>\n",
              "    </button>\n",
              "\n",
              "  <style>\n",
              "    .colab-df-container {\n",
              "      display:flex;\n",
              "      gap: 12px;\n",
              "    }\n",
              "\n",
              "    .colab-df-convert {\n",
              "      background-color: #E8F0FE;\n",
              "      border: none;\n",
              "      border-radius: 50%;\n",
              "      cursor: pointer;\n",
              "      display: none;\n",
              "      fill: #1967D2;\n",
              "      height: 32px;\n",
              "      padding: 0 0 0 0;\n",
              "      width: 32px;\n",
              "    }\n",
              "\n",
              "    .colab-df-convert:hover {\n",
              "      background-color: #E2EBFA;\n",
              "      box-shadow: 0px 1px 2px rgba(60, 64, 67, 0.3), 0px 1px 3px 1px rgba(60, 64, 67, 0.15);\n",
              "      fill: #174EA6;\n",
              "    }\n",
              "\n",
              "    .colab-df-buttons div {\n",
              "      margin-bottom: 4px;\n",
              "    }\n",
              "\n",
              "    [theme=dark] .colab-df-convert {\n",
              "      background-color: #3B4455;\n",
              "      fill: #D2E3FC;\n",
              "    }\n",
              "\n",
              "    [theme=dark] .colab-df-convert:hover {\n",
              "      background-color: #434B5C;\n",
              "      box-shadow: 0px 1px 3px 1px rgba(0, 0, 0, 0.15);\n",
              "      filter: drop-shadow(0px 1px 2px rgba(0, 0, 0, 0.3));\n",
              "      fill: #FFFFFF;\n",
              "    }\n",
              "  </style>\n",
              "\n",
              "    <script>\n",
              "      const buttonEl =\n",
              "        document.querySelector('#df-a82def58-8983-4f38-9abe-a9dd2daab89c button.colab-df-convert');\n",
              "      buttonEl.style.display =\n",
              "        google.colab.kernel.accessAllowed ? 'block' : 'none';\n",
              "\n",
              "      async function convertToInteractive(key) {\n",
              "        const element = document.querySelector('#df-a82def58-8983-4f38-9abe-a9dd2daab89c');\n",
              "        const dataTable =\n",
              "          await google.colab.kernel.invokeFunction('convertToInteractive',\n",
              "                                                    [key], {});\n",
              "        if (!dataTable) return;\n",
              "\n",
              "        const docLinkHtml = 'Like what you see? Visit the ' +\n",
              "          '<a target=\"_blank\" href=https://colab.research.google.com/notebooks/data_table.ipynb>data table notebook</a>'\n",
              "          + ' to learn more about interactive tables.';\n",
              "        element.innerHTML = '';\n",
              "        dataTable['output_type'] = 'display_data';\n",
              "        await google.colab.output.renderOutput(dataTable, element);\n",
              "        const docLink = document.createElement('div');\n",
              "        docLink.innerHTML = docLinkHtml;\n",
              "        element.appendChild(docLink);\n",
              "      }\n",
              "    </script>\n",
              "  </div>\n",
              "\n",
              "\n",
              "    <div id=\"df-6ac6272a-91ab-4edd-9a37-5065d3ac9e50\">\n",
              "      <button class=\"colab-df-quickchart\" onclick=\"quickchart('df-6ac6272a-91ab-4edd-9a37-5065d3ac9e50')\"\n",
              "                title=\"Suggest charts\"\n",
              "                style=\"display:none;\">\n",
              "\n",
              "<svg xmlns=\"http://www.w3.org/2000/svg\" height=\"24px\"viewBox=\"0 0 24 24\"\n",
              "     width=\"24px\">\n",
              "    <g>\n",
              "        <path d=\"M19 3H5c-1.1 0-2 .9-2 2v14c0 1.1.9 2 2 2h14c1.1 0 2-.9 2-2V5c0-1.1-.9-2-2-2zM9 17H7v-7h2v7zm4 0h-2V7h2v10zm4 0h-2v-4h2v4z\"/>\n",
              "    </g>\n",
              "</svg>\n",
              "      </button>\n",
              "\n",
              "<style>\n",
              "  .colab-df-quickchart {\n",
              "      --bg-color: #E8F0FE;\n",
              "      --fill-color: #1967D2;\n",
              "      --hover-bg-color: #E2EBFA;\n",
              "      --hover-fill-color: #174EA6;\n",
              "      --disabled-fill-color: #AAA;\n",
              "      --disabled-bg-color: #DDD;\n",
              "  }\n",
              "\n",
              "  [theme=dark] .colab-df-quickchart {\n",
              "      --bg-color: #3B4455;\n",
              "      --fill-color: #D2E3FC;\n",
              "      --hover-bg-color: #434B5C;\n",
              "      --hover-fill-color: #FFFFFF;\n",
              "      --disabled-bg-color: #3B4455;\n",
              "      --disabled-fill-color: #666;\n",
              "  }\n",
              "\n",
              "  .colab-df-quickchart {\n",
              "    background-color: var(--bg-color);\n",
              "    border: none;\n",
              "    border-radius: 50%;\n",
              "    cursor: pointer;\n",
              "    display: none;\n",
              "    fill: var(--fill-color);\n",
              "    height: 32px;\n",
              "    padding: 0;\n",
              "    width: 32px;\n",
              "  }\n",
              "\n",
              "  .colab-df-quickchart:hover {\n",
              "    background-color: var(--hover-bg-color);\n",
              "    box-shadow: 0 1px 2px rgba(60, 64, 67, 0.3), 0 1px 3px 1px rgba(60, 64, 67, 0.15);\n",
              "    fill: var(--button-hover-fill-color);\n",
              "  }\n",
              "\n",
              "  .colab-df-quickchart-complete:disabled,\n",
              "  .colab-df-quickchart-complete:disabled:hover {\n",
              "    background-color: var(--disabled-bg-color);\n",
              "    fill: var(--disabled-fill-color);\n",
              "    box-shadow: none;\n",
              "  }\n",
              "\n",
              "  .colab-df-spinner {\n",
              "    border: 2px solid var(--fill-color);\n",
              "    border-color: transparent;\n",
              "    border-bottom-color: var(--fill-color);\n",
              "    animation:\n",
              "      spin 1s steps(1) infinite;\n",
              "  }\n",
              "\n",
              "  @keyframes spin {\n",
              "    0% {\n",
              "      border-color: transparent;\n",
              "      border-bottom-color: var(--fill-color);\n",
              "      border-left-color: var(--fill-color);\n",
              "    }\n",
              "    20% {\n",
              "      border-color: transparent;\n",
              "      border-left-color: var(--fill-color);\n",
              "      border-top-color: var(--fill-color);\n",
              "    }\n",
              "    30% {\n",
              "      border-color: transparent;\n",
              "      border-left-color: var(--fill-color);\n",
              "      border-top-color: var(--fill-color);\n",
              "      border-right-color: var(--fill-color);\n",
              "    }\n",
              "    40% {\n",
              "      border-color: transparent;\n",
              "      border-right-color: var(--fill-color);\n",
              "      border-top-color: var(--fill-color);\n",
              "    }\n",
              "    60% {\n",
              "      border-color: transparent;\n",
              "      border-right-color: var(--fill-color);\n",
              "    }\n",
              "    80% {\n",
              "      border-color: transparent;\n",
              "      border-right-color: var(--fill-color);\n",
              "      border-bottom-color: var(--fill-color);\n",
              "    }\n",
              "    90% {\n",
              "      border-color: transparent;\n",
              "      border-bottom-color: var(--fill-color);\n",
              "    }\n",
              "  }\n",
              "</style>\n",
              "\n",
              "      <script>\n",
              "        async function quickchart(key) {\n",
              "          const quickchartButtonEl =\n",
              "            document.querySelector('#' + key + ' button');\n",
              "          quickchartButtonEl.disabled = true;  // To prevent multiple clicks.\n",
              "          quickchartButtonEl.classList.add('colab-df-spinner');\n",
              "          try {\n",
              "            const charts = await google.colab.kernel.invokeFunction(\n",
              "                'suggestCharts', [key], {});\n",
              "          } catch (error) {\n",
              "            console.error('Error during call to suggestCharts:', error);\n",
              "          }\n",
              "          quickchartButtonEl.classList.remove('colab-df-spinner');\n",
              "          quickchartButtonEl.classList.add('colab-df-quickchart-complete');\n",
              "        }\n",
              "        (() => {\n",
              "          let quickchartButtonEl =\n",
              "            document.querySelector('#df-6ac6272a-91ab-4edd-9a37-5065d3ac9e50 button');\n",
              "          quickchartButtonEl.style.display =\n",
              "            google.colab.kernel.accessAllowed ? 'block' : 'none';\n",
              "        })();\n",
              "      </script>\n",
              "    </div>\n",
              "    </div>\n",
              "  </div>\n"
            ],
            "application/vnd.google.colaboratory.intrinsic+json": {
              "type": "dataframe",
              "variable_name": "df_interactions"
            }
          },
          "metadata": {},
          "execution_count": 17
        }
      ],
      "source": [
        "df_interactions.head(5)"
      ]
    },
    {
      "cell_type": "code",
      "execution_count": 18,
      "metadata": {
        "colab": {
          "base_uri": "https://localhost:8080/"
        },
        "id": "R7V88D5e82c_",
        "outputId": "e4c0195d-c8bf-4ee8-f8d8-c03beba17a9d"
      },
      "outputs": [
        {
          "output_type": "stream",
          "name": "stdout",
          "text": [
            "<class 'pandas.core.frame.DataFrame'>\n",
            "Index: 197782 entries, 48 to 5476218\n",
            "Data columns (total 6 columns):\n",
            " #   Column         Non-Null Count   Dtype         \n",
            "---  ------         --------------   -----         \n",
            " 0   user_id        197782 non-null  int64         \n",
            " 1   item_id        197782 non-null  int64         \n",
            " 2   last_watch_dt  197782 non-null  datetime64[ns]\n",
            " 3   total_dur      197782 non-null  int64         \n",
            " 4   watched_pct    197781 non-null  float64       \n",
            " 5   reallyWatched  197782 non-null  bool          \n",
            "dtypes: bool(1), datetime64[ns](1), float64(1), int64(3)\n",
            "memory usage: 9.2 MB\n"
          ]
        }
      ],
      "source": [
        "df_interactions.info()"
      ]
    },
    {
      "cell_type": "markdown",
      "metadata": {
        "id": "qJtztRID8xdP"
      },
      "source": [
        "#Сформировать набор данных"
      ]
    },
    {
      "cell_type": "code",
      "execution_count": 19,
      "metadata": {
        "id": "T8nUuyVQ_ks5"
      },
      "outputs": [],
      "source": [
        "# параметр K\n",
        "k = 10\n",
        "\n",
        "test_size_days = 7\n",
        "dateColumnName = \"last_watch_dt\"\n",
        "userColumnName = \"user_id\"\n",
        "watchdPrcntColumnName = \"watched_pct\"\n",
        "itemIdColumnName = \"item_id\"\n",
        "totalDurColumnName = \"total_dur\"\n",
        "reallyWatchedColumn = \"reallyWatched\""
      ]
    },
    {
      "cell_type": "code",
      "execution_count": 20,
      "metadata": {
        "id": "1A-s61tQ-YHd"
      },
      "outputs": [],
      "source": [
        "from datetime import datetime, timedelta\n",
        "\n",
        "# Получение даты с которой начинается тестовый набор\n",
        "def getLastWeekFirstDay(lastDate, test_size_days=7):\n",
        "    return lastDate - timedelta(days=(test_size_days-1))"
      ]
    },
    {
      "cell_type": "code",
      "execution_count": 21,
      "metadata": {
        "id": "bBTodkJPBPTx"
      },
      "outputs": [],
      "source": [
        "# получение тренировочного и тестового наборов по дням\n",
        "def splitByLastDate(df_interactions, test_size_days = 7):\n",
        "  # Получаем последнюю дату\n",
        "  maxDate = df_interactions[dateColumnName].max()\n",
        "  lastWeekFirstDate = getLastWeekFirstDay(maxDate, test_size_days)\n",
        "  print(lastWeekFirstDate)\n",
        "  data_train = df_interactions[df_interactions[dateColumnName] < lastWeekFirstDate]\n",
        "  data_test = df_interactions[df_interactions[dateColumnName] >= lastWeekFirstDate]\n",
        "  return data_train, data_test"
      ]
    },
    {
      "cell_type": "code",
      "execution_count": 22,
      "metadata": {
        "colab": {
          "base_uri": "https://localhost:8080/"
        },
        "id": "RsynGF3LDWpY",
        "outputId": "9583e359-1a4d-4114-fe70-92a1dcd6b41c"
      },
      "outputs": [
        {
          "output_type": "stream",
          "name": "stdout",
          "text": [
            "2021-08-16 00:00:00\n"
          ]
        }
      ],
      "source": [
        "df_interactions_train, df_interactions_test = splitByLastDate(df_interactions, test_size_days)"
      ]
    },
    {
      "cell_type": "code",
      "execution_count": 23,
      "metadata": {
        "colab": {
          "base_uri": "https://localhost:8080/"
        },
        "id": "mSmdxEC1G_Xv",
        "outputId": "9199da4c-6379-4eec-c590-369f5c28be2d"
      },
      "outputs": [
        {
          "output_type": "stream",
          "name": "stdout",
          "text": [
            "<class 'pandas.core.frame.DataFrame'>\n",
            "Index: 13762 entries, 438 to 5475997\n",
            "Data columns (total 6 columns):\n",
            " #   Column         Non-Null Count  Dtype         \n",
            "---  ------         --------------  -----         \n",
            " 0   user_id        13762 non-null  int64         \n",
            " 1   item_id        13762 non-null  int64         \n",
            " 2   last_watch_dt  13762 non-null  datetime64[ns]\n",
            " 3   total_dur      13762 non-null  int64         \n",
            " 4   watched_pct    13762 non-null  float64       \n",
            " 5   reallyWatched  13762 non-null  bool          \n",
            "dtypes: bool(1), datetime64[ns](1), float64(1), int64(3)\n",
            "memory usage: 658.5 KB\n"
          ]
        }
      ],
      "source": [
        "df_interactions_test.info()"
      ]
    },
    {
      "cell_type": "code",
      "execution_count": 24,
      "metadata": {
        "colab": {
          "base_uri": "https://localhost:8080/"
        },
        "id": "bZ725WBAG5Ic",
        "outputId": "18437091-f5bf-4156-9902-c7317fd335ab"
      },
      "outputs": [
        {
          "output_type": "stream",
          "name": "stdout",
          "text": [
            "<class 'pandas.core.frame.DataFrame'>\n",
            "Index: 184020 entries, 48 to 5476218\n",
            "Data columns (total 6 columns):\n",
            " #   Column         Non-Null Count   Dtype         \n",
            "---  ------         --------------   -----         \n",
            " 0   user_id        184020 non-null  int64         \n",
            " 1   item_id        184020 non-null  int64         \n",
            " 2   last_watch_dt  184020 non-null  datetime64[ns]\n",
            " 3   total_dur      184020 non-null  int64         \n",
            " 4   watched_pct    184019 non-null  float64       \n",
            " 5   reallyWatched  184020 non-null  bool          \n",
            "dtypes: bool(1), datetime64[ns](1), float64(1), int64(3)\n",
            "memory usage: 8.6 MB\n"
          ]
        }
      ],
      "source": [
        "df_interactions_train.info()"
      ]
    },
    {
      "cell_type": "code",
      "execution_count": 25,
      "metadata": {
        "id": "W0tSSH0Qmw46"
      },
      "outputs": [],
      "source": [
        "def filter_userInteractions(df):\n",
        "  # df_Temp = df.copy()\n",
        "  # df_Temp[\"grouped\"] = df.groupby(userColumnName)[itemIdColumnName].unique().reset_index()\n",
        "  df_Temp = df.groupby(userColumnName)[itemIdColumnName].unique().reset_index()\n",
        "  df_Temp.columns = [userColumnName, itemIdColumnName]\n",
        "  filtered_df_Temp = df_Temp[df_Temp[itemIdColumnName].apply(lambda x: len(x)>2)]\n",
        "  unique_users = filtered_df_Temp[userColumnName].unique()\n",
        "  print(len(unique_users))\n",
        "  print(filtered_df_Temp.head())\n",
        "  print(df.head())\n",
        "  return df[df[userColumnName].isin(unique_users)]\n",
        "\n"
      ]
    },
    {
      "cell_type": "code",
      "source": [
        "df_interactions_train_orig = df_interactions_train.copy()\n",
        "df_interactions_test_orig = df_interactions_test.copy()"
      ],
      "metadata": {
        "id": "rWvXmfwxOopv"
      },
      "execution_count": 26,
      "outputs": []
    },
    {
      "cell_type": "code",
      "execution_count": 27,
      "metadata": {
        "colab": {
          "base_uri": "https://localhost:8080/"
        },
        "id": "qqD3taSmnat6",
        "outputId": "7bfe46e7-973b-4276-edac-997b4993f101"
      },
      "outputs": [
        {
          "output_type": "stream",
          "name": "stdout",
          "text": [
            "20544\n",
            "    user_id                      item_id\n",
            "6        46  [15399, 12245, 4880, 10440]\n",
            "7        53         [7571, 15297, 10440]\n",
            "12      131  [10440, 12096, 6501, 15297]\n",
            "17      175        [10440, 12812, 15297]\n",
            "18      191         [10732, 11756, 4878]\n",
            "     user_id  item_id last_watch_dt  total_dur  watched_pct  reallyWatched\n",
            "48    568405    15297    2021-07-30      15298        100.0           True\n",
            "83    154102    12299    2021-08-01        940         12.0           True\n",
            "145   141072     7308    2021-07-10       8657        100.0           True\n",
            "157   827032     6979    2021-05-26       6133        100.0           True\n",
            "190   741742     7107    2021-05-16         11          0.0          False\n"
          ]
        }
      ],
      "source": [
        "df_interactions_train = filter_userInteractions(df_interactions_train_orig)\n"
      ]
    },
    {
      "cell_type": "code",
      "execution_count": 28,
      "metadata": {
        "colab": {
          "base_uri": "https://localhost:8080/"
        },
        "id": "teJGgJrooDk-",
        "outputId": "f0b0e04f-f2c0-4082-86ed-ccf20423a2ea"
      },
      "outputs": [
        {
          "output_type": "stream",
          "name": "stdout",
          "text": [
            "757\n",
            "    user_id                     item_id\n",
            "12     1140  [3306, 8140, 14916, 13615]\n",
            "29     3272         [7476, 11216, 5732]\n",
            "34     4085        [14111, 6668, 10994]\n",
            "36     4176        [11018, 14087, 4880]\n",
            "46     5477  [10515, 7571, 1743, 10797]\n",
            "      user_id  item_id last_watch_dt  total_dur  watched_pct  reallyWatched\n",
            "438    711018    16228    2021-08-21       1963          3.0          False\n",
            "633     73094    15297    2021-08-20      16643         88.0           True\n",
            "647    663761    15297    2021-08-19        636          0.0          False\n",
            "869    323487    10774    2021-08-19        805        100.0           True\n",
            "1507   864272     5453    2021-08-19          9          0.0          False\n"
          ]
        }
      ],
      "source": [
        "df_interactions_test = filter_userInteractions(df_interactions_test_orig)"
      ]
    },
    {
      "cell_type": "code",
      "execution_count": 29,
      "metadata": {
        "colab": {
          "base_uri": "https://localhost:8080/"
        },
        "id": "b7Xsav3HwDwI",
        "outputId": "c9a234a1-c9dd-4e4a-9297-5024b6d65e70"
      },
      "outputs": [
        {
          "output_type": "stream",
          "name": "stdout",
          "text": [
            "<class 'pandas.core.frame.DataFrame'>\n",
            "Index: 2823 entries, 3609 to 5474168\n",
            "Data columns (total 6 columns):\n",
            " #   Column         Non-Null Count  Dtype         \n",
            "---  ------         --------------  -----         \n",
            " 0   user_id        2823 non-null   int64         \n",
            " 1   item_id        2823 non-null   int64         \n",
            " 2   last_watch_dt  2823 non-null   datetime64[ns]\n",
            " 3   total_dur      2823 non-null   int64         \n",
            " 4   watched_pct    2823 non-null   float64       \n",
            " 5   reallyWatched  2823 non-null   bool          \n",
            "dtypes: bool(1), datetime64[ns](1), float64(1), int64(3)\n",
            "memory usage: 135.1 KB\n"
          ]
        }
      ],
      "source": [
        "df_interactions_test.info()"
      ]
    },
    {
      "cell_type": "code",
      "execution_count": 30,
      "metadata": {
        "colab": {
          "base_uri": "https://localhost:8080/"
        },
        "id": "KauU8M_8wDwJ",
        "outputId": "0fe50243-b8ed-4e07-aaee-963888bc1128"
      },
      "outputs": [
        {
          "output_type": "stream",
          "name": "stdout",
          "text": [
            "<class 'pandas.core.frame.DataFrame'>\n",
            "Index: 107245 entries, 83 to 5476218\n",
            "Data columns (total 6 columns):\n",
            " #   Column         Non-Null Count   Dtype         \n",
            "---  ------         --------------   -----         \n",
            " 0   user_id        107245 non-null  int64         \n",
            " 1   item_id        107245 non-null  int64         \n",
            " 2   last_watch_dt  107245 non-null  datetime64[ns]\n",
            " 3   total_dur      107245 non-null  int64         \n",
            " 4   watched_pct    107244 non-null  float64       \n",
            " 5   reallyWatched  107245 non-null  bool          \n",
            "dtypes: bool(1), datetime64[ns](1), float64(1), int64(3)\n",
            "memory usage: 5.0 MB\n"
          ]
        }
      ],
      "source": [
        "df_interactions_train.info()"
      ]
    },
    {
      "cell_type": "code",
      "source": [
        "df_interactions_test.head()"
      ],
      "metadata": {
        "colab": {
          "base_uri": "https://localhost:8080/",
          "height": 206
        },
        "id": "6rNmchEQL6Kq",
        "outputId": "6a5f0016-0beb-46da-cb8d-e60b88ad37c4"
      },
      "execution_count": 31,
      "outputs": [
        {
          "output_type": "execute_result",
          "data": {
            "text/plain": [
              "       user_id  item_id last_watch_dt  total_dur  watched_pct  reallyWatched\n",
              "3609    812384    16087    2021-08-21       2013         31.0           True\n",
              "8990    228025     5411    2021-08-21        812         15.0           True\n",
              "11605   424980    16152    2021-08-16         16          0.0          False\n",
              "13064   340304     3463    2021-08-20       1031         16.0           True\n",
              "13312   757876     2500    2021-08-16         48          1.0          False"
            ],
            "text/html": [
              "\n",
              "  <div id=\"df-c17b3c91-2a21-44ef-9198-d3c9ff8b1d46\" class=\"colab-df-container\">\n",
              "    <div>\n",
              "<style scoped>\n",
              "    .dataframe tbody tr th:only-of-type {\n",
              "        vertical-align: middle;\n",
              "    }\n",
              "\n",
              "    .dataframe tbody tr th {\n",
              "        vertical-align: top;\n",
              "    }\n",
              "\n",
              "    .dataframe thead th {\n",
              "        text-align: right;\n",
              "    }\n",
              "</style>\n",
              "<table border=\"1\" class=\"dataframe\">\n",
              "  <thead>\n",
              "    <tr style=\"text-align: right;\">\n",
              "      <th></th>\n",
              "      <th>user_id</th>\n",
              "      <th>item_id</th>\n",
              "      <th>last_watch_dt</th>\n",
              "      <th>total_dur</th>\n",
              "      <th>watched_pct</th>\n",
              "      <th>reallyWatched</th>\n",
              "    </tr>\n",
              "  </thead>\n",
              "  <tbody>\n",
              "    <tr>\n",
              "      <th>3609</th>\n",
              "      <td>812384</td>\n",
              "      <td>16087</td>\n",
              "      <td>2021-08-21</td>\n",
              "      <td>2013</td>\n",
              "      <td>31.0</td>\n",
              "      <td>True</td>\n",
              "    </tr>\n",
              "    <tr>\n",
              "      <th>8990</th>\n",
              "      <td>228025</td>\n",
              "      <td>5411</td>\n",
              "      <td>2021-08-21</td>\n",
              "      <td>812</td>\n",
              "      <td>15.0</td>\n",
              "      <td>True</td>\n",
              "    </tr>\n",
              "    <tr>\n",
              "      <th>11605</th>\n",
              "      <td>424980</td>\n",
              "      <td>16152</td>\n",
              "      <td>2021-08-16</td>\n",
              "      <td>16</td>\n",
              "      <td>0.0</td>\n",
              "      <td>False</td>\n",
              "    </tr>\n",
              "    <tr>\n",
              "      <th>13064</th>\n",
              "      <td>340304</td>\n",
              "      <td>3463</td>\n",
              "      <td>2021-08-20</td>\n",
              "      <td>1031</td>\n",
              "      <td>16.0</td>\n",
              "      <td>True</td>\n",
              "    </tr>\n",
              "    <tr>\n",
              "      <th>13312</th>\n",
              "      <td>757876</td>\n",
              "      <td>2500</td>\n",
              "      <td>2021-08-16</td>\n",
              "      <td>48</td>\n",
              "      <td>1.0</td>\n",
              "      <td>False</td>\n",
              "    </tr>\n",
              "  </tbody>\n",
              "</table>\n",
              "</div>\n",
              "    <div class=\"colab-df-buttons\">\n",
              "\n",
              "  <div class=\"colab-df-container\">\n",
              "    <button class=\"colab-df-convert\" onclick=\"convertToInteractive('df-c17b3c91-2a21-44ef-9198-d3c9ff8b1d46')\"\n",
              "            title=\"Convert this dataframe to an interactive table.\"\n",
              "            style=\"display:none;\">\n",
              "\n",
              "  <svg xmlns=\"http://www.w3.org/2000/svg\" height=\"24px\" viewBox=\"0 -960 960 960\">\n",
              "    <path d=\"M120-120v-720h720v720H120Zm60-500h600v-160H180v160Zm220 220h160v-160H400v160Zm0 220h160v-160H400v160ZM180-400h160v-160H180v160Zm440 0h160v-160H620v160ZM180-180h160v-160H180v160Zm440 0h160v-160H620v160Z\"/>\n",
              "  </svg>\n",
              "    </button>\n",
              "\n",
              "  <style>\n",
              "    .colab-df-container {\n",
              "      display:flex;\n",
              "      gap: 12px;\n",
              "    }\n",
              "\n",
              "    .colab-df-convert {\n",
              "      background-color: #E8F0FE;\n",
              "      border: none;\n",
              "      border-radius: 50%;\n",
              "      cursor: pointer;\n",
              "      display: none;\n",
              "      fill: #1967D2;\n",
              "      height: 32px;\n",
              "      padding: 0 0 0 0;\n",
              "      width: 32px;\n",
              "    }\n",
              "\n",
              "    .colab-df-convert:hover {\n",
              "      background-color: #E2EBFA;\n",
              "      box-shadow: 0px 1px 2px rgba(60, 64, 67, 0.3), 0px 1px 3px 1px rgba(60, 64, 67, 0.15);\n",
              "      fill: #174EA6;\n",
              "    }\n",
              "\n",
              "    .colab-df-buttons div {\n",
              "      margin-bottom: 4px;\n",
              "    }\n",
              "\n",
              "    [theme=dark] .colab-df-convert {\n",
              "      background-color: #3B4455;\n",
              "      fill: #D2E3FC;\n",
              "    }\n",
              "\n",
              "    [theme=dark] .colab-df-convert:hover {\n",
              "      background-color: #434B5C;\n",
              "      box-shadow: 0px 1px 3px 1px rgba(0, 0, 0, 0.15);\n",
              "      filter: drop-shadow(0px 1px 2px rgba(0, 0, 0, 0.3));\n",
              "      fill: #FFFFFF;\n",
              "    }\n",
              "  </style>\n",
              "\n",
              "    <script>\n",
              "      const buttonEl =\n",
              "        document.querySelector('#df-c17b3c91-2a21-44ef-9198-d3c9ff8b1d46 button.colab-df-convert');\n",
              "      buttonEl.style.display =\n",
              "        google.colab.kernel.accessAllowed ? 'block' : 'none';\n",
              "\n",
              "      async function convertToInteractive(key) {\n",
              "        const element = document.querySelector('#df-c17b3c91-2a21-44ef-9198-d3c9ff8b1d46');\n",
              "        const dataTable =\n",
              "          await google.colab.kernel.invokeFunction('convertToInteractive',\n",
              "                                                    [key], {});\n",
              "        if (!dataTable) return;\n",
              "\n",
              "        const docLinkHtml = 'Like what you see? Visit the ' +\n",
              "          '<a target=\"_blank\" href=https://colab.research.google.com/notebooks/data_table.ipynb>data table notebook</a>'\n",
              "          + ' to learn more about interactive tables.';\n",
              "        element.innerHTML = '';\n",
              "        dataTable['output_type'] = 'display_data';\n",
              "        await google.colab.output.renderOutput(dataTable, element);\n",
              "        const docLink = document.createElement('div');\n",
              "        docLink.innerHTML = docLinkHtml;\n",
              "        element.appendChild(docLink);\n",
              "      }\n",
              "    </script>\n",
              "  </div>\n",
              "\n",
              "\n",
              "    <div id=\"df-4d47f443-669c-4f2a-8181-fcc4f2c84dd9\">\n",
              "      <button class=\"colab-df-quickchart\" onclick=\"quickchart('df-4d47f443-669c-4f2a-8181-fcc4f2c84dd9')\"\n",
              "                title=\"Suggest charts\"\n",
              "                style=\"display:none;\">\n",
              "\n",
              "<svg xmlns=\"http://www.w3.org/2000/svg\" height=\"24px\"viewBox=\"0 0 24 24\"\n",
              "     width=\"24px\">\n",
              "    <g>\n",
              "        <path d=\"M19 3H5c-1.1 0-2 .9-2 2v14c0 1.1.9 2 2 2h14c1.1 0 2-.9 2-2V5c0-1.1-.9-2-2-2zM9 17H7v-7h2v7zm4 0h-2V7h2v10zm4 0h-2v-4h2v4z\"/>\n",
              "    </g>\n",
              "</svg>\n",
              "      </button>\n",
              "\n",
              "<style>\n",
              "  .colab-df-quickchart {\n",
              "      --bg-color: #E8F0FE;\n",
              "      --fill-color: #1967D2;\n",
              "      --hover-bg-color: #E2EBFA;\n",
              "      --hover-fill-color: #174EA6;\n",
              "      --disabled-fill-color: #AAA;\n",
              "      --disabled-bg-color: #DDD;\n",
              "  }\n",
              "\n",
              "  [theme=dark] .colab-df-quickchart {\n",
              "      --bg-color: #3B4455;\n",
              "      --fill-color: #D2E3FC;\n",
              "      --hover-bg-color: #434B5C;\n",
              "      --hover-fill-color: #FFFFFF;\n",
              "      --disabled-bg-color: #3B4455;\n",
              "      --disabled-fill-color: #666;\n",
              "  }\n",
              "\n",
              "  .colab-df-quickchart {\n",
              "    background-color: var(--bg-color);\n",
              "    border: none;\n",
              "    border-radius: 50%;\n",
              "    cursor: pointer;\n",
              "    display: none;\n",
              "    fill: var(--fill-color);\n",
              "    height: 32px;\n",
              "    padding: 0;\n",
              "    width: 32px;\n",
              "  }\n",
              "\n",
              "  .colab-df-quickchart:hover {\n",
              "    background-color: var(--hover-bg-color);\n",
              "    box-shadow: 0 1px 2px rgba(60, 64, 67, 0.3), 0 1px 3px 1px rgba(60, 64, 67, 0.15);\n",
              "    fill: var(--button-hover-fill-color);\n",
              "  }\n",
              "\n",
              "  .colab-df-quickchart-complete:disabled,\n",
              "  .colab-df-quickchart-complete:disabled:hover {\n",
              "    background-color: var(--disabled-bg-color);\n",
              "    fill: var(--disabled-fill-color);\n",
              "    box-shadow: none;\n",
              "  }\n",
              "\n",
              "  .colab-df-spinner {\n",
              "    border: 2px solid var(--fill-color);\n",
              "    border-color: transparent;\n",
              "    border-bottom-color: var(--fill-color);\n",
              "    animation:\n",
              "      spin 1s steps(1) infinite;\n",
              "  }\n",
              "\n",
              "  @keyframes spin {\n",
              "    0% {\n",
              "      border-color: transparent;\n",
              "      border-bottom-color: var(--fill-color);\n",
              "      border-left-color: var(--fill-color);\n",
              "    }\n",
              "    20% {\n",
              "      border-color: transparent;\n",
              "      border-left-color: var(--fill-color);\n",
              "      border-top-color: var(--fill-color);\n",
              "    }\n",
              "    30% {\n",
              "      border-color: transparent;\n",
              "      border-left-color: var(--fill-color);\n",
              "      border-top-color: var(--fill-color);\n",
              "      border-right-color: var(--fill-color);\n",
              "    }\n",
              "    40% {\n",
              "      border-color: transparent;\n",
              "      border-right-color: var(--fill-color);\n",
              "      border-top-color: var(--fill-color);\n",
              "    }\n",
              "    60% {\n",
              "      border-color: transparent;\n",
              "      border-right-color: var(--fill-color);\n",
              "    }\n",
              "    80% {\n",
              "      border-color: transparent;\n",
              "      border-right-color: var(--fill-color);\n",
              "      border-bottom-color: var(--fill-color);\n",
              "    }\n",
              "    90% {\n",
              "      border-color: transparent;\n",
              "      border-bottom-color: var(--fill-color);\n",
              "    }\n",
              "  }\n",
              "</style>\n",
              "\n",
              "      <script>\n",
              "        async function quickchart(key) {\n",
              "          const quickchartButtonEl =\n",
              "            document.querySelector('#' + key + ' button');\n",
              "          quickchartButtonEl.disabled = true;  // To prevent multiple clicks.\n",
              "          quickchartButtonEl.classList.add('colab-df-spinner');\n",
              "          try {\n",
              "            const charts = await google.colab.kernel.invokeFunction(\n",
              "                'suggestCharts', [key], {});\n",
              "          } catch (error) {\n",
              "            console.error('Error during call to suggestCharts:', error);\n",
              "          }\n",
              "          quickchartButtonEl.classList.remove('colab-df-spinner');\n",
              "          quickchartButtonEl.classList.add('colab-df-quickchart-complete');\n",
              "        }\n",
              "        (() => {\n",
              "          let quickchartButtonEl =\n",
              "            document.querySelector('#df-4d47f443-669c-4f2a-8181-fcc4f2c84dd9 button');\n",
              "          quickchartButtonEl.style.display =\n",
              "            google.colab.kernel.accessAllowed ? 'block' : 'none';\n",
              "        })();\n",
              "      </script>\n",
              "    </div>\n",
              "    </div>\n",
              "  </div>\n"
            ],
            "application/vnd.google.colaboratory.intrinsic+json": {
              "type": "dataframe",
              "variable_name": "df_interactions_test",
              "summary": "{\n  \"name\": \"df_interactions_test\",\n  \"rows\": 2823,\n  \"fields\": [\n    {\n      \"column\": \"user_id\",\n      \"properties\": {\n        \"dtype\": \"number\",\n        \"std\": 312473,\n        \"min\": 1140,\n        \"max\": 1097127,\n        \"num_unique_values\": 757,\n        \"samples\": [\n          1056658,\n          272894,\n          238919\n        ],\n        \"semantic_type\": \"\",\n        \"description\": \"\"\n      }\n    },\n    {\n      \"column\": \"item_id\",\n      \"properties\": {\n        \"dtype\": \"number\",\n        \"std\": 4548,\n        \"min\": 14,\n        \"max\": 16499,\n        \"num_unique_values\": 564,\n        \"samples\": [\n          6454,\n          3141,\n          4583\n        ],\n        \"semantic_type\": \"\",\n        \"description\": \"\"\n      }\n    },\n    {\n      \"column\": \"last_watch_dt\",\n      \"properties\": {\n        \"dtype\": \"date\",\n        \"min\": \"2021-08-16 00:00:00\",\n        \"max\": \"2021-08-22 00:00:00\",\n        \"num_unique_values\": 7,\n        \"samples\": [\n          \"2021-08-21 00:00:00\",\n          \"2021-08-16 00:00:00\",\n          \"2021-08-18 00:00:00\"\n        ],\n        \"semantic_type\": \"\",\n        \"description\": \"\"\n      }\n    },\n    {\n      \"column\": \"total_dur\",\n      \"properties\": {\n        \"dtype\": \"number\",\n        \"std\": 23179,\n        \"min\": 1,\n        \"max\": 729558,\n        \"num_unique_values\": 2080,\n        \"samples\": [\n          28170,\n          1688,\n          3966\n        ],\n        \"semantic_type\": \"\",\n        \"description\": \"\"\n      }\n    },\n    {\n      \"column\": \"watched_pct\",\n      \"properties\": {\n        \"dtype\": \"number\",\n        \"std\": 39.454503472092114,\n        \"min\": 0.0,\n        \"max\": 100.0,\n        \"num_unique_values\": 101,\n        \"samples\": [\n          61.0,\n          89.0,\n          60.0\n        ],\n        \"semantic_type\": \"\",\n        \"description\": \"\"\n      }\n    },\n    {\n      \"column\": \"reallyWatched\",\n      \"properties\": {\n        \"dtype\": \"boolean\",\n        \"num_unique_values\": 2,\n        \"samples\": [\n          false,\n          true\n        ],\n        \"semantic_type\": \"\",\n        \"description\": \"\"\n      }\n    }\n  ]\n}"
            }
          },
          "metadata": {},
          "execution_count": 31
        }
      ]
    },
    {
      "cell_type": "code",
      "execution_count": 32,
      "metadata": {
        "id": "my8C9gojJFYT"
      },
      "outputs": [],
      "source": [
        "# достать уникальных пользователей из train\n",
        "train_unique_users = df_interactions_train[userColumnName].unique()\n",
        "test_unique_users = df_interactions_test[userColumnName].unique()\n",
        "\n",
        "test_unique_items = df_interactions_test[itemIdColumnName].unique()\n",
        "train_unique_items = df_interactions_train[itemIdColumnName].unique()"
      ]
    },
    {
      "cell_type": "code",
      "execution_count": 33,
      "metadata": {
        "colab": {
          "base_uri": "https://localhost:8080/"
        },
        "id": "Kl31yRtQMr0x",
        "outputId": "23109c4c-6a88-4d6f-82e2-d58131aa8dfa"
      },
      "outputs": [
        {
          "output_type": "execute_result",
          "data": {
            "text/plain": [
              "757"
            ]
          },
          "metadata": {},
          "execution_count": 33
        }
      ],
      "source": [
        "len(test_unique_users)"
      ]
    },
    {
      "cell_type": "code",
      "execution_count": 34,
      "metadata": {
        "id": "tIWeiikShK8t"
      },
      "outputs": [],
      "source": [
        "# отфильтровать валидные случаи\n",
        "user_tests_content_interaction = df_interactions_test[((df_interactions_test[reallyWatchedColumn] == True))]"
      ]
    },
    {
      "cell_type": "code",
      "execution_count": 35,
      "metadata": {
        "id": "9er-FJtQYLPE"
      },
      "outputs": [],
      "source": [
        "user_tests_content_interaction_Really = df_interactions_test[((df_interactions_test[reallyWatchedColumn] == True))]\n",
        "user_train_content_interaction_Really = df_interactions_train[((df_interactions_train[reallyWatchedColumn] == True))]"
      ]
    },
    {
      "cell_type": "code",
      "execution_count": 36,
      "metadata": {
        "id": "IA9PN2zXWt3Z"
      },
      "outputs": [],
      "source": [
        "test_unique_items_really = user_tests_content_interaction_Really[itemIdColumnName].unique()\n",
        "train_unique_items_really = user_train_content_interaction_Really[itemIdColumnName].unique()"
      ]
    },
    {
      "cell_type": "code",
      "execution_count": 37,
      "metadata": {
        "id": "6hqZRpdEOm99"
      },
      "outputs": [],
      "source": [
        "user_tests_content_interaction = df_interactions_test.groupby(userColumnName)[itemIdColumnName].unique().reset_index()"
      ]
    },
    {
      "cell_type": "code",
      "execution_count": 38,
      "metadata": {
        "id": "xAj1kk8yPJth"
      },
      "outputs": [],
      "source": [
        "user_tests_content_interaction.columns = [userColumnName, itemIdColumnName]"
      ]
    },
    {
      "cell_type": "code",
      "execution_count": 39,
      "metadata": {
        "colab": {
          "base_uri": "https://localhost:8080/",
          "height": 424
        },
        "id": "Ao6_ifSdPqX_",
        "outputId": "022bdee8-4665-4272-c682-f719b0a74ca9"
      },
      "outputs": [
        {
          "output_type": "execute_result",
          "data": {
            "text/plain": [
              "     user_id                                       item_id\n",
              "0       1140                    [3306, 8140, 14916, 13615]\n",
              "1       3272                           [7476, 11216, 5732]\n",
              "2       4085                          [14111, 6668, 10994]\n",
              "3       4176                          [11018, 14087, 4880]\n",
              "4       5477                    [10515, 7571, 1743, 10797]\n",
              "..       ...                                           ...\n",
              "752  1090766               [1333, 9352, 9787, 14916, 8140]\n",
              "753  1092910       [8986, 11756, 13464, 16087, 427, 12502]\n",
              "754  1094883  [13018, 6785, 2408, 7311, 13317, 7571, 8140]\n",
              "755  1095014                           [11697, 6006, 3768]\n",
              "756  1097127                          [15297, 15250, 6933]\n",
              "\n",
              "[757 rows x 2 columns]"
            ],
            "text/html": [
              "\n",
              "  <div id=\"df-af6c9f21-aa43-45e9-bda9-fa73471efe88\" class=\"colab-df-container\">\n",
              "    <div>\n",
              "<style scoped>\n",
              "    .dataframe tbody tr th:only-of-type {\n",
              "        vertical-align: middle;\n",
              "    }\n",
              "\n",
              "    .dataframe tbody tr th {\n",
              "        vertical-align: top;\n",
              "    }\n",
              "\n",
              "    .dataframe thead th {\n",
              "        text-align: right;\n",
              "    }\n",
              "</style>\n",
              "<table border=\"1\" class=\"dataframe\">\n",
              "  <thead>\n",
              "    <tr style=\"text-align: right;\">\n",
              "      <th></th>\n",
              "      <th>user_id</th>\n",
              "      <th>item_id</th>\n",
              "    </tr>\n",
              "  </thead>\n",
              "  <tbody>\n",
              "    <tr>\n",
              "      <th>0</th>\n",
              "      <td>1140</td>\n",
              "      <td>[3306, 8140, 14916, 13615]</td>\n",
              "    </tr>\n",
              "    <tr>\n",
              "      <th>1</th>\n",
              "      <td>3272</td>\n",
              "      <td>[7476, 11216, 5732]</td>\n",
              "    </tr>\n",
              "    <tr>\n",
              "      <th>2</th>\n",
              "      <td>4085</td>\n",
              "      <td>[14111, 6668, 10994]</td>\n",
              "    </tr>\n",
              "    <tr>\n",
              "      <th>3</th>\n",
              "      <td>4176</td>\n",
              "      <td>[11018, 14087, 4880]</td>\n",
              "    </tr>\n",
              "    <tr>\n",
              "      <th>4</th>\n",
              "      <td>5477</td>\n",
              "      <td>[10515, 7571, 1743, 10797]</td>\n",
              "    </tr>\n",
              "    <tr>\n",
              "      <th>...</th>\n",
              "      <td>...</td>\n",
              "      <td>...</td>\n",
              "    </tr>\n",
              "    <tr>\n",
              "      <th>752</th>\n",
              "      <td>1090766</td>\n",
              "      <td>[1333, 9352, 9787, 14916, 8140]</td>\n",
              "    </tr>\n",
              "    <tr>\n",
              "      <th>753</th>\n",
              "      <td>1092910</td>\n",
              "      <td>[8986, 11756, 13464, 16087, 427, 12502]</td>\n",
              "    </tr>\n",
              "    <tr>\n",
              "      <th>754</th>\n",
              "      <td>1094883</td>\n",
              "      <td>[13018, 6785, 2408, 7311, 13317, 7571, 8140]</td>\n",
              "    </tr>\n",
              "    <tr>\n",
              "      <th>755</th>\n",
              "      <td>1095014</td>\n",
              "      <td>[11697, 6006, 3768]</td>\n",
              "    </tr>\n",
              "    <tr>\n",
              "      <th>756</th>\n",
              "      <td>1097127</td>\n",
              "      <td>[15297, 15250, 6933]</td>\n",
              "    </tr>\n",
              "  </tbody>\n",
              "</table>\n",
              "<p>757 rows × 2 columns</p>\n",
              "</div>\n",
              "    <div class=\"colab-df-buttons\">\n",
              "\n",
              "  <div class=\"colab-df-container\">\n",
              "    <button class=\"colab-df-convert\" onclick=\"convertToInteractive('df-af6c9f21-aa43-45e9-bda9-fa73471efe88')\"\n",
              "            title=\"Convert this dataframe to an interactive table.\"\n",
              "            style=\"display:none;\">\n",
              "\n",
              "  <svg xmlns=\"http://www.w3.org/2000/svg\" height=\"24px\" viewBox=\"0 -960 960 960\">\n",
              "    <path d=\"M120-120v-720h720v720H120Zm60-500h600v-160H180v160Zm220 220h160v-160H400v160Zm0 220h160v-160H400v160ZM180-400h160v-160H180v160Zm440 0h160v-160H620v160ZM180-180h160v-160H180v160Zm440 0h160v-160H620v160Z\"/>\n",
              "  </svg>\n",
              "    </button>\n",
              "\n",
              "  <style>\n",
              "    .colab-df-container {\n",
              "      display:flex;\n",
              "      gap: 12px;\n",
              "    }\n",
              "\n",
              "    .colab-df-convert {\n",
              "      background-color: #E8F0FE;\n",
              "      border: none;\n",
              "      border-radius: 50%;\n",
              "      cursor: pointer;\n",
              "      display: none;\n",
              "      fill: #1967D2;\n",
              "      height: 32px;\n",
              "      padding: 0 0 0 0;\n",
              "      width: 32px;\n",
              "    }\n",
              "\n",
              "    .colab-df-convert:hover {\n",
              "      background-color: #E2EBFA;\n",
              "      box-shadow: 0px 1px 2px rgba(60, 64, 67, 0.3), 0px 1px 3px 1px rgba(60, 64, 67, 0.15);\n",
              "      fill: #174EA6;\n",
              "    }\n",
              "\n",
              "    .colab-df-buttons div {\n",
              "      margin-bottom: 4px;\n",
              "    }\n",
              "\n",
              "    [theme=dark] .colab-df-convert {\n",
              "      background-color: #3B4455;\n",
              "      fill: #D2E3FC;\n",
              "    }\n",
              "\n",
              "    [theme=dark] .colab-df-convert:hover {\n",
              "      background-color: #434B5C;\n",
              "      box-shadow: 0px 1px 3px 1px rgba(0, 0, 0, 0.15);\n",
              "      filter: drop-shadow(0px 1px 2px rgba(0, 0, 0, 0.3));\n",
              "      fill: #FFFFFF;\n",
              "    }\n",
              "  </style>\n",
              "\n",
              "    <script>\n",
              "      const buttonEl =\n",
              "        document.querySelector('#df-af6c9f21-aa43-45e9-bda9-fa73471efe88 button.colab-df-convert');\n",
              "      buttonEl.style.display =\n",
              "        google.colab.kernel.accessAllowed ? 'block' : 'none';\n",
              "\n",
              "      async function convertToInteractive(key) {\n",
              "        const element = document.querySelector('#df-af6c9f21-aa43-45e9-bda9-fa73471efe88');\n",
              "        const dataTable =\n",
              "          await google.colab.kernel.invokeFunction('convertToInteractive',\n",
              "                                                    [key], {});\n",
              "        if (!dataTable) return;\n",
              "\n",
              "        const docLinkHtml = 'Like what you see? Visit the ' +\n",
              "          '<a target=\"_blank\" href=https://colab.research.google.com/notebooks/data_table.ipynb>data table notebook</a>'\n",
              "          + ' to learn more about interactive tables.';\n",
              "        element.innerHTML = '';\n",
              "        dataTable['output_type'] = 'display_data';\n",
              "        await google.colab.output.renderOutput(dataTable, element);\n",
              "        const docLink = document.createElement('div');\n",
              "        docLink.innerHTML = docLinkHtml;\n",
              "        element.appendChild(docLink);\n",
              "      }\n",
              "    </script>\n",
              "  </div>\n",
              "\n",
              "\n",
              "    <div id=\"df-97d106c4-9cf2-402f-befc-9b540abf4893\">\n",
              "      <button class=\"colab-df-quickchart\" onclick=\"quickchart('df-97d106c4-9cf2-402f-befc-9b540abf4893')\"\n",
              "                title=\"Suggest charts\"\n",
              "                style=\"display:none;\">\n",
              "\n",
              "<svg xmlns=\"http://www.w3.org/2000/svg\" height=\"24px\"viewBox=\"0 0 24 24\"\n",
              "     width=\"24px\">\n",
              "    <g>\n",
              "        <path d=\"M19 3H5c-1.1 0-2 .9-2 2v14c0 1.1.9 2 2 2h14c1.1 0 2-.9 2-2V5c0-1.1-.9-2-2-2zM9 17H7v-7h2v7zm4 0h-2V7h2v10zm4 0h-2v-4h2v4z\"/>\n",
              "    </g>\n",
              "</svg>\n",
              "      </button>\n",
              "\n",
              "<style>\n",
              "  .colab-df-quickchart {\n",
              "      --bg-color: #E8F0FE;\n",
              "      --fill-color: #1967D2;\n",
              "      --hover-bg-color: #E2EBFA;\n",
              "      --hover-fill-color: #174EA6;\n",
              "      --disabled-fill-color: #AAA;\n",
              "      --disabled-bg-color: #DDD;\n",
              "  }\n",
              "\n",
              "  [theme=dark] .colab-df-quickchart {\n",
              "      --bg-color: #3B4455;\n",
              "      --fill-color: #D2E3FC;\n",
              "      --hover-bg-color: #434B5C;\n",
              "      --hover-fill-color: #FFFFFF;\n",
              "      --disabled-bg-color: #3B4455;\n",
              "      --disabled-fill-color: #666;\n",
              "  }\n",
              "\n",
              "  .colab-df-quickchart {\n",
              "    background-color: var(--bg-color);\n",
              "    border: none;\n",
              "    border-radius: 50%;\n",
              "    cursor: pointer;\n",
              "    display: none;\n",
              "    fill: var(--fill-color);\n",
              "    height: 32px;\n",
              "    padding: 0;\n",
              "    width: 32px;\n",
              "  }\n",
              "\n",
              "  .colab-df-quickchart:hover {\n",
              "    background-color: var(--hover-bg-color);\n",
              "    box-shadow: 0 1px 2px rgba(60, 64, 67, 0.3), 0 1px 3px 1px rgba(60, 64, 67, 0.15);\n",
              "    fill: var(--button-hover-fill-color);\n",
              "  }\n",
              "\n",
              "  .colab-df-quickchart-complete:disabled,\n",
              "  .colab-df-quickchart-complete:disabled:hover {\n",
              "    background-color: var(--disabled-bg-color);\n",
              "    fill: var(--disabled-fill-color);\n",
              "    box-shadow: none;\n",
              "  }\n",
              "\n",
              "  .colab-df-spinner {\n",
              "    border: 2px solid var(--fill-color);\n",
              "    border-color: transparent;\n",
              "    border-bottom-color: var(--fill-color);\n",
              "    animation:\n",
              "      spin 1s steps(1) infinite;\n",
              "  }\n",
              "\n",
              "  @keyframes spin {\n",
              "    0% {\n",
              "      border-color: transparent;\n",
              "      border-bottom-color: var(--fill-color);\n",
              "      border-left-color: var(--fill-color);\n",
              "    }\n",
              "    20% {\n",
              "      border-color: transparent;\n",
              "      border-left-color: var(--fill-color);\n",
              "      border-top-color: var(--fill-color);\n",
              "    }\n",
              "    30% {\n",
              "      border-color: transparent;\n",
              "      border-left-color: var(--fill-color);\n",
              "      border-top-color: var(--fill-color);\n",
              "      border-right-color: var(--fill-color);\n",
              "    }\n",
              "    40% {\n",
              "      border-color: transparent;\n",
              "      border-right-color: var(--fill-color);\n",
              "      border-top-color: var(--fill-color);\n",
              "    }\n",
              "    60% {\n",
              "      border-color: transparent;\n",
              "      border-right-color: var(--fill-color);\n",
              "    }\n",
              "    80% {\n",
              "      border-color: transparent;\n",
              "      border-right-color: var(--fill-color);\n",
              "      border-bottom-color: var(--fill-color);\n",
              "    }\n",
              "    90% {\n",
              "      border-color: transparent;\n",
              "      border-bottom-color: var(--fill-color);\n",
              "    }\n",
              "  }\n",
              "</style>\n",
              "\n",
              "      <script>\n",
              "        async function quickchart(key) {\n",
              "          const quickchartButtonEl =\n",
              "            document.querySelector('#' + key + ' button');\n",
              "          quickchartButtonEl.disabled = true;  // To prevent multiple clicks.\n",
              "          quickchartButtonEl.classList.add('colab-df-spinner');\n",
              "          try {\n",
              "            const charts = await google.colab.kernel.invokeFunction(\n",
              "                'suggestCharts', [key], {});\n",
              "          } catch (error) {\n",
              "            console.error('Error during call to suggestCharts:', error);\n",
              "          }\n",
              "          quickchartButtonEl.classList.remove('colab-df-spinner');\n",
              "          quickchartButtonEl.classList.add('colab-df-quickchart-complete');\n",
              "        }\n",
              "        (() => {\n",
              "          let quickchartButtonEl =\n",
              "            document.querySelector('#df-97d106c4-9cf2-402f-befc-9b540abf4893 button');\n",
              "          quickchartButtonEl.style.display =\n",
              "            google.colab.kernel.accessAllowed ? 'block' : 'none';\n",
              "        })();\n",
              "      </script>\n",
              "    </div>\n",
              "    </div>\n",
              "  </div>\n"
            ],
            "application/vnd.google.colaboratory.intrinsic+json": {
              "type": "dataframe",
              "variable_name": "user_tests_content_interaction",
              "summary": "{\n  \"name\": \"user_tests_content_interaction\",\n  \"rows\": 757,\n  \"fields\": [\n    {\n      \"column\": \"user_id\",\n      \"properties\": {\n        \"dtype\": \"number\",\n        \"std\": 314427,\n        \"min\": 1140,\n        \"max\": 1097127,\n        \"num_unique_values\": 757,\n        \"samples\": [\n          577823,\n          143679,\n          402269\n        ],\n        \"semantic_type\": \"\",\n        \"description\": \"\"\n      }\n    },\n    {\n      \"column\": \"item_id\",\n      \"properties\": {\n        \"dtype\": \"object\",\n        \"semantic_type\": \"\",\n        \"description\": \"\"\n      }\n    }\n  ]\n}"
            }
          },
          "metadata": {},
          "execution_count": 39
        }
      ],
      "source": [
        "user_tests_content_interaction"
      ]
    },
    {
      "cell_type": "code",
      "execution_count": 40,
      "metadata": {
        "id": "aR5FVBMklftR"
      },
      "outputs": [],
      "source": [
        "filtered_user_tests_content_interaction = user_tests_content_interaction[user_tests_content_interaction[itemIdColumnName].apply(lambda x: len(x)>1)]\n"
      ]
    },
    {
      "cell_type": "code",
      "execution_count": 41,
      "metadata": {
        "colab": {
          "base_uri": "https://localhost:8080/",
          "height": 424
        },
        "id": "TxyBlikfmUNf",
        "outputId": "ce5c92fc-20d1-4b24-c2bf-94e2f8c5fcaa"
      },
      "outputs": [
        {
          "output_type": "execute_result",
          "data": {
            "text/plain": [
              "     user_id                                       item_id\n",
              "0       1140                    [3306, 8140, 14916, 13615]\n",
              "1       3272                           [7476, 11216, 5732]\n",
              "2       4085                          [14111, 6668, 10994]\n",
              "3       4176                          [11018, 14087, 4880]\n",
              "4       5477                    [10515, 7571, 1743, 10797]\n",
              "..       ...                                           ...\n",
              "752  1090766               [1333, 9352, 9787, 14916, 8140]\n",
              "753  1092910       [8986, 11756, 13464, 16087, 427, 12502]\n",
              "754  1094883  [13018, 6785, 2408, 7311, 13317, 7571, 8140]\n",
              "755  1095014                           [11697, 6006, 3768]\n",
              "756  1097127                          [15297, 15250, 6933]\n",
              "\n",
              "[757 rows x 2 columns]"
            ],
            "text/html": [
              "\n",
              "  <div id=\"df-e1950687-a705-4324-9ccd-c3291d4254aa\" class=\"colab-df-container\">\n",
              "    <div>\n",
              "<style scoped>\n",
              "    .dataframe tbody tr th:only-of-type {\n",
              "        vertical-align: middle;\n",
              "    }\n",
              "\n",
              "    .dataframe tbody tr th {\n",
              "        vertical-align: top;\n",
              "    }\n",
              "\n",
              "    .dataframe thead th {\n",
              "        text-align: right;\n",
              "    }\n",
              "</style>\n",
              "<table border=\"1\" class=\"dataframe\">\n",
              "  <thead>\n",
              "    <tr style=\"text-align: right;\">\n",
              "      <th></th>\n",
              "      <th>user_id</th>\n",
              "      <th>item_id</th>\n",
              "    </tr>\n",
              "  </thead>\n",
              "  <tbody>\n",
              "    <tr>\n",
              "      <th>0</th>\n",
              "      <td>1140</td>\n",
              "      <td>[3306, 8140, 14916, 13615]</td>\n",
              "    </tr>\n",
              "    <tr>\n",
              "      <th>1</th>\n",
              "      <td>3272</td>\n",
              "      <td>[7476, 11216, 5732]</td>\n",
              "    </tr>\n",
              "    <tr>\n",
              "      <th>2</th>\n",
              "      <td>4085</td>\n",
              "      <td>[14111, 6668, 10994]</td>\n",
              "    </tr>\n",
              "    <tr>\n",
              "      <th>3</th>\n",
              "      <td>4176</td>\n",
              "      <td>[11018, 14087, 4880]</td>\n",
              "    </tr>\n",
              "    <tr>\n",
              "      <th>4</th>\n",
              "      <td>5477</td>\n",
              "      <td>[10515, 7571, 1743, 10797]</td>\n",
              "    </tr>\n",
              "    <tr>\n",
              "      <th>...</th>\n",
              "      <td>...</td>\n",
              "      <td>...</td>\n",
              "    </tr>\n",
              "    <tr>\n",
              "      <th>752</th>\n",
              "      <td>1090766</td>\n",
              "      <td>[1333, 9352, 9787, 14916, 8140]</td>\n",
              "    </tr>\n",
              "    <tr>\n",
              "      <th>753</th>\n",
              "      <td>1092910</td>\n",
              "      <td>[8986, 11756, 13464, 16087, 427, 12502]</td>\n",
              "    </tr>\n",
              "    <tr>\n",
              "      <th>754</th>\n",
              "      <td>1094883</td>\n",
              "      <td>[13018, 6785, 2408, 7311, 13317, 7571, 8140]</td>\n",
              "    </tr>\n",
              "    <tr>\n",
              "      <th>755</th>\n",
              "      <td>1095014</td>\n",
              "      <td>[11697, 6006, 3768]</td>\n",
              "    </tr>\n",
              "    <tr>\n",
              "      <th>756</th>\n",
              "      <td>1097127</td>\n",
              "      <td>[15297, 15250, 6933]</td>\n",
              "    </tr>\n",
              "  </tbody>\n",
              "</table>\n",
              "<p>757 rows × 2 columns</p>\n",
              "</div>\n",
              "    <div class=\"colab-df-buttons\">\n",
              "\n",
              "  <div class=\"colab-df-container\">\n",
              "    <button class=\"colab-df-convert\" onclick=\"convertToInteractive('df-e1950687-a705-4324-9ccd-c3291d4254aa')\"\n",
              "            title=\"Convert this dataframe to an interactive table.\"\n",
              "            style=\"display:none;\">\n",
              "\n",
              "  <svg xmlns=\"http://www.w3.org/2000/svg\" height=\"24px\" viewBox=\"0 -960 960 960\">\n",
              "    <path d=\"M120-120v-720h720v720H120Zm60-500h600v-160H180v160Zm220 220h160v-160H400v160Zm0 220h160v-160H400v160ZM180-400h160v-160H180v160Zm440 0h160v-160H620v160ZM180-180h160v-160H180v160Zm440 0h160v-160H620v160Z\"/>\n",
              "  </svg>\n",
              "    </button>\n",
              "\n",
              "  <style>\n",
              "    .colab-df-container {\n",
              "      display:flex;\n",
              "      gap: 12px;\n",
              "    }\n",
              "\n",
              "    .colab-df-convert {\n",
              "      background-color: #E8F0FE;\n",
              "      border: none;\n",
              "      border-radius: 50%;\n",
              "      cursor: pointer;\n",
              "      display: none;\n",
              "      fill: #1967D2;\n",
              "      height: 32px;\n",
              "      padding: 0 0 0 0;\n",
              "      width: 32px;\n",
              "    }\n",
              "\n",
              "    .colab-df-convert:hover {\n",
              "      background-color: #E2EBFA;\n",
              "      box-shadow: 0px 1px 2px rgba(60, 64, 67, 0.3), 0px 1px 3px 1px rgba(60, 64, 67, 0.15);\n",
              "      fill: #174EA6;\n",
              "    }\n",
              "\n",
              "    .colab-df-buttons div {\n",
              "      margin-bottom: 4px;\n",
              "    }\n",
              "\n",
              "    [theme=dark] .colab-df-convert {\n",
              "      background-color: #3B4455;\n",
              "      fill: #D2E3FC;\n",
              "    }\n",
              "\n",
              "    [theme=dark] .colab-df-convert:hover {\n",
              "      background-color: #434B5C;\n",
              "      box-shadow: 0px 1px 3px 1px rgba(0, 0, 0, 0.15);\n",
              "      filter: drop-shadow(0px 1px 2px rgba(0, 0, 0, 0.3));\n",
              "      fill: #FFFFFF;\n",
              "    }\n",
              "  </style>\n",
              "\n",
              "    <script>\n",
              "      const buttonEl =\n",
              "        document.querySelector('#df-e1950687-a705-4324-9ccd-c3291d4254aa button.colab-df-convert');\n",
              "      buttonEl.style.display =\n",
              "        google.colab.kernel.accessAllowed ? 'block' : 'none';\n",
              "\n",
              "      async function convertToInteractive(key) {\n",
              "        const element = document.querySelector('#df-e1950687-a705-4324-9ccd-c3291d4254aa');\n",
              "        const dataTable =\n",
              "          await google.colab.kernel.invokeFunction('convertToInteractive',\n",
              "                                                    [key], {});\n",
              "        if (!dataTable) return;\n",
              "\n",
              "        const docLinkHtml = 'Like what you see? Visit the ' +\n",
              "          '<a target=\"_blank\" href=https://colab.research.google.com/notebooks/data_table.ipynb>data table notebook</a>'\n",
              "          + ' to learn more about interactive tables.';\n",
              "        element.innerHTML = '';\n",
              "        dataTable['output_type'] = 'display_data';\n",
              "        await google.colab.output.renderOutput(dataTable, element);\n",
              "        const docLink = document.createElement('div');\n",
              "        docLink.innerHTML = docLinkHtml;\n",
              "        element.appendChild(docLink);\n",
              "      }\n",
              "    </script>\n",
              "  </div>\n",
              "\n",
              "\n",
              "    <div id=\"df-2c4569fd-3e94-427e-bb69-a2cac8cab27e\">\n",
              "      <button class=\"colab-df-quickchart\" onclick=\"quickchart('df-2c4569fd-3e94-427e-bb69-a2cac8cab27e')\"\n",
              "                title=\"Suggest charts\"\n",
              "                style=\"display:none;\">\n",
              "\n",
              "<svg xmlns=\"http://www.w3.org/2000/svg\" height=\"24px\"viewBox=\"0 0 24 24\"\n",
              "     width=\"24px\">\n",
              "    <g>\n",
              "        <path d=\"M19 3H5c-1.1 0-2 .9-2 2v14c0 1.1.9 2 2 2h14c1.1 0 2-.9 2-2V5c0-1.1-.9-2-2-2zM9 17H7v-7h2v7zm4 0h-2V7h2v10zm4 0h-2v-4h2v4z\"/>\n",
              "    </g>\n",
              "</svg>\n",
              "      </button>\n",
              "\n",
              "<style>\n",
              "  .colab-df-quickchart {\n",
              "      --bg-color: #E8F0FE;\n",
              "      --fill-color: #1967D2;\n",
              "      --hover-bg-color: #E2EBFA;\n",
              "      --hover-fill-color: #174EA6;\n",
              "      --disabled-fill-color: #AAA;\n",
              "      --disabled-bg-color: #DDD;\n",
              "  }\n",
              "\n",
              "  [theme=dark] .colab-df-quickchart {\n",
              "      --bg-color: #3B4455;\n",
              "      --fill-color: #D2E3FC;\n",
              "      --hover-bg-color: #434B5C;\n",
              "      --hover-fill-color: #FFFFFF;\n",
              "      --disabled-bg-color: #3B4455;\n",
              "      --disabled-fill-color: #666;\n",
              "  }\n",
              "\n",
              "  .colab-df-quickchart {\n",
              "    background-color: var(--bg-color);\n",
              "    border: none;\n",
              "    border-radius: 50%;\n",
              "    cursor: pointer;\n",
              "    display: none;\n",
              "    fill: var(--fill-color);\n",
              "    height: 32px;\n",
              "    padding: 0;\n",
              "    width: 32px;\n",
              "  }\n",
              "\n",
              "  .colab-df-quickchart:hover {\n",
              "    background-color: var(--hover-bg-color);\n",
              "    box-shadow: 0 1px 2px rgba(60, 64, 67, 0.3), 0 1px 3px 1px rgba(60, 64, 67, 0.15);\n",
              "    fill: var(--button-hover-fill-color);\n",
              "  }\n",
              "\n",
              "  .colab-df-quickchart-complete:disabled,\n",
              "  .colab-df-quickchart-complete:disabled:hover {\n",
              "    background-color: var(--disabled-bg-color);\n",
              "    fill: var(--disabled-fill-color);\n",
              "    box-shadow: none;\n",
              "  }\n",
              "\n",
              "  .colab-df-spinner {\n",
              "    border: 2px solid var(--fill-color);\n",
              "    border-color: transparent;\n",
              "    border-bottom-color: var(--fill-color);\n",
              "    animation:\n",
              "      spin 1s steps(1) infinite;\n",
              "  }\n",
              "\n",
              "  @keyframes spin {\n",
              "    0% {\n",
              "      border-color: transparent;\n",
              "      border-bottom-color: var(--fill-color);\n",
              "      border-left-color: var(--fill-color);\n",
              "    }\n",
              "    20% {\n",
              "      border-color: transparent;\n",
              "      border-left-color: var(--fill-color);\n",
              "      border-top-color: var(--fill-color);\n",
              "    }\n",
              "    30% {\n",
              "      border-color: transparent;\n",
              "      border-left-color: var(--fill-color);\n",
              "      border-top-color: var(--fill-color);\n",
              "      border-right-color: var(--fill-color);\n",
              "    }\n",
              "    40% {\n",
              "      border-color: transparent;\n",
              "      border-right-color: var(--fill-color);\n",
              "      border-top-color: var(--fill-color);\n",
              "    }\n",
              "    60% {\n",
              "      border-color: transparent;\n",
              "      border-right-color: var(--fill-color);\n",
              "    }\n",
              "    80% {\n",
              "      border-color: transparent;\n",
              "      border-right-color: var(--fill-color);\n",
              "      border-bottom-color: var(--fill-color);\n",
              "    }\n",
              "    90% {\n",
              "      border-color: transparent;\n",
              "      border-bottom-color: var(--fill-color);\n",
              "    }\n",
              "  }\n",
              "</style>\n",
              "\n",
              "      <script>\n",
              "        async function quickchart(key) {\n",
              "          const quickchartButtonEl =\n",
              "            document.querySelector('#' + key + ' button');\n",
              "          quickchartButtonEl.disabled = true;  // To prevent multiple clicks.\n",
              "          quickchartButtonEl.classList.add('colab-df-spinner');\n",
              "          try {\n",
              "            const charts = await google.colab.kernel.invokeFunction(\n",
              "                'suggestCharts', [key], {});\n",
              "          } catch (error) {\n",
              "            console.error('Error during call to suggestCharts:', error);\n",
              "          }\n",
              "          quickchartButtonEl.classList.remove('colab-df-spinner');\n",
              "          quickchartButtonEl.classList.add('colab-df-quickchart-complete');\n",
              "        }\n",
              "        (() => {\n",
              "          let quickchartButtonEl =\n",
              "            document.querySelector('#df-2c4569fd-3e94-427e-bb69-a2cac8cab27e button');\n",
              "          quickchartButtonEl.style.display =\n",
              "            google.colab.kernel.accessAllowed ? 'block' : 'none';\n",
              "        })();\n",
              "      </script>\n",
              "    </div>\n",
              "    </div>\n",
              "  </div>\n"
            ],
            "application/vnd.google.colaboratory.intrinsic+json": {
              "type": "dataframe",
              "variable_name": "filtered_user_tests_content_interaction",
              "summary": "{\n  \"name\": \"filtered_user_tests_content_interaction\",\n  \"rows\": 757,\n  \"fields\": [\n    {\n      \"column\": \"user_id\",\n      \"properties\": {\n        \"dtype\": \"number\",\n        \"std\": 314427,\n        \"min\": 1140,\n        \"max\": 1097127,\n        \"num_unique_values\": 757,\n        \"samples\": [\n          577823,\n          143679,\n          402269\n        ],\n        \"semantic_type\": \"\",\n        \"description\": \"\"\n      }\n    },\n    {\n      \"column\": \"item_id\",\n      \"properties\": {\n        \"dtype\": \"object\",\n        \"semantic_type\": \"\",\n        \"description\": \"\"\n      }\n    }\n  ]\n}"
            }
          },
          "metadata": {},
          "execution_count": 41
        }
      ],
      "source": [
        "filtered_user_tests_content_interaction"
      ]
    },
    {
      "cell_type": "code",
      "execution_count": 42,
      "metadata": {
        "colab": {
          "base_uri": "https://localhost:8080/"
        },
        "id": "utp7KDTA8Srl",
        "outputId": "e3cc1c46-91bf-4c62-82e1-eabac8328ee2"
      },
      "outputs": [
        {
          "output_type": "execute_result",
          "data": {
            "text/plain": [
              "757"
            ]
          },
          "metadata": {},
          "execution_count": 42
        }
      ],
      "source": [
        "len(filtered_user_tests_content_interaction)"
      ]
    },
    {
      "cell_type": "code",
      "execution_count": 43,
      "metadata": {
        "id": "j_qk5sMzFJD-"
      },
      "outputs": [],
      "source": [
        "def precision(recommended_list, bought_list):\n",
        "\n",
        "    bought_list = np.array(bought_list)\n",
        "    recommended_list = np.array(recommended_list)\n",
        "\n",
        "    flags = np.isin(bought_list, recommended_list)\n",
        "\n",
        "    precision = flags.sum() / len(recommended_list)\n",
        "\n",
        "    return precision\n",
        "\n",
        "\n",
        "def precision_at_k(recommended_list, bought_list, k=5):\n",
        "\n",
        "    bought_list = np.array(bought_list)\n",
        "    recommended_list = np.array(recommended_list)\n",
        "\n",
        "    #assert len(bought_list) > len(recommended_list)\n",
        "    bought_list = bought_list  # Тут нет [:k] !!\n",
        "    recommended_list = recommended_list[:k]\n",
        "\n",
        "    flags = np.isin(bought_list, recommended_list)\n",
        "\n",
        "    precision = flags.sum() / len(recommended_list)\n",
        "\n",
        "\n",
        "    return precision\n",
        "\n",
        "\n",
        "def money_precision_at_k(recommended_list, bought_list, prices_recommended, k=5):\n",
        "\n",
        "    # your_code\n",
        "    # Лучше считать через скалярное произведение, а не цикл\n",
        "    bought_list = bought_list  # Тут нет [:k] !!\n",
        "    recommended_list = recommended_list[:k]\n",
        "\n",
        "    flags = np.isin(bought_list, recommended_list)\n",
        "\n",
        "    precision = np.dot(flags, bought_list) / np.sum(recommended_list)\n",
        "    return precision"
      ]
    },
    {
      "cell_type": "code",
      "execution_count": 44,
      "metadata": {
        "id": "1yArpG-ZFeSn"
      },
      "outputs": [],
      "source": [
        "def recall(recommended_list, bought_list):\n",
        "\n",
        "    bought_list = np.array(bought_list)\n",
        "    recommended_list = np.array(recommended_list)\n",
        "\n",
        "    flags = np.isin(bought_list, recommended_list)\n",
        "\n",
        "    recall = flags.sum() / len(bought_list)\n",
        "\n",
        "    return recall\n",
        "\n",
        "\n",
        "def recall_at_k(recommended_list, bought_list, k=5):\n",
        "\n",
        "    # your_code\n",
        "    bought_list = np.array(bought_list)\n",
        "    recommended_list = np.array(recommended_list[:k])\n",
        "\n",
        "    flags = np.isin(bought_list, recommended_list)\n",
        "\n",
        "    recall = flags.sum() / len(bought_list)\n",
        "\n",
        "    return recall\n",
        "\n",
        "\n",
        "def money_recall_at_k(recommended_list, bought_list, prices_recommended, prices_bought, k=5):\n",
        "\n",
        "    # your_code\n",
        "    bought_list = np.array(bought_list)\n",
        "    recommended_list = recommended_list[:k]\n",
        "\n",
        "    flags = np.isin(bought_list, recommended_list)\n",
        "\n",
        "    recall = np.dot(flags, bought_list) / np.sum(bought_list)\n",
        "\n",
        "    return recall"
      ]
    },
    {
      "cell_type": "code",
      "execution_count": 45,
      "metadata": {
        "id": "SpNRtRi7Figm"
      },
      "outputs": [],
      "source": [
        "def ap_k(recommended_list, bought_list, k=5):\n",
        "    # print(\"=\",bought_list, recommended_list)\n",
        "    bought_list = np.array(bought_list)\n",
        "    recommended_list = np.array(recommended_list)\n",
        "    flags = np.isin(recommended_list, bought_list)\n",
        "    # if (np.isin([True],flags)[0]):\n",
        "    #   print(flags)\n",
        "    if sum(flags) == 0:\n",
        "        return 0\n",
        "\n",
        "    sum_ = 0\n",
        "    for i in range(0, k-1):\n",
        "        if flags[i] == True:\n",
        "            p_k = precision_at_k(recommended_list, bought_list, k=i+1)\n",
        "            sum_ += p_k\n",
        "\n",
        "    result = sum_ / sum(flags)\n",
        "\n",
        "    return result"
      ]
    },
    {
      "cell_type": "code",
      "execution_count": 46,
      "metadata": {
        "id": "dhuWaNP3UlAB"
      },
      "outputs": [],
      "source": [
        "# получение списка взаимодействий юзера\n",
        "def getUserItems(userInteractionItems, user_id):\n",
        "  return userInteractionItems[(userInteractionItems[userColumnName] == user_id)][itemIdColumnName].values[0]"
      ]
    },
    {
      "cell_type": "code",
      "execution_count": 47,
      "metadata": {
        "id": "rdk5iIsyxcXj"
      },
      "outputs": [],
      "source": [
        "# получение значения из матрицы по двум столбцам\n",
        "def getColFromBy2Col(Items, first_column, second_column, first_c_id):\n",
        "  return Items[(Items[first_column] == first_c_id)][second_column]"
      ]
    },
    {
      "cell_type": "code",
      "execution_count": 48,
      "metadata": {
        "id": "vXvvMV5dXt1O"
      },
      "outputs": [],
      "source": [
        "# получение значения из матрицы по двум столбцам\n",
        "def getValueFromBy2Col(Items, first_column, second_column, first_c_id):\n",
        "  colFromBy2Col = getColFromBy2Col(Items, first_column, second_column, first_c_id)\n",
        "  # print(colFromBy2Col)\n",
        "  if len(colFromBy2Col) > 0:\n",
        "    return colFromBy2Col.values[0]\n",
        "  else:\n",
        "    return None"
      ]
    },
    {
      "cell_type": "markdown",
      "metadata": {
        "id": "v9Ikze3n7vAT"
      },
      "source": [
        "#random"
      ]
    },
    {
      "cell_type": "code",
      "execution_count": 49,
      "metadata": {
        "id": "Bk93spDvGKtc"
      },
      "outputs": [],
      "source": [
        "# def getRandomRecommendOLD(items, k=10):\n",
        "#   return items[itemIdColumnName].sample(k,replace=True).tolist()\n",
        "\n",
        "# def getRandomRecommendOLDOLD(items, k=10):\n",
        "#   return pd.Series(items[itemIdColumnName].unique()).sample(k,replace=True).tolist()\n",
        "\n",
        "def getRandomRecommend(items, k=10):\n",
        "  return np.random.choice(items, k)"
      ]
    },
    {
      "cell_type": "code",
      "execution_count": 50,
      "metadata": {
        "id": "cwMYyf64DdDY"
      },
      "outputs": [],
      "source": [
        "def getFirstK(items, k=10):\n",
        "  return items[:k]"
      ]
    },
    {
      "cell_type": "code",
      "execution_count": 51,
      "metadata": {
        "id": "qAnLnTyKFmSM"
      },
      "outputs": [],
      "source": [
        "# item = рекомендации взять из тестового набора\n",
        "def map_k(items, userContentInteractions, func, k=10):\n",
        "    user_ids = userContentInteractions[userColumnName].tolist()\n",
        "    result = [ap_k(func(items, k), getUserItems(userContentInteractions, i)) for i in user_ids]\n",
        "    return np.average(result)"
      ]
    },
    {
      "cell_type": "markdown",
      "metadata": {
        "id": "eTPxOqae79LP"
      },
      "source": [
        "#popular"
      ]
    },
    {
      "cell_type": "code",
      "execution_count": 52,
      "metadata": {
        "id": "pHwSDVUU39rp"
      },
      "outputs": [],
      "source": [
        "# Получение популярных items по всем\n",
        "def getPopularItems(df):\n",
        "  items_content_interaction_Pop = df.groupby(itemIdColumnName)[watchdPrcntColumnName].unique().reset_index()\n",
        "  items_content_interaction_Pop.columns = [itemIdColumnName, watchdPrcntColumnName]\n",
        "  items_content_interaction_Pop[watchdPrcntColumnName] = items_content_interaction_Pop[watchdPrcntColumnName].apply(lambda x: len(np.array(x)))\n",
        "  items_content_interaction_Pop = items_content_interaction_Pop.sort_values(by=watchdPrcntColumnName, ascending=False)\n",
        "  return items_content_interaction_Pop[itemIdColumnName].unique()"
      ]
    },
    {
      "cell_type": "markdown",
      "metadata": {
        "id": "cdOVu-esFihl"
      },
      "source": [
        "#Popular+UPopular"
      ]
    },
    {
      "cell_type": "code",
      "execution_count": 53,
      "metadata": {
        "id": "UbYb5SJc9dah"
      },
      "outputs": [],
      "source": [
        "def sumColVal(x):\n",
        "  print(x)\n",
        "  return (len(x[1]))"
      ]
    },
    {
      "cell_type": "markdown",
      "metadata": {
        "id": "FdXgx8aiM756"
      },
      "source": [
        "#ЗАДАЧА 2"
      ]
    },
    {
      "cell_type": "code",
      "execution_count": 54,
      "metadata": {
        "id": "ly3ky2ouNugc"
      },
      "outputs": [],
      "source": [
        "all_users = df_interactions[userColumnName].unique()\n"
      ]
    },
    {
      "cell_type": "code",
      "execution_count": 55,
      "metadata": {
        "id": "zCDzNrLR17Vy"
      },
      "outputs": [],
      "source": [
        "# получить интеракции пользователя\n",
        "def get_user_interactions(user_id, df_interactions):\n",
        "  return df_interactions[((df_interactions[userColumnName] == user_id))]\n",
        "\n",
        "def getUniqueColumnValues(df, columnName):\n",
        "  return df[columnName].unique()"
      ]
    },
    {
      "cell_type": "code",
      "execution_count": 56,
      "metadata": {
        "id": "GhNR59Wy3W3q"
      },
      "outputs": [],
      "source": [
        "import random\n",
        "\n",
        "#Получение случайного пользователя со списком взаимодействий > k\n",
        "def getRandomUser(df_interactions, k = 10):\n",
        "  random_user_interactions = []\n",
        "  while len(random_user_interactions) < k:\n",
        "    random_user = random.choice(all_users)\n",
        "    random_user_interactions = get_user_interactions(random_user, df_interactions)\n",
        "  return random_user_interactions"
      ]
    },
    {
      "cell_type": "code",
      "execution_count": 57,
      "metadata": {
        "id": "_EuMMIAK5Ql1"
      },
      "outputs": [],
      "source": [
        "# получение строк только по вхождениям из списка\n",
        "def getitemsByList(df,columnName, list_of_users):\n",
        "  return df[df[columnName].isin(list_of_users)]"
      ]
    },
    {
      "cell_type": "code",
      "execution_count": 58,
      "metadata": {
        "id": "zcHx8kDa87fp"
      },
      "outputs": [],
      "source": [
        "releaseYearCol = 'release_year'\n",
        "genresCol = 'genres'\n",
        "actorsCol = 'actors'\n",
        "directorsCol = 'directors'"
      ]
    },
    {
      "cell_type": "code",
      "execution_count": 59,
      "metadata": {
        "id": "Fp0jDi_aGn6k"
      },
      "outputs": [],
      "source": [
        "def getArrayFromDF(df, columnName):\n",
        "  return df[columnName].apply(lambda x: x.split(', '))"
      ]
    },
    {
      "cell_type": "code",
      "execution_count": 60,
      "metadata": {
        "id": "Ky3JHsdYKT-_"
      },
      "outputs": [],
      "source": [
        "# Условия для itemXitem\n",
        "\n",
        "# тот-же год\n",
        "def sameYearDF(df, year):\n",
        "  conditions = [\n",
        "    (df[releaseYearCol] == year),\n",
        "    (df[releaseYearCol] != year)\n",
        "  ]\n",
        "  choices = [0.25, 0]\n",
        "  return np.select(conditions, choices)\n",
        "\n",
        "# Хотя бы один жанр\n",
        "def sameGenreDF(df, genres):\n",
        "  conditions = [\n",
        "    (df[genresCol].str.contains('|'.join(genres)) == True),\n",
        "    (df[genresCol].str.contains('|'.join(genres)) != True)\n",
        "  ]\n",
        "  choices = [0.25, 0]\n",
        "  return np.select(conditions, choices)\n",
        "\n",
        "# Хотя бы один актер\n",
        "def sameActorDF(df, actors):\n",
        "  conditions = [\n",
        "    (df[actorsCol].str.contains('|'.join(actors)) == True),\n",
        "    (df[actorsCol].str.contains('|'.join(actors)) != True)\n",
        "  ]\n",
        "  choices = [0.25, 0]\n",
        "  return np.select(conditions, choices)\n",
        "\n",
        "# Хотя бы один режиссер\n",
        "def sameDirectorDF(df, directors):\n",
        "  conditions = [\n",
        "    (df[directorsCol].str.contains('|'.join(directors)) == True),\n",
        "    (df[directorsCol].str.contains('|'.join(directors)) != True)\n",
        "  ]\n",
        "  choices = [0.25, 0]\n",
        "  return np.select(conditions, choices)\n",
        "\n",
        "##############################################\n",
        "# Условия для userXitem\n",
        "\n",
        "# # Сравнить по проценту просмотренного\n",
        "# def compareWatchedDF(df, watchPrcnt):\n",
        "#   conditions = [\n",
        "#     (df[watchdPrcntColumnName] >= watchPrcnt),\n",
        "#     (df[watchdPrcntColumnName] < watchPrcnt)\n",
        "#   ]\n",
        "#   choices = [1, 0]\n",
        "#   return np.select(conditions, choices)\n",
        "\n",
        "# Сравнить по проценту просмотренного и по диапазону дат (и по полу пользователя)\n",
        "def sameDateWatchedDF(df, df_u, time_from, time_to, watchPrcnt, sex):\n",
        "  conditions = [\n",
        "    ((df[dateColumnName] > time_from) & (df[dateColumnName] < time_to) & (df[watchdPrcntColumnName] >= 15.0) & (df_u['sex'] == sex) == True),\n",
        "    ((df[dateColumnName] > time_from) & (df[dateColumnName] < time_to) & (df[watchdPrcntColumnName] >= 15.0) & (df_u['sex'] == sex) != True)\n",
        "  ]\n",
        "  choices = [1, 0]\n",
        "  return np.select(conditions, choices)\n",
        "\n",
        "# # Сравнить по проценту просмотренного и по диапазону дат\n",
        "# def similarUser(df, sex):\n",
        "\n"
      ]
    },
    {
      "cell_type": "code",
      "execution_count": 61,
      "metadata": {
        "id": "4INXbY8WM5du"
      },
      "outputs": [],
      "source": [
        "def getCoeff(b,itemId, c = 0.25):\n",
        "  # b.replace(np.nan, False, inplace=True)\n",
        "  # print(c if b.get(itemId) else 0)\n",
        "  # print(b.size)\n",
        "  return c if b.get(itemId) == True else 0"
      ]
    },
    {
      "cell_type": "code",
      "execution_count": 62,
      "metadata": {
        "id": "yRbJT0c3_Jia"
      },
      "outputs": [],
      "source": [
        "def convertToArray(df, col1, col2, id):\n",
        "  data = getValueFromBy2Col(df, col1, col2, id)\n",
        "  return data.split(', ') if type(data) == 'str'else []\n"
      ]
    },
    {
      "cell_type": "markdown",
      "metadata": {
        "id": "jHmQrSihLcXP"
      },
      "source": [
        "#ALS"
      ]
    },
    {
      "cell_type": "code",
      "execution_count": 134,
      "metadata": {
        "id": "K0JGx67VLd9E"
      },
      "outputs": [],
      "source": [
        "\n",
        "import sys\n",
        "# путь до папки с py файлами на диске\n",
        "sys.path.append('/content/drive/MyDrive/2025Mag2/RecSys/RecSysFiles')"
      ]
    },
    {
      "cell_type": "code",
      "execution_count": 135,
      "metadata": {
        "id": "gJwRQn6-QNcg"
      },
      "outputs": [],
      "source": [
        "\n",
        "import numpy as np\n",
        "import pandas as pd\n",
        "import matplotlib.pyplot as plt\n",
        "import seaborn as sns\n",
        "import polars as pl\n",
        "from datetime import datetime, timedelta\n",
        "\n",
        "import time\n",
        "from tqdm import tqdm\n",
        "from metrics import ap_k\n",
        "from als import ALS\n",
        "from datagenerator import  DataGenerator\n",
        "\n",
        "from scipy.sparse import csr_matrix\n",
        "from sklearn.metrics import mean_squared_error\n",
        "from sklearn.metrics.pairwise import cosine_similarity\n",
        "from scipy.stats import pearsonr\n"
      ]
    },
    {
      "cell_type": "code",
      "execution_count": 152,
      "metadata": {
        "id": "3UM75XcdVC_D"
      },
      "outputs": [],
      "source": [
        "# Нужно оставить только необходимые столбики и преобразовать в массив (с батчами)\n",
        "# матрица userXrating составляется так-же как в KNN"
      ]
    },
    {
      "cell_type": "code",
      "execution_count": 153,
      "metadata": {
        "colab": {
          "base_uri": "https://localhost:8080/"
        },
        "id": "J0HZZK9ArqA9",
        "outputId": "b809a0ce-f962-41f8-dde8-ff55fde8a548"
      },
      "outputs": [
        {
          "output_type": "stream",
          "name": "stdout",
          "text": [
            "Requirement already satisfied: scipy in /usr/local/lib/python3.12/dist-packages (1.16.2)\n",
            "Requirement already satisfied: numpy<2.6,>=1.25.2 in /usr/local/lib/python3.12/dist-packages (from scipy) (2.0.2)\n"
          ]
        }
      ],
      "source": [
        "!pip install scipy"
      ]
    },
    {
      "cell_type": "code",
      "execution_count": 154,
      "metadata": {
        "id": "DlILq3narpDx"
      },
      "outputs": [],
      "source": [
        "from scipy.sparse import csr_matrix, coo_matrix\n",
        "from pyspark.ml.recommendation import ALS\n"
      ]
    },
    {
      "cell_type": "code",
      "execution_count": 156,
      "metadata": {
        "id": "IAZL2GGVuyzo"
      },
      "outputs": [],
      "source": [
        "from sklearn.model_selection import train_test_split\n",
        "# df_train_3, df_test_3 = train_test_split(df_interactions, test_size=0.2)\n",
        "df_train_3 = df_interactions_train.copy()\n",
        "df_test_3 = df_interactions_test.copy()\n"
      ]
    },
    {
      "cell_type": "code",
      "execution_count": 157,
      "metadata": {
        "colab": {
          "base_uri": "https://localhost:8080/",
          "height": 424
        },
        "id": "bT3NBWUXvPYe",
        "outputId": "5e59d3dc-e6b7-4b82-cde2-8ed3fa91350a"
      },
      "outputs": [
        {
          "output_type": "execute_result",
          "data": {
            "text/plain": [
              "         user_id  item_id last_watch_dt  total_dur  watched_pct  reallyWatched\n",
              "83        154102    12299    2021-08-01        940         12.0           True\n",
              "145       141072     7308    2021-07-10       8657        100.0           True\n",
              "251       752541    16029    2021-04-26       9308        100.0           True\n",
              "284        37298     7107    2021-05-08        147         25.0           True\n",
              "314      1039379      747    2021-08-05        357          6.0          False\n",
              "...          ...      ...           ...        ...          ...            ...\n",
              "5476053    32256    11756    2021-08-01      10892        100.0           True\n",
              "5476120   182577    16447    2021-06-26         14          0.0          False\n",
              "5476150  1089663    14111    2021-05-23         81          1.0          False\n",
              "5476205   381343    13072    2021-05-22      13122        100.0           True\n",
              "5476218   840031      429    2021-04-10       7307        100.0           True\n",
              "\n",
              "[107245 rows x 6 columns]"
            ],
            "text/html": [
              "\n",
              "  <div id=\"df-4409c1f3-6434-46ef-99d6-0f4433d3261f\" class=\"colab-df-container\">\n",
              "    <div>\n",
              "<style scoped>\n",
              "    .dataframe tbody tr th:only-of-type {\n",
              "        vertical-align: middle;\n",
              "    }\n",
              "\n",
              "    .dataframe tbody tr th {\n",
              "        vertical-align: top;\n",
              "    }\n",
              "\n",
              "    .dataframe thead th {\n",
              "        text-align: right;\n",
              "    }\n",
              "</style>\n",
              "<table border=\"1\" class=\"dataframe\">\n",
              "  <thead>\n",
              "    <tr style=\"text-align: right;\">\n",
              "      <th></th>\n",
              "      <th>user_id</th>\n",
              "      <th>item_id</th>\n",
              "      <th>last_watch_dt</th>\n",
              "      <th>total_dur</th>\n",
              "      <th>watched_pct</th>\n",
              "      <th>reallyWatched</th>\n",
              "    </tr>\n",
              "  </thead>\n",
              "  <tbody>\n",
              "    <tr>\n",
              "      <th>83</th>\n",
              "      <td>154102</td>\n",
              "      <td>12299</td>\n",
              "      <td>2021-08-01</td>\n",
              "      <td>940</td>\n",
              "      <td>12.0</td>\n",
              "      <td>True</td>\n",
              "    </tr>\n",
              "    <tr>\n",
              "      <th>145</th>\n",
              "      <td>141072</td>\n",
              "      <td>7308</td>\n",
              "      <td>2021-07-10</td>\n",
              "      <td>8657</td>\n",
              "      <td>100.0</td>\n",
              "      <td>True</td>\n",
              "    </tr>\n",
              "    <tr>\n",
              "      <th>251</th>\n",
              "      <td>752541</td>\n",
              "      <td>16029</td>\n",
              "      <td>2021-04-26</td>\n",
              "      <td>9308</td>\n",
              "      <td>100.0</td>\n",
              "      <td>True</td>\n",
              "    </tr>\n",
              "    <tr>\n",
              "      <th>284</th>\n",
              "      <td>37298</td>\n",
              "      <td>7107</td>\n",
              "      <td>2021-05-08</td>\n",
              "      <td>147</td>\n",
              "      <td>25.0</td>\n",
              "      <td>True</td>\n",
              "    </tr>\n",
              "    <tr>\n",
              "      <th>314</th>\n",
              "      <td>1039379</td>\n",
              "      <td>747</td>\n",
              "      <td>2021-08-05</td>\n",
              "      <td>357</td>\n",
              "      <td>6.0</td>\n",
              "      <td>False</td>\n",
              "    </tr>\n",
              "    <tr>\n",
              "      <th>...</th>\n",
              "      <td>...</td>\n",
              "      <td>...</td>\n",
              "      <td>...</td>\n",
              "      <td>...</td>\n",
              "      <td>...</td>\n",
              "      <td>...</td>\n",
              "    </tr>\n",
              "    <tr>\n",
              "      <th>5476053</th>\n",
              "      <td>32256</td>\n",
              "      <td>11756</td>\n",
              "      <td>2021-08-01</td>\n",
              "      <td>10892</td>\n",
              "      <td>100.0</td>\n",
              "      <td>True</td>\n",
              "    </tr>\n",
              "    <tr>\n",
              "      <th>5476120</th>\n",
              "      <td>182577</td>\n",
              "      <td>16447</td>\n",
              "      <td>2021-06-26</td>\n",
              "      <td>14</td>\n",
              "      <td>0.0</td>\n",
              "      <td>False</td>\n",
              "    </tr>\n",
              "    <tr>\n",
              "      <th>5476150</th>\n",
              "      <td>1089663</td>\n",
              "      <td>14111</td>\n",
              "      <td>2021-05-23</td>\n",
              "      <td>81</td>\n",
              "      <td>1.0</td>\n",
              "      <td>False</td>\n",
              "    </tr>\n",
              "    <tr>\n",
              "      <th>5476205</th>\n",
              "      <td>381343</td>\n",
              "      <td>13072</td>\n",
              "      <td>2021-05-22</td>\n",
              "      <td>13122</td>\n",
              "      <td>100.0</td>\n",
              "      <td>True</td>\n",
              "    </tr>\n",
              "    <tr>\n",
              "      <th>5476218</th>\n",
              "      <td>840031</td>\n",
              "      <td>429</td>\n",
              "      <td>2021-04-10</td>\n",
              "      <td>7307</td>\n",
              "      <td>100.0</td>\n",
              "      <td>True</td>\n",
              "    </tr>\n",
              "  </tbody>\n",
              "</table>\n",
              "<p>107245 rows × 6 columns</p>\n",
              "</div>\n",
              "    <div class=\"colab-df-buttons\">\n",
              "\n",
              "  <div class=\"colab-df-container\">\n",
              "    <button class=\"colab-df-convert\" onclick=\"convertToInteractive('df-4409c1f3-6434-46ef-99d6-0f4433d3261f')\"\n",
              "            title=\"Convert this dataframe to an interactive table.\"\n",
              "            style=\"display:none;\">\n",
              "\n",
              "  <svg xmlns=\"http://www.w3.org/2000/svg\" height=\"24px\" viewBox=\"0 -960 960 960\">\n",
              "    <path d=\"M120-120v-720h720v720H120Zm60-500h600v-160H180v160Zm220 220h160v-160H400v160Zm0 220h160v-160H400v160ZM180-400h160v-160H180v160Zm440 0h160v-160H620v160ZM180-180h160v-160H180v160Zm440 0h160v-160H620v160Z\"/>\n",
              "  </svg>\n",
              "    </button>\n",
              "\n",
              "  <style>\n",
              "    .colab-df-container {\n",
              "      display:flex;\n",
              "      gap: 12px;\n",
              "    }\n",
              "\n",
              "    .colab-df-convert {\n",
              "      background-color: #E8F0FE;\n",
              "      border: none;\n",
              "      border-radius: 50%;\n",
              "      cursor: pointer;\n",
              "      display: none;\n",
              "      fill: #1967D2;\n",
              "      height: 32px;\n",
              "      padding: 0 0 0 0;\n",
              "      width: 32px;\n",
              "    }\n",
              "\n",
              "    .colab-df-convert:hover {\n",
              "      background-color: #E2EBFA;\n",
              "      box-shadow: 0px 1px 2px rgba(60, 64, 67, 0.3), 0px 1px 3px 1px rgba(60, 64, 67, 0.15);\n",
              "      fill: #174EA6;\n",
              "    }\n",
              "\n",
              "    .colab-df-buttons div {\n",
              "      margin-bottom: 4px;\n",
              "    }\n",
              "\n",
              "    [theme=dark] .colab-df-convert {\n",
              "      background-color: #3B4455;\n",
              "      fill: #D2E3FC;\n",
              "    }\n",
              "\n",
              "    [theme=dark] .colab-df-convert:hover {\n",
              "      background-color: #434B5C;\n",
              "      box-shadow: 0px 1px 3px 1px rgba(0, 0, 0, 0.15);\n",
              "      filter: drop-shadow(0px 1px 2px rgba(0, 0, 0, 0.3));\n",
              "      fill: #FFFFFF;\n",
              "    }\n",
              "  </style>\n",
              "\n",
              "    <script>\n",
              "      const buttonEl =\n",
              "        document.querySelector('#df-4409c1f3-6434-46ef-99d6-0f4433d3261f button.colab-df-convert');\n",
              "      buttonEl.style.display =\n",
              "        google.colab.kernel.accessAllowed ? 'block' : 'none';\n",
              "\n",
              "      async function convertToInteractive(key) {\n",
              "        const element = document.querySelector('#df-4409c1f3-6434-46ef-99d6-0f4433d3261f');\n",
              "        const dataTable =\n",
              "          await google.colab.kernel.invokeFunction('convertToInteractive',\n",
              "                                                    [key], {});\n",
              "        if (!dataTable) return;\n",
              "\n",
              "        const docLinkHtml = 'Like what you see? Visit the ' +\n",
              "          '<a target=\"_blank\" href=https://colab.research.google.com/notebooks/data_table.ipynb>data table notebook</a>'\n",
              "          + ' to learn more about interactive tables.';\n",
              "        element.innerHTML = '';\n",
              "        dataTable['output_type'] = 'display_data';\n",
              "        await google.colab.output.renderOutput(dataTable, element);\n",
              "        const docLink = document.createElement('div');\n",
              "        docLink.innerHTML = docLinkHtml;\n",
              "        element.appendChild(docLink);\n",
              "      }\n",
              "    </script>\n",
              "  </div>\n",
              "\n",
              "\n",
              "    <div id=\"df-1174f8d5-de51-4ddf-9d45-f8542b4b6653\">\n",
              "      <button class=\"colab-df-quickchart\" onclick=\"quickchart('df-1174f8d5-de51-4ddf-9d45-f8542b4b6653')\"\n",
              "                title=\"Suggest charts\"\n",
              "                style=\"display:none;\">\n",
              "\n",
              "<svg xmlns=\"http://www.w3.org/2000/svg\" height=\"24px\"viewBox=\"0 0 24 24\"\n",
              "     width=\"24px\">\n",
              "    <g>\n",
              "        <path d=\"M19 3H5c-1.1 0-2 .9-2 2v14c0 1.1.9 2 2 2h14c1.1 0 2-.9 2-2V5c0-1.1-.9-2-2-2zM9 17H7v-7h2v7zm4 0h-2V7h2v10zm4 0h-2v-4h2v4z\"/>\n",
              "    </g>\n",
              "</svg>\n",
              "      </button>\n",
              "\n",
              "<style>\n",
              "  .colab-df-quickchart {\n",
              "      --bg-color: #E8F0FE;\n",
              "      --fill-color: #1967D2;\n",
              "      --hover-bg-color: #E2EBFA;\n",
              "      --hover-fill-color: #174EA6;\n",
              "      --disabled-fill-color: #AAA;\n",
              "      --disabled-bg-color: #DDD;\n",
              "  }\n",
              "\n",
              "  [theme=dark] .colab-df-quickchart {\n",
              "      --bg-color: #3B4455;\n",
              "      --fill-color: #D2E3FC;\n",
              "      --hover-bg-color: #434B5C;\n",
              "      --hover-fill-color: #FFFFFF;\n",
              "      --disabled-bg-color: #3B4455;\n",
              "      --disabled-fill-color: #666;\n",
              "  }\n",
              "\n",
              "  .colab-df-quickchart {\n",
              "    background-color: var(--bg-color);\n",
              "    border: none;\n",
              "    border-radius: 50%;\n",
              "    cursor: pointer;\n",
              "    display: none;\n",
              "    fill: var(--fill-color);\n",
              "    height: 32px;\n",
              "    padding: 0;\n",
              "    width: 32px;\n",
              "  }\n",
              "\n",
              "  .colab-df-quickchart:hover {\n",
              "    background-color: var(--hover-bg-color);\n",
              "    box-shadow: 0 1px 2px rgba(60, 64, 67, 0.3), 0 1px 3px 1px rgba(60, 64, 67, 0.15);\n",
              "    fill: var(--button-hover-fill-color);\n",
              "  }\n",
              "\n",
              "  .colab-df-quickchart-complete:disabled,\n",
              "  .colab-df-quickchart-complete:disabled:hover {\n",
              "    background-color: var(--disabled-bg-color);\n",
              "    fill: var(--disabled-fill-color);\n",
              "    box-shadow: none;\n",
              "  }\n",
              "\n",
              "  .colab-df-spinner {\n",
              "    border: 2px solid var(--fill-color);\n",
              "    border-color: transparent;\n",
              "    border-bottom-color: var(--fill-color);\n",
              "    animation:\n",
              "      spin 1s steps(1) infinite;\n",
              "  }\n",
              "\n",
              "  @keyframes spin {\n",
              "    0% {\n",
              "      border-color: transparent;\n",
              "      border-bottom-color: var(--fill-color);\n",
              "      border-left-color: var(--fill-color);\n",
              "    }\n",
              "    20% {\n",
              "      border-color: transparent;\n",
              "      border-left-color: var(--fill-color);\n",
              "      border-top-color: var(--fill-color);\n",
              "    }\n",
              "    30% {\n",
              "      border-color: transparent;\n",
              "      border-left-color: var(--fill-color);\n",
              "      border-top-color: var(--fill-color);\n",
              "      border-right-color: var(--fill-color);\n",
              "    }\n",
              "    40% {\n",
              "      border-color: transparent;\n",
              "      border-right-color: var(--fill-color);\n",
              "      border-top-color: var(--fill-color);\n",
              "    }\n",
              "    60% {\n",
              "      border-color: transparent;\n",
              "      border-right-color: var(--fill-color);\n",
              "    }\n",
              "    80% {\n",
              "      border-color: transparent;\n",
              "      border-right-color: var(--fill-color);\n",
              "      border-bottom-color: var(--fill-color);\n",
              "    }\n",
              "    90% {\n",
              "      border-color: transparent;\n",
              "      border-bottom-color: var(--fill-color);\n",
              "    }\n",
              "  }\n",
              "</style>\n",
              "\n",
              "      <script>\n",
              "        async function quickchart(key) {\n",
              "          const quickchartButtonEl =\n",
              "            document.querySelector('#' + key + ' button');\n",
              "          quickchartButtonEl.disabled = true;  // To prevent multiple clicks.\n",
              "          quickchartButtonEl.classList.add('colab-df-spinner');\n",
              "          try {\n",
              "            const charts = await google.colab.kernel.invokeFunction(\n",
              "                'suggestCharts', [key], {});\n",
              "          } catch (error) {\n",
              "            console.error('Error during call to suggestCharts:', error);\n",
              "          }\n",
              "          quickchartButtonEl.classList.remove('colab-df-spinner');\n",
              "          quickchartButtonEl.classList.add('colab-df-quickchart-complete');\n",
              "        }\n",
              "        (() => {\n",
              "          let quickchartButtonEl =\n",
              "            document.querySelector('#df-1174f8d5-de51-4ddf-9d45-f8542b4b6653 button');\n",
              "          quickchartButtonEl.style.display =\n",
              "            google.colab.kernel.accessAllowed ? 'block' : 'none';\n",
              "        })();\n",
              "      </script>\n",
              "    </div>\n",
              "    </div>\n",
              "  </div>\n"
            ],
            "application/vnd.google.colaboratory.intrinsic+json": {
              "type": "dataframe",
              "variable_name": "df_train_3"
            }
          },
          "metadata": {},
          "execution_count": 157
        }
      ],
      "source": [
        "df_train_3"
      ]
    },
    {
      "cell_type": "code",
      "execution_count": 161,
      "metadata": {
        "id": "yTyNyYddySXR"
      },
      "outputs": [],
      "source": [
        "def colByUserAndItem(y, c, d, itemId):\n",
        "  print(itemId)\n",
        "  return c if y == itemId else d"
      ]
    },
    {
      "cell_type": "code",
      "execution_count": 166,
      "metadata": {
        "id": "veO3bDhDON_c"
      },
      "outputs": [],
      "source": [
        "def getUserInteracPd(df3_interactions, df3_users, df3_items):\n",
        "  arrr = df3_interactions\n",
        "\n",
        "  user_item_3_df = pd.DataFrame(df3_users, columns = [userColumnName])\n",
        "  print(len(df3_users), len(df3_items))\n",
        "  counter = 0\n",
        "  for item_id in df3_items:\n",
        "    counter +=1\n",
        "    # watched = getValueFromBy2Col(df_items, itemIdColumnName, genresCol, itemId).split(\", \")\n",
        "    # print(item_id)\n",
        "    conditions = [\n",
        "      (arrr[itemIdColumnName] == item_id),\n",
        "      (arrr[itemIdColumnName] != item_id)\n",
        "    ]\n",
        "    choices = [arrr[watchdPrcntColumnName], 0]\n",
        "    values_uI = pd.Series(choices)\n",
        "    user_item_3_df = pd.concat([user_item_3_df, values_uI.rename(item_id)], axis=1)\n",
        "    # if (counter % 100 == 0):\n",
        "    print('_____________________',counter, ' /  ', len(df3_items))    # user_item_3_df[item_id] = np.select(conditions, choices)# colByUserAndItem(df3_interactions[itemIdColumnName], df3_interactions[watchdPrcntColumnName], df3_interactions[naCol], item_id) #df3_interactions.apply(lambda row: colByUserAndItem(row[itemIdColumnName], row[watchdPrcntColumnName], row[naCol], item_id), axis=1)\n",
        "\n",
        "  # shape = (len(df3_users), len(df3_items))\n",
        "\n",
        "  # # Create indices for df3_users and items\n",
        "  # # user_cat = CategoricalDtype(categories=sorted(df3_users), ordered=True)\n",
        "  # # item_cat = CategoricalDtype(categories=sorted(df3_items), ordered=True)\n",
        "  # # user_index = df3_interactions[userColumnName].astype(user_cat).cat.codes\n",
        "  # # item_index = df3_interactions[itemIdColumnName].astype(item_cat).cat.codes\n",
        "\n",
        "\n",
        "  # data_interac = np.empty(0)\n",
        "  # user_index = np.empty(0)\n",
        "  # item_index = np.empty(0)\n",
        "  # for u_id in df3_users:\n",
        "  #   for i_id in df3_items:\n",
        "  #     value = df3_interactions.loc[(df3_interactions[userColumnName] == u_id) & (df3_interactions[itemIdColumnName] == i_id)][watchdPrcntColumnName].unique()\n",
        "  #     if len(value) > 0:\n",
        "  #       data_interac = np.append(data_interac, value[0])\n",
        "  #       user_index = np.append(user_index, u_id)\n",
        "  #       item_index = np.append(item_index, i_id)\n",
        "\n",
        "  # print(user_index, item_index)\n",
        "  # # Conversion via COO matrix\n",
        "  # coo = coo_matrix((data_interac, (user_index, item_index)), shape=shape)\n",
        "  return user_item_3_df"
      ]
    },
    {
      "cell_type": "code",
      "execution_count": 173,
      "metadata": {
        "id": "eNRC5NgJ08-7"
      },
      "outputs": [],
      "source": [
        "def createMapByValues(arr):\n",
        "  m = {}\n",
        "  for idx, val in enumerate(arr):\n",
        "    m[val] = idx\n",
        "  return m\n"
      ]
    },
    {
      "cell_type": "code",
      "execution_count": 175,
      "metadata": {
        "id": "jBEqCPD81a4Q"
      },
      "outputs": [],
      "source": [
        "def changeArrValsToMapVal(arr, m):\n",
        "  # print(arr, len(m))\n",
        "  return [m[np.int64(x)] for x in arr]"
      ]
    },
    {
      "cell_type": "code",
      "execution_count": 176,
      "metadata": {
        "id": "EGzFhlxBO3Ma"
      },
      "outputs": [],
      "source": [
        "def getUserInterac(df3_items, df3_users, df3_interactions):\n",
        "  # user_item_3_df = pd.DataFrame(df3_users, columns = [userColumnName])\n",
        "\n",
        "  # for item_id in df3_items:\n",
        "  #   # watched = getValueFromBy2Col(df_items, itemIdColumnName, genresCol, itemId).split(\", \")\n",
        "  #   # print(item_id)\n",
        "  #   conditions = [\n",
        "  #     (df3_interactions[itemIdColumnName] == item_id),\n",
        "  #     (df3_interactions[itemIdColumnName] != item_id)\n",
        "  #   ]\n",
        "  #   choices = [df3_interactions[watchdPrcntColumnName], 0]\n",
        "\n",
        "  #   user_item_3_df[item_id] = np.select(conditions, choices)# colByUserAndItem(df3_interactions[itemIdColumnName], df3_interactions[watchdPrcntColumnName], df3_interactions[naCol], item_id) #df3_interactions.apply(lambda row: colByUserAndItem(row[itemIdColumnName], row[watchdPrcntColumnName], row[naCol], item_id), axis=1)\n",
        "\n",
        "  shape = (len(df3_users), len(df3_items))\n",
        "\n",
        "  # Create indices for df3_users and items\n",
        "  # user_cat = CategoricalDtype(categories=sorted(df3_users), ordered=True)\n",
        "  # item_cat = CategoricalDtype(categories=sorted(df3_items), ordered=True)\n",
        "  # user_index = df3_interactions[userColumnName].astype(user_cat).cat.codes\n",
        "  # item_index = df3_interactions[itemIdColumnName].astype(item_cat).cat.codes\n",
        "\n",
        "  itemsMap = createMapByValues(df3_items)\n",
        "  usersMap = createMapByValues(df3_users)\n",
        "\n",
        "  data_interac = np.empty(0)\n",
        "  user_index = np.empty(0)\n",
        "  item_index = np.empty(0)\n",
        "  df_smal = df3_interactions.copy()\n",
        "  df_smal = df_smal[[userColumnName, itemIdColumnName, watchdPrcntColumnName]]\n",
        "  counter = 0\n",
        "\n",
        "  for i_id in df3_items:\n",
        "    counter += 1\n",
        "    df_filtered = df_smal[df_smal[itemIdColumnName] == i_id]\n",
        "    item_users = changeArrValsToMapVal(df_filtered[userColumnName].unique(), usersMap)\n",
        "    item_watched = df_filtered[watchdPrcntColumnName].tolist()\n",
        "\n",
        "    # for u_id in df3_users:\n",
        "    #   value = df3_interactions.loc[(df3_interactions[userColumnName] == u_id) & (df3_interactions[itemIdColumnName] == i_id)][watchdPrcntColumnName].unique()\n",
        "    if len(item_watched) > 0:\n",
        "        item_interac = np.full(len(item_watched), itemsMap[i_id])\n",
        "        # print(len(item_watched), len(item_users), len(item_interac))\n",
        "        data_interac = np.append(data_interac, item_watched)\n",
        "        user_index = np.append(user_index, item_users)\n",
        "        item_index = np.append(item_index, item_interac)\n",
        "    if counter % 100 == 0:\n",
        "      print('_____________________',counter, ' /  ', len(df3_items))    # user_item_3_df[item_id] = np.select(conditions, choices)# colByUserAndItem(df3_interactions[itemIdColumnName], df3_interactions[watchdPrcntColumnName], df3_interactions[naCol], item_id) #df3_interactions.apply(lambda row: colByUserAndItem(row[itemIdColumnName], row[watchdPrcntColumnName], row[naCol], item_id), axis=1)\n",
        "\n",
        "  print(user_index, item_index)\n",
        "  # Conversion via COO matrix\n",
        "  coo = coo_matrix((data_interac, (user_index, item_index)), shape=shape)\n",
        "  return coo.tocsr()"
      ]
    },
    {
      "cell_type": "code",
      "execution_count": 179,
      "metadata": {
        "id": "PIj3UlNUDUn7"
      },
      "outputs": [],
      "source": [
        "from pandas.api.types import CategoricalDtype\n"
      ]
    },
    {
      "cell_type": "code",
      "source": [
        "df_users.info()"
      ],
      "metadata": {
        "id": "BeC33z-FHJ96",
        "colab": {
          "base_uri": "https://localhost:8080/"
        },
        "outputId": "bf8df0b2-cdd1-4d36-fa4f-535d2445eb16"
      },
      "execution_count": 192,
      "outputs": [
        {
          "output_type": "stream",
          "name": "stdout",
          "text": [
            "<class 'pandas.core.frame.DataFrame'>\n",
            "RangeIndex: 168039 entries, 0 to 168038\n",
            "Data columns (total 5 columns):\n",
            " #   Column    Non-Null Count   Dtype \n",
            "---  ------    --------------   ----- \n",
            " 0   user_id   168039 non-null  int64 \n",
            " 1   age       165245 non-null  object\n",
            " 2   income    165152 non-null  object\n",
            " 3   sex       165323 non-null  object\n",
            " 4   kids_flg  168039 non-null  int64 \n",
            "dtypes: int64(2), object(3)\n",
            "memory usage: 6.4+ MB\n"
          ]
        }
      ]
    },
    {
      "cell_type": "code",
      "execution_count": 194,
      "metadata": {
        "colab": {
          "base_uri": "https://localhost:8080/"
        },
        "id": "Fv2GX8pLKLUJ",
        "outputId": "be7b52ef-734b-4a4a-a47d-59d0f3235006"
      },
      "outputs": [
        {
          "output_type": "stream",
          "name": "stdout",
          "text": [
            "_____________________ 100  /   3192\n",
            "_____________________ 200  /   3192\n",
            "_____________________ 300  /   3192\n",
            "_____________________ 400  /   3192\n",
            "_____________________ 500  /   3192\n",
            "_____________________ 600  /   3192\n",
            "_____________________ 700  /   3192\n",
            "_____________________ 800  /   3192\n",
            "_____________________ 900  /   3192\n",
            "_____________________ 1000  /   3192\n",
            "_____________________ 1100  /   3192\n",
            "_____________________ 1200  /   3192\n",
            "_____________________ 1300  /   3192\n",
            "_____________________ 1400  /   3192\n",
            "_____________________ 1500  /   3192\n",
            "_____________________ 1600  /   3192\n",
            "_____________________ 1700  /   3192\n",
            "_____________________ 1800  /   3192\n",
            "_____________________ 1900  /   3192\n",
            "_____________________ 2000  /   3192\n",
            "_____________________ 2100  /   3192\n",
            "_____________________ 2200  /   3192\n",
            "_____________________ 2300  /   3192\n",
            "_____________________ 2400  /   3192\n",
            "_____________________ 2500  /   3192\n",
            "_____________________ 2600  /   3192\n",
            "_____________________ 2700  /   3192\n",
            "_____________________ 2800  /   3192\n",
            "_____________________ 2900  /   3192\n",
            "_____________________ 3000  /   3192\n",
            "_____________________ 3100  /   3192\n",
            "[  7446. 136114. 118384. ...  44485. 119708. 148142.] [0.000e+00 0.000e+00 2.000e+00 ... 3.191e+03 3.191e+03 3.191e+03]\n"
          ]
        }
      ],
      "source": [
        "ratings_train = getUserInterac(df_items[itemIdColumnName].unique(), df_users[userColumnName].unique(), df_train_3)\n"
      ]
    },
    {
      "cell_type": "code",
      "source": [
        "itemsMap_3 = createMapByValues(df_items[itemIdColumnName].unique())\n",
        "usersMap_3 = createMapByValues(df_users[userColumnName].unique())"
      ],
      "metadata": {
        "id": "jX64k_zuTBOs"
      },
      "execution_count": 195,
      "outputs": []
    },
    {
      "cell_type": "code",
      "execution_count": 196,
      "metadata": {
        "colab": {
          "base_uri": "https://localhost:8080/"
        },
        "id": "UflF3kKM4fDR",
        "outputId": "ae6a0e9a-bf32-4749-b8f6-67cf7478c0c5"
      },
      "outputs": [
        {
          "output_type": "stream",
          "name": "stdout",
          "text": [
            "_____________________ 100  /   3192\n",
            "_____________________ 200  /   3192\n",
            "_____________________ 300  /   3192\n",
            "_____________________ 400  /   3192\n",
            "_____________________ 500  /   3192\n",
            "_____________________ 600  /   3192\n",
            "_____________________ 700  /   3192\n",
            "_____________________ 800  /   3192\n",
            "_____________________ 900  /   3192\n",
            "_____________________ 1000  /   3192\n",
            "_____________________ 1100  /   3192\n",
            "_____________________ 1200  /   3192\n",
            "_____________________ 1300  /   3192\n",
            "_____________________ 1400  /   3192\n",
            "_____________________ 1500  /   3192\n",
            "_____________________ 1600  /   3192\n",
            "_____________________ 1700  /   3192\n",
            "_____________________ 1800  /   3192\n",
            "_____________________ 1900  /   3192\n",
            "_____________________ 2000  /   3192\n",
            "_____________________ 2100  /   3192\n",
            "_____________________ 2200  /   3192\n",
            "_____________________ 2300  /   3192\n",
            "_____________________ 2400  /   3192\n",
            "_____________________ 2500  /   3192\n",
            "_____________________ 2600  /   3192\n",
            "_____________________ 2700  /   3192\n",
            "_____________________ 2800  /   3192\n",
            "_____________________ 2900  /   3192\n",
            "_____________________ 3000  /   3192\n",
            "_____________________ 3100  /   3192\n",
            "[164821. 145054. 153096. ...  43176.  63246.  99050.] [  19.   38.   38. ... 3164. 3164. 3164.]\n"
          ]
        }
      ],
      "source": [
        "ratings_test = getUserInterac(df_items[itemIdColumnName].unique(), df_users[userColumnName].unique(), df_test_3)"
      ]
    },
    {
      "cell_type": "code",
      "source": [
        "train_data = ratings_train\n",
        "test_data = ratings_test"
      ],
      "metadata": {
        "id": "MtjQ8vh4T5bb"
      },
      "execution_count": 197,
      "outputs": []
    },
    {
      "cell_type": "code",
      "source": [
        "\n",
        "import numpy as np\n",
        "import pandas as pd\n",
        "import matplotlib.pyplot as plt\n",
        "import seaborn as sns\n",
        "import polars as pl\n",
        "from datetime import datetime, timedelta\n",
        "\n",
        "import time\n",
        "from tqdm import tqdm\n",
        "from metrics import ap_k\n",
        "from als import ALS\n",
        "from datagenerator import  DataGenerator\n",
        "\n",
        "from scipy.sparse import csr_matrix\n",
        "from sklearn.metrics import mean_squared_error\n",
        "from sklearn.metrics.pairwise import cosine_similarity\n",
        "from scipy.stats import pearsonr\n"
      ],
      "metadata": {
        "id": "otFSL9t0Ro7s"
      },
      "execution_count": 198,
      "outputs": []
    },
    {
      "cell_type": "code",
      "source": [
        "train_data.shape"
      ],
      "metadata": {
        "colab": {
          "base_uri": "https://localhost:8080/"
        },
        "id": "I4lC54NK2mQM",
        "outputId": "3a89ef7c-6f18-450f-af0a-fe766100ec11"
      },
      "execution_count": 199,
      "outputs": [
        {
          "output_type": "execute_result",
          "data": {
            "text/plain": [
              "(168039, 3192)"
            ]
          },
          "metadata": {},
          "execution_count": 199
        }
      ]
    },
    {
      "cell_type": "code",
      "source": [
        "# Инициализируем и обучаем модель\n",
        "print(\"\\n\" + \"=\"*50)\n",
        "als_model_interac = ALS(\n",
        "        n_factors=10,\n",
        "        alpha=40,\n",
        "        regularization=0.1,\n",
        "        iterations=10\n",
        "    )\n"
      ],
      "metadata": {
        "colab": {
          "base_uri": "https://localhost:8080/"
        },
        "id": "S3q4-9aJUD6s",
        "outputId": "b1ba51ca-a13b-4d33-9f37-541409c8c2fa"
      },
      "execution_count": 200,
      "outputs": [
        {
          "output_type": "stream",
          "name": "stdout",
          "text": [
            "\n",
            "==================================================\n"
          ]
        }
      ]
    },
    {
      "cell_type": "code",
      "source": [
        "als_model_interac.fit(train_data)\n"
      ],
      "metadata": {
        "colab": {
          "base_uri": "https://localhost:8080/"
        },
        "id": "npX_w0Fc1OJh",
        "outputId": "26a9627c-9741-4c8d-c504-da55dcd48c4c"
      },
      "execution_count": 201,
      "outputs": [
        {
          "output_type": "stream",
          "name": "stdout",
          "text": [
            "Начинаем обучение ALS...\n",
            "halfDone------------\n",
            "calcLoss\n",
            "Итерация 1/10\n",
            "halfDone------------\n",
            "calcLoss\n",
            "Итерация 2/10\n",
            "halfDone------------\n",
            "calcLoss\n",
            "Итерация 3/10\n",
            "halfDone------------\n",
            "calcLoss\n",
            "Итерация 4/10\n",
            "halfDone------------\n",
            "calcLoss\n",
            "Итерация 5/10\n",
            "halfDone------------\n",
            "calcLoss\n",
            "Итерация 6/10\n",
            "halfDone------------\n",
            "calcLoss\n",
            "Итерация 7/10\n",
            "halfDone------------\n",
            "calcLoss\n",
            "Итерация 8/10\n",
            "halfDone------------\n",
            "calcLoss\n",
            "Итерация 9/10\n",
            "halfDone------------\n",
            "calcLoss\n",
            "Итерация 10/10\n"
          ]
        }
      ]
    },
    {
      "cell_type": "code",
      "source": [],
      "metadata": {
        "id": "oua5hTA2W3lb"
      },
      "execution_count": 202,
      "outputs": []
    },
    {
      "cell_type": "code",
      "source": [
        "# ОТКЛЮЧИЛ LOSS ВЫЧИСЛЕНИЯ, Т.К. СЧИТАЛИСЬ ДОЛГО\n",
        "# Визуализация процесса обучения\n",
        "als_model_interac.plot_loss()\n",
        "\n",
        "# Оценка модели\n",
        "print(\"\\nОценка модели:\")\n"
      ],
      "metadata": {
        "colab": {
          "base_uri": "https://localhost:8080/",
          "height": 599
        },
        "id": "y9luDnYDUp91",
        "outputId": "73ab807d-d768-45d8-d38e-5b8e229454fe"
      },
      "execution_count": 203,
      "outputs": [
        {
          "output_type": "display_data",
          "data": {
            "text/plain": [
              "<Figure size 1000x600 with 1 Axes>"
            ],
            "image/png": "[encoded data removed]"
          },
          "metadata": {}
        },
        {
          "output_type": "stream",
          "name": "stdout",
          "text": [
            "\n",
            "Оценка модели:\n"
          ]
        }
      ]
    },
    {
      "cell_type": "code",
      "source": [
        "\n",
        "# Предсказания на тестовой выборке\n",
        "test_predictions = []\n",
        "test_actual = []"
      ],
      "metadata": {
        "id": "sNidr6qS7peQ"
      },
      "execution_count": 206,
      "outputs": []
    },
    {
      "cell_type": "code",
      "source": [
        "for u in range(test_data.shape[0]):\n",
        "    if u % 1000 == 0:\n",
        "              print(u)\n",
        "    for i in range(test_data.shape[1]):\n",
        "        if test_data[u, i] > 0:\n",
        "                pred = als_model_interac.predict(u, i)\n",
        "                test_predictions.append(pred)\n",
        "                test_actual.append(test_data[u, i])"
      ],
      "metadata": {
        "id": "kshG6p0OUt3M",
        "colab": {
          "base_uri": "https://localhost:8080/",
          "height": 1000
        },
        "outputId": "89dcf5d1-cebc-42fb-ab9d-e814a5360985"
      },
      "execution_count": 207,
      "outputs": [
        {
          "output_type": "stream",
          "name": "stdout",
          "text": [
            "0\n",
            "1000\n",
            "2000\n",
            "3000\n",
            "4000\n",
            "5000\n",
            "6000\n",
            "7000\n",
            "8000\n",
            "9000\n",
            "10000\n",
            "11000\n",
            "12000\n",
            "13000\n",
            "14000\n",
            "15000\n",
            "16000\n",
            "17000\n",
            "18000\n",
            "19000\n",
            "20000\n",
            "21000\n",
            "22000\n",
            "23000\n",
            "24000\n",
            "25000\n",
            "26000\n",
            "27000\n",
            "28000\n",
            "29000\n",
            "30000\n",
            "31000\n",
            "32000\n",
            "33000\n",
            "34000\n",
            "35000\n",
            "36000\n",
            "37000\n",
            "38000\n",
            "39000\n",
            "40000\n",
            "41000\n",
            "42000\n",
            "43000\n",
            "44000\n",
            "45000\n",
            "46000\n",
            "47000\n",
            "48000\n",
            "49000\n",
            "50000\n",
            "51000\n",
            "52000\n",
            "53000\n",
            "54000\n",
            "55000\n",
            "56000\n",
            "57000\n",
            "58000\n",
            "59000\n",
            "60000\n",
            "61000\n",
            "62000\n",
            "63000\n",
            "64000\n",
            "65000\n",
            "66000\n",
            "67000\n",
            "68000\n",
            "69000\n",
            "70000\n",
            "71000\n",
            "72000\n",
            "73000\n",
            "74000\n"
          ]
        },
        {
          "output_type": "error",
          "ename": "KeyboardInterrupt",
          "evalue": "",
          "traceback": [
            "\u001b[0;31m---------------------------------------------------------------------------\u001b[0m",
            "\u001b[0;31mKeyboardInterrupt\u001b[0m                         Traceback (most recent call last)",
            "\u001b[0;32m/tmp/ipython-input-1728262169.py\u001b[0m in \u001b[0;36m<cell line: 0>\u001b[0;34m()\u001b[0m\n\u001b[1;32m      3\u001b[0m               \u001b[0mprint\u001b[0m\u001b[0;34m(\u001b[0m\u001b[0mu\u001b[0m\u001b[0;34m)\u001b[0m\u001b[0;34m\u001b[0m\u001b[0;34m\u001b[0m\u001b[0m\n\u001b[1;32m      4\u001b[0m     \u001b[0;32mfor\u001b[0m \u001b[0mi\u001b[0m \u001b[0;32min\u001b[0m \u001b[0mrange\u001b[0m\u001b[0;34m(\u001b[0m\u001b[0mtest_data\u001b[0m\u001b[0;34m.\u001b[0m\u001b[0mshape\u001b[0m\u001b[0;34m[\u001b[0m\u001b[0;36m1\u001b[0m\u001b[0;34m]\u001b[0m\u001b[0;34m)\u001b[0m\u001b[0;34m:\u001b[0m\u001b[0;34m\u001b[0m\u001b[0;34m\u001b[0m\u001b[0m\n\u001b[0;32m----> 5\u001b[0;31m         \u001b[0;32mif\u001b[0m \u001b[0mtest_data\u001b[0m\u001b[0;34m[\u001b[0m\u001b[0mu\u001b[0m\u001b[0;34m,\u001b[0m \u001b[0mi\u001b[0m\u001b[0;34m]\u001b[0m \u001b[0;34m>\u001b[0m \u001b[0;36m0\u001b[0m\u001b[0;34m:\u001b[0m\u001b[0;34m\u001b[0m\u001b[0;34m\u001b[0m\u001b[0m\n\u001b[0m\u001b[1;32m      6\u001b[0m                 \u001b[0mpred\u001b[0m \u001b[0;34m=\u001b[0m \u001b[0mals_model_interac\u001b[0m\u001b[0;34m.\u001b[0m\u001b[0mpredict\u001b[0m\u001b[0;34m(\u001b[0m\u001b[0mu\u001b[0m\u001b[0;34m,\u001b[0m \u001b[0mi\u001b[0m\u001b[0;34m)\u001b[0m\u001b[0;34m\u001b[0m\u001b[0;34m\u001b[0m\u001b[0m\n\u001b[1;32m      7\u001b[0m                 \u001b[0mtest_predictions\u001b[0m\u001b[0;34m.\u001b[0m\u001b[0mappend\u001b[0m\u001b[0;34m(\u001b[0m\u001b[0mpred\u001b[0m\u001b[0;34m)\u001b[0m\u001b[0;34m\u001b[0m\u001b[0;34m\u001b[0m\u001b[0m\n",
            "\u001b[0;32m/usr/local/lib/python3.12/dist-packages/scipy/sparse/_index.py\u001b[0m in \u001b[0;36m__getitem__\u001b[0;34m(self, key)\u001b[0m\n\u001b[1;32m     60\u001b[0m         \u001b[0;32mif\u001b[0m \u001b[0misinstance\u001b[0m\u001b[0;34m(\u001b[0m\u001b[0mrow\u001b[0m\u001b[0;34m,\u001b[0m \u001b[0mINT_TYPES\u001b[0m\u001b[0;34m)\u001b[0m\u001b[0;34m:\u001b[0m\u001b[0;34m\u001b[0m\u001b[0;34m\u001b[0m\u001b[0m\n\u001b[1;32m     61\u001b[0m             \u001b[0;32mif\u001b[0m \u001b[0misinstance\u001b[0m\u001b[0;34m(\u001b[0m\u001b[0mcol\u001b[0m\u001b[0;34m,\u001b[0m \u001b[0mINT_TYPES\u001b[0m\u001b[0;34m)\u001b[0m\u001b[0;34m:\u001b[0m\u001b[0;34m\u001b[0m\u001b[0;34m\u001b[0m\u001b[0m\n\u001b[0;32m---> 62\u001b[0;31m                 \u001b[0mres\u001b[0m \u001b[0;34m=\u001b[0m \u001b[0mself\u001b[0m\u001b[0;34m.\u001b[0m\u001b[0m_get_intXint\u001b[0m\u001b[0;34m(\u001b[0m\u001b[0mrow\u001b[0m\u001b[0;34m,\u001b[0m \u001b[0mcol\u001b[0m\u001b[0;34m)\u001b[0m\u001b[0;34m\u001b[0m\u001b[0;34m\u001b[0m\u001b[0m\n\u001b[0m\u001b[1;32m     63\u001b[0m             \u001b[0;32melif\u001b[0m \u001b[0misinstance\u001b[0m\u001b[0;34m(\u001b[0m\u001b[0mcol\u001b[0m\u001b[0;34m,\u001b[0m \u001b[0mslice\u001b[0m\u001b[0;34m)\u001b[0m\u001b[0;34m:\u001b[0m\u001b[0;34m\u001b[0m\u001b[0;34m\u001b[0m\u001b[0m\n\u001b[1;32m     64\u001b[0m                 \u001b[0mres\u001b[0m \u001b[0;34m=\u001b[0m \u001b[0mself\u001b[0m\u001b[0;34m.\u001b[0m\u001b[0m_get_intXslice\u001b[0m\u001b[0;34m(\u001b[0m\u001b[0mrow\u001b[0m\u001b[0;34m,\u001b[0m \u001b[0mcol\u001b[0m\u001b[0;34m)\u001b[0m\u001b[0;34m\u001b[0m\u001b[0;34m\u001b[0m\u001b[0m\n",
            "\u001b[0;32m/usr/local/lib/python3.12/dist-packages/scipy/sparse/_compressed.py\u001b[0m in \u001b[0;36m_get_intXint\u001b[0;34m(self, row, col)\u001b[0m\n\u001b[1;32m    543\u001b[0m         \u001b[0mM\u001b[0m\u001b[0;34m,\u001b[0m \u001b[0mN\u001b[0m \u001b[0;34m=\u001b[0m \u001b[0mself\u001b[0m\u001b[0;34m.\u001b[0m\u001b[0m_swap\u001b[0m\u001b[0;34m(\u001b[0m\u001b[0mself\u001b[0m\u001b[0;34m.\u001b[0m\u001b[0mshape\u001b[0m\u001b[0;34m)\u001b[0m\u001b[0;34m\u001b[0m\u001b[0;34m\u001b[0m\u001b[0m\n\u001b[1;32m    544\u001b[0m         \u001b[0mmajor\u001b[0m\u001b[0;34m,\u001b[0m \u001b[0mminor\u001b[0m \u001b[0;34m=\u001b[0m \u001b[0mself\u001b[0m\u001b[0;34m.\u001b[0m\u001b[0m_swap\u001b[0m\u001b[0;34m(\u001b[0m\u001b[0;34m(\u001b[0m\u001b[0mrow\u001b[0m\u001b[0;34m,\u001b[0m \u001b[0mcol\u001b[0m\u001b[0;34m)\u001b[0m\u001b[0;34m)\u001b[0m\u001b[0;34m\u001b[0m\u001b[0;34m\u001b[0m\u001b[0m\n\u001b[0;32m--> 545\u001b[0;31m         indptr, indices, data = get_csr_submatrix(\n\u001b[0m\u001b[1;32m    546\u001b[0m             \u001b[0mM\u001b[0m\u001b[0;34m,\u001b[0m \u001b[0mN\u001b[0m\u001b[0;34m,\u001b[0m \u001b[0mself\u001b[0m\u001b[0;34m.\u001b[0m\u001b[0mindptr\u001b[0m\u001b[0;34m,\u001b[0m \u001b[0mself\u001b[0m\u001b[0;34m.\u001b[0m\u001b[0mindices\u001b[0m\u001b[0;34m,\u001b[0m \u001b[0mself\u001b[0m\u001b[0;34m.\u001b[0m\u001b[0mdata\u001b[0m\u001b[0;34m,\u001b[0m\u001b[0;34m\u001b[0m\u001b[0;34m\u001b[0m\u001b[0m\n\u001b[1;32m    547\u001b[0m             major, major + 1, minor, minor + 1)\n",
            "\u001b[0;31mKeyboardInterrupt\u001b[0m: "
          ]
        }
      ]
    },
    {
      "cell_type": "code",
      "source": [
        "# Вычисляем метрики\n",
        "mse = mean_squared_error(test_actual, test_predictions)\n",
        "rmse = np.sqrt(mse)\n",
        "\n",
        "print(f\"RMSE на тестовой выборке: {rmse:.4f}\")\n",
        "\n",
        "    # Демонстрация рекомендаций\n",
        "print(\"\\nДемонстрация рекомендаций:\")\n",
        "user_id = 0\n",
        "recommended_items, scores = als_model_interac.recommend(user_id, n_recommendations=10)\n",
        "\n",
        "print(f\"Топ-10 рекомендаций для пользователя {user_id}:\")\n",
        "for i, (item, score) in enumerate(zip(recommended_items, scores)):\n",
        "    print(f\"{i+1}. Item {item} (score: {score:.3f})\")\n",
        "\n",
        "    # Анализ факторов\n",
        "print(f\"\\nАнализ модели:\")\n",
        "print(f\"Размерность user_factors: {als_model_interac.user_factors.shape}\")\n",
        "print(f\"Размерность item_factors: {als_model_interac.item_factors.shape}\")\n",
        "print(f\"Общее количество параметров: {als_model_interac.user_factors.size + als_model_interac.item_factors.size}\")\n"
      ],
      "metadata": {
        "id": "IR8oyhb5TyXW",
        "colab": {
          "base_uri": "https://localhost:8080/"
        },
        "outputId": "e78b5be1-537b-4fe9-fa97-8ef0242d3191"
      },
      "execution_count": 210,
      "outputs": [
        {
          "output_type": "stream",
          "name": "stdout",
          "text": [
            "RMSE на тестовой выборке: 62.1458\n",
            "\n",
            "Демонстрация рекомендаций:\n",
            "Топ-10 рекомендаций для пользователя 0:\n",
            "1. Item 1412 (score: 0.216)\n",
            "2. Item 1369 (score: 0.144)\n",
            "3. Item 536 (score: 0.124)\n",
            "4. Item 1327 (score: 0.096)\n",
            "5. Item 996 (score: 0.092)\n",
            "6. Item 2923 (score: 0.083)\n",
            "7. Item 597 (score: 0.078)\n",
            "8. Item 3180 (score: 0.076)\n",
            "9. Item 453 (score: 0.074)\n",
            "10. Item 638 (score: 0.073)\n",
            "\n",
            "Анализ модели:\n",
            "Размерность user_factors: (168039, 10)\n",
            "Размерность item_factors: (3192, 10)\n",
            "Общее количество параметров: 1712310\n"
          ]
        }
      ]
    }
  ],
  "metadata": {
    "colab": {
      "collapsed_sections": [
        "v9Ikze3n7vAT",
        "eTPxOqae79LP",
        "cdOVu-esFihl",
        "FdXgx8aiM756"
      ],
      "provenance": []
    },
    "kernelspec": {
      "display_name": "Python 3",
      "name": "python3"
    },
    "language_info": {
      "name": "python"
    }
  },
  "nbformat": 4,
  "nbformat_minor": 0
}