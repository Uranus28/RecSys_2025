{
  "nbformat": 4,
  "nbformat_minor": 0,
  "metadata": {
    "colab": {
      "provenance": [],
      "collapsed_sections": [
        "FsTV9BgMxLha"
      ]
    },
    "kernelspec": {
      "name": "python3",
      "display_name": "Python 3"
    },
    "language_info": {
      "name": "python"
    }
  },
  "cells": [
    {
      "cell_type": "code",
      "source": [
        "import requests\n"
      ],
      "metadata": {
        "id": "8vW28Zdzz_Ia"
      },
      "execution_count": 1,
      "outputs": []
    },
    {
      "cell_type": "code",
      "source": [
        "import json\n"
      ],
      "metadata": {
        "id": "xirbDYsjR1VR"
      },
      "execution_count": 2,
      "outputs": []
    },
    {
      "cell_type": "code",
      "source": [
        "# with open('data.json', 'w', encoding='utf-8') as file:\n",
        "#     json.dump(repos_data, file, ensure_ascii=False, indent=4)\n"
      ],
      "metadata": {
        "id": "zVxq85RpR1VS"
      },
      "execution_count": null,
      "outputs": []
    },
    {
      "cell_type": "markdown",
      "source": [
        "# BeautifulSoup"
      ],
      "metadata": {
        "id": "fIcI2uRHR7Nx"
      }
    },
    {
      "cell_type": "code",
      "source": [
        "from bs4 import BeautifulSoup\n",
        "import re"
      ],
      "metadata": {
        "id": "YMeUqn6eR9mt"
      },
      "execution_count": 3,
      "outputs": []
    },
    {
      "cell_type": "code",
      "source": [
        "# loaded_response = response.json() # Get the JSON response containing the HTML containing the required JSON.\n",
        "# results_html = loaded_response['results_html'] # Get the HTML from the JSON\n",
        "# soup = BeautifulSoup(results_html, 'html.parser')\n",
        "# text = soup.find_all('script')[1].text # Get the script element from the HTML.\n",
        "# # Get the JSON in the HTML script element\n",
        "# jn = json.loads(text[text.index(\"var g_rgTopCurators = \")+ len(\"var g_rgTopCurators = \"):text.index(\"var fnCreateCapsule\")].strip().rstrip(';'))\n",
        "# for i in jn:  # Iterate through JSON\n",
        "#     print (i['name'])\n"
      ],
      "metadata": {
        "id": "Z65SinuxVMNJ"
      },
      "execution_count": null,
      "outputs": []
    },
    {
      "cell_type": "code",
      "source": [
        "import base64"
      ],
      "metadata": {
        "id": "WL9jlYcBi4L2"
      },
      "execution_count": 4,
      "outputs": []
    },
    {
      "cell_type": "code",
      "source": [],
      "metadata": {
        "id": "EMVQ7R6mi1bp"
      },
      "execution_count": 79,
      "outputs": []
    },
    {
      "cell_type": "code",
      "source": [
        "\n",
        "headers = {\"User-Agent\": \"Mozilla/5.0 (iPhone; CPU iPhone OS 18_5 like Mac OS X) AppleWebKit/605.1.15 (KHTML, like Gecko) Version/18.5 Mobile/15E148 Safari/604.1\"}\n",
        "host = 'https://www.albumoftheyear.org'\n",
        "text_html = requests.get(host, headers = headers)\n",
        "soup = BeautifulSoup(text_html.text, \"lxml\")\n"
      ],
      "metadata": {
        "id": "jCqoEoMPT5FX"
      },
      "execution_count": 10,
      "outputs": []
    },
    {
      "cell_type": "code",
      "source": [
        "text_html = requests.get(host, headers = headers)\n",
        "soup = BeautifulSoup(text_html.text, \"lxml\")\n"
      ],
      "metadata": {
        "id": "wlZjD20Cjuig"
      },
      "execution_count": 11,
      "outputs": []
    },
    {
      "cell_type": "code",
      "source": [
        "# all_divs = soup.find_all('html')"
      ],
      "metadata": {
        "id": "ySbGuk_Uaj5U"
      },
      "execution_count": 81,
      "outputs": []
    },
    {
      "cell_type": "code",
      "source": [
        "# all_divs"
      ],
      "metadata": {
        "collapsed": true,
        "id": "cvmdL7UeatbD"
      },
      "execution_count": null,
      "outputs": []
    },
    {
      "cell_type": "code",
      "source": [
        "def getHighestUserRatedAlbums(soup, host):\n",
        "\n",
        "  best_sections = soup.find_all('section', class_ = 'bestHome')\n",
        "  items = []\n",
        "  bestUsers_section = best_sections[1]\n",
        "  for album_div in bestUsers_section.find_all('div', class_ = ['listItemSmall']):\n",
        "    albumTitle = album_div.find('div', class_ = 'albumTitle').get_text(strip=True, separator='\\n')\n",
        "    artistTitle = album_div.find('div', class_ = 'artistTitle').get_text(strip=True, separator='\\n')\n",
        "    albumUrl = host + album_div.find('a')['href']\n",
        "    albumRating = album_div.find('div', class_ = 'rating').get_text(strip=True, separator='\\n')\n",
        "\n",
        "    # попытался пройти далее по ссылке на кнопке, но там js пример ссылки 'https://www.albumoftheyear.org/album/1227674-mckinley-dixon-magic-alive.php'\n",
        "    album_page_html = requests.get(albumUrl, headers = headers)\n",
        "    album_soup = BeautifulSoup(album_page_html.text, \"lxml\")\n",
        "    albumScoreBox_div = album_soup.find('div', class_ = 'albumUserScoreBox')\n",
        "    if albumScoreBox_div is not None:\n",
        "      contributorsCount_div = albumScoreBox_div.find('div', class_ = 'numReviews')\n",
        "      contributorsCount = contributorsCount_div.find('strong').get_text(strip=True, separator='\\n')\n",
        "    else:\n",
        "      contributorsCount= None\n",
        "    items.append({\n",
        "        'albumTitle': albumTitle,\n",
        "        'artistTitle': artistTitle,\n",
        "        'albumUrl': albumUrl,\n",
        "        'albumRating': albumRating,\n",
        "        'contributorsCount': contributorsCount,\n",
        "                  })\n",
        "  return items"
      ],
      "metadata": {
        "id": "0MK7LE8nVez3"
      },
      "execution_count": 12,
      "outputs": []
    },
    {
      "cell_type": "code",
      "source": [
        "albums = getHighestUserRatedAlbums(soup, host)"
      ],
      "metadata": {
        "id": "8EPj3lotY6Tl"
      },
      "execution_count": 13,
      "outputs": []
    },
    {
      "cell_type": "code",
      "source": [
        "for ind, i in enumerate(albums):\n",
        "  print(ind+1,\" Place\")\n",
        "  print('albumTitle: ', i['albumTitle'])\n",
        "  print('artistTitle: ', i['artistTitle'])\n",
        "  print('albumUrl: ', i['albumUrl'])\n",
        "  print('albumRating:', i['albumRating'], ' based on ', i['contributorsCount'])\n",
        "  print('------------------------')"
      ],
      "metadata": {
        "colab": {
          "base_uri": "https://localhost:8080/"
        },
        "id": "FKIDFexsYyXI",
        "outputId": "ddb76a14-9660-4153-f3ce-6b1fcc6ce232"
      },
      "execution_count": 14,
      "outputs": [
        {
          "output_type": "stream",
          "name": "stdout",
          "text": [
            "1  Place\n",
            "albumTitle:  Let God Sort Em Out\n",
            "artistTitle:  Clipse\n",
            "albumUrl:  https://www.albumoftheyear.org/album/991217-clipse-let-god-sort-em-out.php\n",
            "albumRating: 88  based on  None\n",
            "------------------------\n",
            "2  Place\n",
            "albumTitle:  Vanisher, Horizon Scraper\n",
            "artistTitle:  Quadeca\n",
            "albumUrl:  https://www.albumoftheyear.org/album/886457-quadeca-vanisher.php\n",
            "albumRating: 87  based on  None\n",
            "------------------------\n",
            "3  Place\n",
            "albumTitle:  Magic, Alive!\n",
            "artistTitle:  McKinley Dixon\n",
            "albumUrl:  https://www.albumoftheyear.org/album/1227674-mckinley-dixon-magic-alive.php\n",
            "albumRating: 87  based on  None\n",
            "------------------------\n",
            "4  Place\n",
            "albumTitle:  Pain to Power\n",
            "artistTitle:  Maruja\n",
            "albumUrl:  https://www.albumoftheyear.org/album/1311691-maruja-pain-to-power.php\n",
            "albumRating: 87  based on  None\n",
            "------------------------\n",
            "5  Place\n",
            "albumTitle:  Racing Mount Pleasant\n",
            "artistTitle:  Racing Mount Pleasant\n",
            "albumUrl:  https://www.albumoftheyear.org/album/1351956-racing-mount-pleasant-racing-mount-pleasant.php\n",
            "albumRating: 86  based on  None\n",
            "------------------------\n"
          ]
        }
      ]
    },
    {
      "cell_type": "code",
      "source": [
        "#  host_m = 'https://www.albumoftheyear.org/album/1227674-mckinley-dixon-magic-alive.php'\n",
        "#  r = requests.get(host_m)\n",
        "#  r.cookies\n"
      ],
      "metadata": {
        "colab": {
          "base_uri": "https://localhost:8080/"
        },
        "id": "mWrY4ds3jxwv",
        "outputId": "0f4b5127-f3d8-4e65-8518-e80d31e93bb8"
      },
      "execution_count": 85,
      "outputs": [
        {
          "output_type": "execute_result",
          "data": {
            "text/plain": [
              "<RequestsCookieJar[]>"
            ]
          },
          "metadata": {},
          "execution_count": 85
        }
      ]
    },
    {
      "cell_type": "code",
      "source": [
        "# host_m = 'https://www.albumoftheyear.org/album/1227674-mckinley-dixon-magic-alive.php'\n",
        "# text_html_m = requests.get(host_m, headers = headers)\n",
        "# aaa_soup = text_html_m.content\n",
        "# soup_m = BeautifulSoup(aaa_soup, \"html.parser\")\n"
      ],
      "metadata": {
        "id": "jvI_0XNzfq0m"
      },
      "execution_count": 83,
      "outputs": []
    },
    {
      "cell_type": "code",
      "source": [
        "# soup_m"
      ],
      "metadata": {
        "colab": {
          "base_uri": "https://localhost:8080/"
        },
        "collapsed": true,
        "id": "3rEs5e-cfxxx",
        "outputId": "7dc16de3-8701-4fca-ee57-106c7074158c"
      },
      "execution_count": 84,
      "outputs": [
        {
          "output_type": "execute_result",
          "data": {
            "text/plain": [
              "<!DOCTYPE html>\n",
              "<html lang=\"en-US\"><head><title>Just a moment...</title><meta content=\"text/html; charset=utf-8\" http-equiv=\"Content-Type\"/><meta content=\"IE=Edge\" http-equiv=\"X-UA-Compatible\"/><meta content=\"noindex,nofollow\" name=\"robots\"/><meta content=\"width=device-width,initial-scale=1\" name=\"viewport\"/><style>*{box-sizing:border-box;margin:0;padding:0}html{line-height:1.15;-webkit-text-size-adjust:100%;color:#313131;font-family:system-ui,-apple-system,BlinkMacSystemFont,\"Segoe UI\",Roboto,\"Helvetica Neue\",Arial,\"Noto Sans\",sans-serif,\"Apple Color Emoji\",\"Segoe UI Emoji\",\"Segoe UI Symbol\",\"Noto Color Emoji\"}body{display:flex;flex-direction:column;height:100vh;min-height:100vh}.main-content{margin:8rem auto;padding-left:1.5rem;max-width:60rem}@media (width <= 720px){.main-content{margin-top:4rem}}.h2{line-height:2.25rem;font-size:1.5rem;font-weight:500}@media (width <= 720px){.h2{line-height:1.5rem;font-size:1.25rem}}#challenge-error-text{background-image:url(\"data:image/svg+xml;base64,PHN2ZyB4bWxucz0iaHR0cDovL3d3dy53My5vcmcvMjAwMC9zdmciIHdpZHRoPSIzMiIgaGVpZ2h0PSIzMiIgZmlsbD0ibm9uZSI+PHBhdGggZmlsbD0iI0IyMEYwMyIgZD0iTTE2IDNhMTMgMTMgMCAxIDAgMTMgMTNBMTMuMDE1IDEzLjAxNSAwIDAgMCAxNiAzbTAgMjRhMTEgMTEgMCAxIDEgMTEtMTEgMTEuMDEgMTEuMDEgMCAwIDEtMTEgMTEiLz48cGF0aCBmaWxsPSIjQjIwRjAzIiBkPSJNMTcuMDM4IDE4LjYxNUgxNC44N0wxNC41NjMgOS41aDIuNzgzem0tMS4wODQgMS40MjdxLjY2IDAgMS4wNTcuMzg4LjQwNy4zODkuNDA3Ljk5NCAwIC41OTYtLjQwNy45ODQtLjM5Ny4zOS0xLjA1Ny4zODktLjY1IDAtMS4wNTYtLjM4OS0uMzk4LS4zODktLjM5OC0uOTg0IDAtLjU5Ny4zOTgtLjk4NS40MDYtLjM5NyAxLjA1Ni0uMzk3Ii8+PC9zdmc+\");background-repeat:no-repeat;background-size:contain;padding-left:34px}@media (prefers-color-scheme: dark){body{background-color:#222;color:#d9d9d9}}</style><meta content=\"360\" http-equiv=\"refresh\"/></head><body><div class=\"main-wrapper\" role=\"main\"><div class=\"main-content\"><noscript><div class=\"h2\"><span id=\"challenge-error-text\">Enable JavaScript and cookies to continue</span></div></noscript></div></div><script>(function(){window._cf_chl_opt = {cvId: '3',cZone: 'www.albumoftheyear.org',cType: 'managed',cRay: '98f870e9ec85cb9c',cH: 'WhCJLn7TebMDzbjgMvvoBwIkWfMkQztCfcNh8JrHKHk-1760626986-1.2.1.1-xOgj7P.8G0oEGKmAwKgj1zvoWK4en0l1nvILvz8suzfXDnu5ud0E5xIVZlED24pi',cUPMDTk:\"\\/album\\/1227674-mckinley-dixon-magic-alive.php?__cf_chl_tk=rub7y9NOiuADG3NI43XehbiJjqgoGWyjm5m7s_TviQk-1760626986-1.0.1.1-YTYfQ4yTsJMi_ehXEgHv3iAv2laQR4aWFam0rGduGtk\",cFPWv: 'g',cITimeS: '1760626986',cTplC:0,cTplV:5,cTplB: 'cf',fa:\"\\/album\\/1227674-mckinley-dixon-magic-alive.php?__cf_chl_f_tk=rub7y9NOiuADG3NI43XehbiJjqgoGWyjm5m7s_TviQk-1760626986-1.0.1.1-YTYfQ4yTsJMi_ehXEgHv3iAv2laQR4aWFam0rGduGtk\",md: 'hjrbEIABSQd.aunLI5GbrQCula1htQk6.j3uIVjCEco-1760626986-1.2.1.1-7u6pU3JbcdcpAqvsqR0SaARhsqsWbETibMoCDNOzikQsM0r0KSotBSMPcIN1weYEnCWxch3D6s3fFjgqa4KiocMYmGmys.d1.VQgXNiuCJyJ52rHxv8YJfTC_2DcbzECyQTeDB4gSxReqMoQF.3YJCZml1LFjFvv3A9gISYOyN_EMUlFmgNrAU5RAnNEt4jC.eW6NNTRVce2jri50gtKgXNEMNrgEIUueu0uDblVkCo.GxhKpw6pMArtcrzMBtP5QmqEsjqx_LBRpnaKDGrxMADFnbBAGZc.iijb1jSDi6XporoXdf8RVykOiM0J7xeFHUdZIgCevn1Cl4uHMbYpwbvIpYh.AMBjR4dmtESAXiQsfilc9CQYzqmHslpQgrbMCkXig4TOf58HOVl6q4X.hQeKVjxM4Xlq0n8rvT8sEq7jWVLQ5XUGjq14cNwD_zFwrWZohvI92lGHrYtmYKeIlwHlHclyIbvA0RqZpeBaWi2CmxwhaKRqwWI445zmyeowsu__NGPx9g0B7uSS4JOX6Xwq18brMH1jvlILv.Xee1aGmDxs3U1IxFrqIeJZZmDJ3GDyIFyBFCJIeBMZoSwuwCYflHhni9dBR1N_lCS8qLe5fD3udmTixhKI3sKFbekKmuyTf3zHu0MmvtHd54lYHQ14HSntNQRivW.RVT5_nTiOalY6tKD3X1tk0WZYZ3bzgtOKtEjYewgiPnJen99GGlW9nTQU3hJNNaGbCdp9UpkyVkM6VlwGgxB4Evl_zbKp9W1YY3DJSr8drDCSDtg9UxajDSJDW_gj0WhUByTmF9o8Xs7aVQ_qDP0PWT1CcyMu9rhsuLI3tnO3FEj8A1jrvIyJreBLsZpCtykquRDyZG7Dv2I.Xh86gfnO2LYPzavDEQMCovwEGhUWioFII3twuLNVTfQSLNrB8_SHTAuvYEf3g1_xjjd._1IezyLSxWjups83WM.VoACcz2gXLrQncrFMpYsdD7vQF0LtUMrQt3HByUlPJcuipdNklUZ0Isf0vB.F5ZKDlNagwgcTiQstqxqZK6g49c0TFPuqsShHhzzHGxdv5xQjNyrZeCFcYEXX0HuSKLbuS7CMCS6qTCX5_QoRQCbnX40b2LpX12yk8X2YKQ5mGkcj4h384.UmcFc6d_nUApe121OwtA28TBjpLg',mdrd: 'nB.2eVyjIUOqrmf_usDmfc.jovPJ.luUrPbB3_sYE70-1760626986-1.2.1.1-CoWVXgfyeI12RpYbQwRGtNKGRkdnesGTu_854U9VVx6moTmejv1LrsfUu5Bngt9vPatT1kkeB_8xsvDA4xqhSiO0b0XpM0cB8tcpI8OT3O.88_CeLAvZhF5b89.uB9d8Gnu7g3k.kpORVq7oC8qRXkvWFw6uzjYyP8edYaPrv.ArAyh.NxhgWkIYXmMQcCw1vVoeA5.GYNl8rKcOUp0AB3SlJPWbpNIWChCzLSaimfrJ2EYXtzUQePP5k61T5Ch3ffMV_ylSwyRoZZU_BUDqt40RQpIi9ooVFOweiN3X.0OwcJI0GuMEuxrNLBU_e7dHBMg_jLJVgx8qaAQwGKEh153.QsWGPQKITh54h6ijZlcCch8T1udK6wJ.tiOUHQtlc_n8JopdANEi9kqh3BSfNC77YrqVwe05x4KyJMGCejajAF0gXaWMNmJIkOkiesgxYgrbzWJ_Uxxd4bronigV4xVWdaaBozNjoKSRevcoVx2seZaO6AYF1afbXre_5st_Hp4i0FihUHrMqwAPsuFZJFAUdpilU2IePEi2BfATmjkNXjg6iX7oouHsLnMYcZbj.6m72xRPXjHV5nLMmQQ9GkekkbWX04PjfihOD.9yBVg.sd6mSgd0nsgVlbD_uzNO9vRpnwQSsSKhJn.9c.EYyiiO8g0hjEhryD9qZ5DouFjgVMwcmJVyqwFOY5DYmDchSyZqJYRs4U15C5jyFQ8wvqR9Lqezdh6Sj1doFwAxwRb0V1ohbmUnKhsuvM1.Veoo6Y3P2_Wom.dNTHReoygd6A31WwKtkYPkzylgxo_ujlSMMv154q3NlOJ0_DoywxSeQdwm49CWvfdYWAf4eiyGamD_2HkvO5ILkJfUE6vBJLnOAR4bHwS6.qbtPDbGkKnXLfzwdBxt1p1ICbTEGs5Rh4iTfLkv.3eZpWlbdzO0f26a3Ys4f6UpcLcM1chn56pNv0kae_LONdVS.8KrKAk1rGneq61gpPnquxAIiFtNxrXyeZscMmi_S_fPvrQJjX7JFloYxjIUIYx.5m6MGMMVfFvLpngOtvSUZ1YS1NETPWr3sbshnX.m.z50L_pCPyeYV0Ucojh.X0DfyVZ4I8r69kIDoJ.L0lGln9TVe3h2CaqF_BPzAbHIXnSbF3a87lVdano9LlkepwDH5.beCoOt92fIfAcEBkZDk6pQBBiNojdA74xSSPsmfnLFxbTE1PS13Fa4.UUuBt0JTPMxhWd4Bg2rMbjXGky9yGON4xhX5ImZLcZtVHCOvP7pI2Q9H4xVSnsZABdTV0RQwoDxzUw7.5A39gIsxlcLMmWNLtsF6wO1R003nX5V048beu3j0KWjHfvTuKHU5IElPFbXp8bmAsUR4Qu8F5YF4Z1Efvfnzn8Ypl6ynGsvP1BQrh9HX_IIJnJ0S1GgnMX6dqZgwZKegfelqMfQlT.nf99bQ3R88AlQCzsB7sN7kUDVAY1R965yg8f_RNb7x_kftbHU5bmgRh0KKmhF0PXnyNuCaGPKhoI_ogk6nV7EGXIdx4mENfHeePT7TOd18KYfUmdkVVy5MpghojaZ7GHV3bFjBRVh7PyCZUzWiXVQmrf.MIC6a2MpqBmGfP_EshH679WJ8LPjsJxp26ga_83VdKd0VQfwHqw80RmqW9vWpX9n.7eHFaN3zbVzaDo8UfBeA3qkqHxflxnHV1ux3TnSBmYQYp4q8paFF3oo_S5SstnxdVaTsTyzOlkEzjG5CdW.rHU6TesloSOIHegNEFJokUa5HEfdsKk5OVakWhO8dQUG1ZPNACfHJ9.lCyZeGXcjGNUP6wspEaZkeYqq3bXXO5IrgKM8AylqrMW.9m1Yt..Uh8h_LLU3xLJBNK5Ozm6hNLMent3VF1RJkCnA12MspTkaQo74pVfpAbnWhDh0HVrN1px9qzDMMvDDy_z1fW0hWpDcQQ0Sn2r7DCV9xLnjY.rgyeTQWPo_GQ1WFdEo11AT_MIDnM0huDKLpfGeSXeMuPZJAm_f.AZEZKO7nTkjuCxcEYBaFFmoySEnZcAZySi4bpp7pLu9082b.DiswYOyE.ZLjnhYNwddYGx4cuW0B1PqR7URnXCdJxozBBEWNMmw_WUPr4mSz558SW.p32_gJk8CJM0qY21vnVGYAKkdNcIrLzdmJ3IssX4.KSPffgLfBwB_v9onjRnSi3Y2xeci2sfWD74usU6LE7NYsWVWBqmZvUpye1vKeEY19.XkyRnh4epUyqB8fCSQS_I_VJd4GL799gaz8XJuD85X.1fqpU77Fbx.u.g2rRb.fYaMpKtFW8b5m.TEsL1hsyoXgshexVTXGfKPmzJa2AQK7Bw5N7eLu1oxznaX9AQki2Rhyc0q564ABzZVnJnNUmYoreCbdErUX2VoAL8i4BXcnKtiWBpTHppLAaS8su869PiAOI28HLKzkeiBd.6lzyl3wFS_zWpfVLXqu28b__._lyznsb_LTQbmkrYWi684oRxy6U023YjC_IjqUDV5hLdW5V8AZ3pEsGNBHROJERlHMaeJ1KQNXl3DHfDHZhI.qO40P9IYFMMz88pDHmQiRKzOg.QgfXJdkfrv8w',};var a = document.createElement('script');a.src = '/cdn-cgi/challenge-platform/h/g/orchestrate/chl_page/v1?ray=98f870e9ec85cb9c';window._cf_chl_opt.cOgUHash = location.hash === '' && location.href.indexOf('#') !== -1 ? '#' : location.hash;window._cf_chl_opt.cOgUQuery = location.search === '' && location.href.slice(0, location.href.length - window._cf_chl_opt.cOgUHash.length).indexOf('?') !== -1 ? '?' : location.search;if (window.history && window.history.replaceState) {var ogU = location.pathname + window._cf_chl_opt.cOgUQuery + window._cf_chl_opt.cOgUHash;history.replaceState(null, null,\"\\/album\\/1227674-mckinley-dixon-magic-alive.php?__cf_chl_rt_tk=rub7y9NOiuADG3NI43XehbiJjqgoGWyjm5m7s_TviQk-1760626986-1.0.1.1-YTYfQ4yTsJMi_ehXEgHv3iAv2laQR4aWFam0rGduGtk\"+ window._cf_chl_opt.cOgUHash);a.onload = function() {history.replaceState(null, null, ogU);}}document.getElementsByTagName('head')[0].appendChild(a);}());</script></body></html>"
            ]
          },
          "metadata": {},
          "execution_count": 84
        }
      ]
    },
    {
      "cell_type": "markdown",
      "source": [
        "# xPath"
      ],
      "metadata": {
        "id": "-ZWoByqAlUHs"
      }
    },
    {
      "cell_type": "code",
      "source": [
        "from pprint import pprint\n",
        "from lxml import html"
      ],
      "metadata": {
        "id": "jGEUbVL_lUHv"
      },
      "execution_count": 15,
      "outputs": []
    },
    {
      "cell_type": "code",
      "source": [
        "# loaded_response = response.json() # Get the JSON response containing the HTML containing the required JSON.\n",
        "# results_html = loaded_response['results_html'] # Get the HTML from the JSON\n",
        "# soup = BeautifulSoup(results_html, 'html.parser')\n",
        "# text = soup.find_all('script')[1].text # Get the script element from the HTML.\n",
        "# # Get the JSON in the HTML script element\n",
        "# jn = json.loads(text[text.index(\"var g_rgTopCurators = \")+ len(\"var g_rgTopCurators = \"):text.index(\"var fnCreateCapsule\")].strip().rstrip(';'))\n",
        "# for i in jn:  # Iterate through JSON\n",
        "#     print (i['name'])\n"
      ],
      "metadata": {
        "id": "t5o0V5qPlUHy"
      },
      "execution_count": null,
      "outputs": []
    },
    {
      "cell_type": "code",
      "source": [],
      "metadata": {
        "id": "Ui6_4MZGlUHz"
      },
      "execution_count": null,
      "outputs": []
    },
    {
      "cell_type": "code",
      "source": [
        "\n",
        "headers = {\"User-Agent\": \"Mozilla/5.0 (iPhone; CPU iPhone OS 18_5 like Mac OS X) AppleWebKit/605.1.15 (KHTML, like Gecko) Version/18.5 Mobile/15E148 Safari/604.1\"}\n",
        "host = 'https://www.albumoftheyear.org'\n",
        "text_html = requests.get(host, headers = headers)\n",
        "dom = html.fromstring(text_html.text)\n"
      ],
      "metadata": {
        "id": "9vwa0euKlUHz"
      },
      "execution_count": 17,
      "outputs": []
    },
    {
      "cell_type": "code",
      "source": [
        "# text_html = requests.get(host, headers = headers)\n",
        "# soup = BeautifulSoup(text_html.text, \"lxml\")\n"
      ],
      "metadata": {
        "id": "xw2C_A_3lUH0"
      },
      "execution_count": null,
      "outputs": []
    },
    {
      "cell_type": "code",
      "source": [
        "def getHighestUserRatedAlbumsXPath(dom):\n",
        "\n",
        "  best_sections = dom.xpath(\"//*[contains(@class, 'bestHome')]\")\n",
        "  items = []\n",
        "  bestUsers_section = best_sections[1]\n",
        "  for album_div in bestUsers_section.xpath(\".//div[contains(@class, 'listItemSmall')]\"):\n",
        "    albumTitle = album_div.xpath(\".//div[contains(@class, 'albumTitle')]//text()\")[0]\n",
        "    artistTitle = album_div.xpath(\".//div[contains(@class, 'artistTitle')]//text()\")[0]\n",
        "    al_url = album_div.xpath(\".//a/@href\")[0]\n",
        "    print(al_url)\n",
        "    albumUrl = host + al_url\n",
        "    albumRating = album_div.xpath(\".//div[contains(@class, 'rating')]//text()\")[0]\n",
        "\n",
        "    items.append({\n",
        "        'albumTitle': albumTitle,\n",
        "        'artistTitle': artistTitle,\n",
        "        'albumUrl': albumUrl,\n",
        "        'albumRating': albumRating,\n",
        "        # 'contributorsCount': contributorsCount,\n",
        "                  })\n",
        "  return items"
      ],
      "metadata": {
        "id": "Pc1cI3nVlUH1"
      },
      "execution_count": 18,
      "outputs": []
    },
    {
      "cell_type": "code",
      "source": [
        "albums = getHighestUserRatedAlbumsXPath(dom)"
      ],
      "metadata": {
        "colab": {
          "base_uri": "https://localhost:8080/"
        },
        "id": "CjRJx6HulUH2",
        "outputId": "3cd3b026-e961-49cd-cf49-cd9f03c75ac5"
      },
      "execution_count": 19,
      "outputs": [
        {
          "output_type": "stream",
          "name": "stdout",
          "text": [
            "/album/991217-clipse-let-god-sort-em-out.php\n",
            "/album/886457-quadeca-vanisher.php\n",
            "/album/1227674-mckinley-dixon-magic-alive.php\n",
            "/album/1311691-maruja-pain-to-power.php\n",
            "/album/1351956-racing-mount-pleasant-racing-mount-pleasant.php\n"
          ]
        }
      ]
    },
    {
      "cell_type": "code",
      "source": [
        "for ind, i in enumerate(albums):\n",
        "  print(ind+1,\" Place\")\n",
        "  print('albumTitle: ', i['albumTitle'])\n",
        "  print('artistTitle: ', i['artistTitle'])\n",
        "  print('albumUrl: ', i['albumUrl'])\n",
        "  print('albumRating:', i['albumRating'])\n",
        "  # print('albumRating:', i['albumRating'], ' based on ', i['contributorsCount'])\n",
        "  print('------------------------')"
      ],
      "metadata": {
        "colab": {
          "base_uri": "https://localhost:8080/"
        },
        "outputId": "ed847115-24ef-4af5-cea9-27aa1659cc82",
        "id": "vHKu87LrlUH2"
      },
      "execution_count": 20,
      "outputs": [
        {
          "output_type": "stream",
          "name": "stdout",
          "text": [
            "1  Place\n",
            "albumTitle:  Let God Sort Em Out\n",
            "artistTitle:  Clipse\n",
            "albumUrl:  https://www.albumoftheyear.org/album/991217-clipse-let-god-sort-em-out.php\n",
            "albumRating: 88\n",
            "------------------------\n",
            "2  Place\n",
            "albumTitle:  Vanisher, Horizon Scraper\n",
            "artistTitle:  Quadeca\n",
            "albumUrl:  https://www.albumoftheyear.org/album/886457-quadeca-vanisher.php\n",
            "albumRating: 87\n",
            "------------------------\n",
            "3  Place\n",
            "albumTitle:  Magic, Alive!\n",
            "artistTitle:  McKinley Dixon\n",
            "albumUrl:  https://www.albumoftheyear.org/album/1227674-mckinley-dixon-magic-alive.php\n",
            "albumRating: 87\n",
            "------------------------\n",
            "4  Place\n",
            "albumTitle:  Pain to Power\n",
            "artistTitle:  Maruja\n",
            "albumUrl:  https://www.albumoftheyear.org/album/1311691-maruja-pain-to-power.php\n",
            "albumRating: 87\n",
            "------------------------\n",
            "5  Place\n",
            "albumTitle:  Racing Mount Pleasant\n",
            "artistTitle:  Racing Mount Pleasant\n",
            "albumUrl:  https://www.albumoftheyear.org/album/1351956-racing-mount-pleasant-racing-mount-pleasant.php\n",
            "albumRating: 86\n",
            "------------------------\n"
          ]
        }
      ]
    },
    {
      "cell_type": "markdown",
      "source": [
        "# Черновик"
      ],
      "metadata": {
        "id": "FsTV9BgMxLha"
      }
    },
    {
      "cell_type": "code",
      "source": [
        "#  host_m = 'https://www.albumoftheyear.org/album/1227674-mckinley-dixon-magic-alive.php'\n",
        "#  r = requests.get(host_m)\n",
        "#  r.cookies\n"
      ],
      "metadata": {
        "colab": {
          "base_uri": "https://localhost:8080/"
        },
        "outputId": "0f4b5127-f3d8-4e65-8518-e80d31e93bb8",
        "id": "dx5MfUI6lUH3"
      },
      "execution_count": null,
      "outputs": [
        {
          "output_type": "execute_result",
          "data": {
            "text/plain": [
              "<RequestsCookieJar[]>"
            ]
          },
          "metadata": {},
          "execution_count": 85
        }
      ]
    },
    {
      "cell_type": "code",
      "source": [
        "# host_m = 'https://www.albumoftheyear.org/album/1227674-mckinley-dixon-magic-alive.php'\n",
        "# text_html_m = requests.get(host_m, headers = headers)\n",
        "# aaa_soup = text_html_m.content\n",
        "# soup_m = BeautifulSoup(aaa_soup, \"html.parser\")\n"
      ],
      "metadata": {
        "id": "14RZideelUH_"
      },
      "execution_count": null,
      "outputs": []
    },
    {
      "cell_type": "code",
      "source": [
        "# soup_m"
      ],
      "metadata": {
        "colab": {
          "base_uri": "https://localhost:8080/"
        },
        "collapsed": true,
        "outputId": "7dc16de3-8701-4fca-ee57-106c7074158c",
        "id": "wk5tOSHBlUIA"
      },
      "execution_count": null,
      "outputs": [
        {
          "output_type": "execute_result",
          "data": {
            "text/plain": [
              "<!DOCTYPE html>\n",
              "<html lang=\"en-US\"><head><title>Just a moment...</title><meta content=\"text/html; charset=utf-8\" http-equiv=\"Content-Type\"/><meta content=\"IE=Edge\" http-equiv=\"X-UA-Compatible\"/><meta content=\"noindex,nofollow\" name=\"robots\"/><meta content=\"width=device-width,initial-scale=1\" name=\"viewport\"/><style>*{box-sizing:border-box;margin:0;padding:0}html{line-height:1.15;-webkit-text-size-adjust:100%;color:#313131;font-family:system-ui,-apple-system,BlinkMacSystemFont,\"Segoe UI\",Roboto,\"Helvetica Neue\",Arial,\"Noto Sans\",sans-serif,\"Apple Color Emoji\",\"Segoe UI Emoji\",\"Segoe UI Symbol\",\"Noto Color Emoji\"}body{display:flex;flex-direction:column;height:100vh;min-height:100vh}.main-content{margin:8rem auto;padding-left:1.5rem;max-width:60rem}@media (width <= 720px){.main-content{margin-top:4rem}}.h2{line-height:2.25rem;font-size:1.5rem;font-weight:500}@media (width <= 720px){.h2{line-height:1.5rem;font-size:1.25rem}}#challenge-error-text{background-image:url(\"data:image/svg+xml;base64,PHN2ZyB4bWxucz0iaHR0cDovL3d3dy53My5vcmcvMjAwMC9zdmciIHdpZHRoPSIzMiIgaGVpZ2h0PSIzMiIgZmlsbD0ibm9uZSI+PHBhdGggZmlsbD0iI0IyMEYwMyIgZD0iTTE2IDNhMTMgMTMgMCAxIDAgMTMgMTNBMTMuMDE1IDEzLjAxNSAwIDAgMCAxNiAzbTAgMjRhMTEgMTEgMCAxIDEgMTEtMTEgMTEuMDEgMTEuMDEgMCAwIDEtMTEgMTEiLz48cGF0aCBmaWxsPSIjQjIwRjAzIiBkPSJNMTcuMDM4IDE4LjYxNUgxNC44N0wxNC41NjMgOS41aDIuNzgzem0tMS4wODQgMS40MjdxLjY2IDAgMS4wNTcuMzg4LjQwNy4zODkuNDA3Ljk5NCAwIC41OTYtLjQwNy45ODQtLjM5Ny4zOS0xLjA1Ny4zODktLjY1IDAtMS4wNTYtLjM4OS0uMzk4LS4zODktLjM5OC0uOTg0IDAtLjU5Ny4zOTgtLjk4NS40MDYtLjM5NyAxLjA1Ni0uMzk3Ii8+PC9zdmc+\");background-repeat:no-repeat;background-size:contain;padding-left:34px}@media (prefers-color-scheme: dark){body{background-color:#222;color:#d9d9d9}}</style><meta content=\"360\" http-equiv=\"refresh\"/></head><body><div class=\"main-wrapper\" role=\"main\"><div class=\"main-content\"><noscript><div class=\"h2\"><span id=\"challenge-error-text\">Enable JavaScript and cookies to continue</span></div></noscript></div></div><script>(function(){window._cf_chl_opt = {cvId: '3',cZone: 'www.albumoftheyear.org',cType: 'managed',cRay: '98f870e9ec85cb9c',cH: 'WhCJLn7TebMDzbjgMvvoBwIkWfMkQztCfcNh8JrHKHk-1760626986-1.2.1.1-xOgj7P.8G0oEGKmAwKgj1zvoWK4en0l1nvILvz8suzfXDnu5ud0E5xIVZlED24pi',cUPMDTk:\"\\/album\\/1227674-mckinley-dixon-magic-alive.php?__cf_chl_tk=rub7y9NOiuADG3NI43XehbiJjqgoGWyjm5m7s_TviQk-1760626986-1.0.1.1-YTYfQ4yTsJMi_ehXEgHv3iAv2laQR4aWFam0rGduGtk\",cFPWv: 'g',cITimeS: '1760626986',cTplC:0,cTplV:5,cTplB: 'cf',fa:\"\\/album\\/1227674-mckinley-dixon-magic-alive.php?__cf_chl_f_tk=rub7y9NOiuADG3NI43XehbiJjqgoGWyjm5m7s_TviQk-1760626986-1.0.1.1-YTYfQ4yTsJMi_ehXEgHv3iAv2laQR4aWFam0rGduGtk\",md: 'hjrbEIABSQd.aunLI5GbrQCula1htQk6.j3uIVjCEco-1760626986-1.2.1.1-7u6pU3JbcdcpAqvsqR0SaARhsqsWbETibMoCDNOzikQsM0r0KSotBSMPcIN1weYEnCWxch3D6s3fFjgqa4KiocMYmGmys.d1.VQgXNiuCJyJ52rHxv8YJfTC_2DcbzECyQTeDB4gSxReqMoQF.3YJCZml1LFjFvv3A9gISYOyN_EMUlFmgNrAU5RAnNEt4jC.eW6NNTRVce2jri50gtKgXNEMNrgEIUueu0uDblVkCo.GxhKpw6pMArtcrzMBtP5QmqEsjqx_LBRpnaKDGrxMADFnbBAGZc.iijb1jSDi6XporoXdf8RVykOiM0J7xeFHUdZIgCevn1Cl4uHMbYpwbvIpYh.AMBjR4dmtESAXiQsfilc9CQYzqmHslpQgrbMCkXig4TOf58HOVl6q4X.hQeKVjxM4Xlq0n8rvT8sEq7jWVLQ5XUGjq14cNwD_zFwrWZohvI92lGHrYtmYKeIlwHlHclyIbvA0RqZpeBaWi2CmxwhaKRqwWI445zmyeowsu__NGPx9g0B7uSS4JOX6Xwq18brMH1jvlILv.Xee1aGmDxs3U1IxFrqIeJZZmDJ3GDyIFyBFCJIeBMZoSwuwCYflHhni9dBR1N_lCS8qLe5fD3udmTixhKI3sKFbekKmuyTf3zHu0MmvtHd54lYHQ14HSntNQRivW.RVT5_nTiOalY6tKD3X1tk0WZYZ3bzgtOKtEjYewgiPnJen99GGlW9nTQU3hJNNaGbCdp9UpkyVkM6VlwGgxB4Evl_zbKp9W1YY3DJSr8drDCSDtg9UxajDSJDW_gj0WhUByTmF9o8Xs7aVQ_qDP0PWT1CcyMu9rhsuLI3tnO3FEj8A1jrvIyJreBLsZpCtykquRDyZG7Dv2I.Xh86gfnO2LYPzavDEQMCovwEGhUWioFII3twuLNVTfQSLNrB8_SHTAuvYEf3g1_xjjd._1IezyLSxWjups83WM.VoACcz2gXLrQncrFMpYsdD7vQF0LtUMrQt3HByUlPJcuipdNklUZ0Isf0vB.F5ZKDlNagwgcTiQstqxqZK6g49c0TFPuqsShHhzzHGxdv5xQjNyrZeCFcYEXX0HuSKLbuS7CMCS6qTCX5_QoRQCbnX40b2LpX12yk8X2YKQ5mGkcj4h384.UmcFc6d_nUApe121OwtA28TBjpLg',mdrd: 'nB.2eVyjIUOqrmf_usDmfc.jovPJ.luUrPbB3_sYE70-1760626986-1.2.1.1-CoWVXgfyeI12RpYbQwRGtNKGRkdnesGTu_854U9VVx6moTmejv1LrsfUu5Bngt9vPatT1kkeB_8xsvDA4xqhSiO0b0XpM0cB8tcpI8OT3O.88_CeLAvZhF5b89.uB9d8Gnu7g3k.kpORVq7oC8qRXkvWFw6uzjYyP8edYaPrv.ArAyh.NxhgWkIYXmMQcCw1vVoeA5.GYNl8rKcOUp0AB3SlJPWbpNIWChCzLSaimfrJ2EYXtzUQePP5k61T5Ch3ffMV_ylSwyRoZZU_BUDqt40RQpIi9ooVFOweiN3X.0OwcJI0GuMEuxrNLBU_e7dHBMg_jLJVgx8qaAQwGKEh153.QsWGPQKITh54h6ijZlcCch8T1udK6wJ.tiOUHQtlc_n8JopdANEi9kqh3BSfNC77YrqVwe05x4KyJMGCejajAF0gXaWMNmJIkOkiesgxYgrbzWJ_Uxxd4bronigV4xVWdaaBozNjoKSRevcoVx2seZaO6AYF1afbXre_5st_Hp4i0FihUHrMqwAPsuFZJFAUdpilU2IePEi2BfATmjkNXjg6iX7oouHsLnMYcZbj.6m72xRPXjHV5nLMmQQ9GkekkbWX04PjfihOD.9yBVg.sd6mSgd0nsgVlbD_uzNO9vRpnwQSsSKhJn.9c.EYyiiO8g0hjEhryD9qZ5DouFjgVMwcmJVyqwFOY5DYmDchSyZqJYRs4U15C5jyFQ8wvqR9Lqezdh6Sj1doFwAxwRb0V1ohbmUnKhsuvM1.Veoo6Y3P2_Wom.dNTHReoygd6A31WwKtkYPkzylgxo_ujlSMMv154q3NlOJ0_DoywxSeQdwm49CWvfdYWAf4eiyGamD_2HkvO5ILkJfUE6vBJLnOAR4bHwS6.qbtPDbGkKnXLfzwdBxt1p1ICbTEGs5Rh4iTfLkv.3eZpWlbdzO0f26a3Ys4f6UpcLcM1chn56pNv0kae_LONdVS.8KrKAk1rGneq61gpPnquxAIiFtNxrXyeZscMmi_S_fPvrQJjX7JFloYxjIUIYx.5m6MGMMVfFvLpngOtvSUZ1YS1NETPWr3sbshnX.m.z50L_pCPyeYV0Ucojh.X0DfyVZ4I8r69kIDoJ.L0lGln9TVe3h2CaqF_BPzAbHIXnSbF3a87lVdano9LlkepwDH5.beCoOt92fIfAcEBkZDk6pQBBiNojdA74xSSPsmfnLFxbTE1PS13Fa4.UUuBt0JTPMxhWd4Bg2rMbjXGky9yGON4xhX5ImZLcZtVHCOvP7pI2Q9H4xVSnsZABdTV0RQwoDxzUw7.5A39gIsxlcLMmWNLtsF6wO1R003nX5V048beu3j0KWjHfvTuKHU5IElPFbXp8bmAsUR4Qu8F5YF4Z1Efvfnzn8Ypl6ynGsvP1BQrh9HX_IIJnJ0S1GgnMX6dqZgwZKegfelqMfQlT.nf99bQ3R88AlQCzsB7sN7kUDVAY1R965yg8f_RNb7x_kftbHU5bmgRh0KKmhF0PXnyNuCaGPKhoI_ogk6nV7EGXIdx4mENfHeePT7TOd18KYfUmdkVVy5MpghojaZ7GHV3bFjBRVh7PyCZUzWiXVQmrf.MIC6a2MpqBmGfP_EshH679WJ8LPjsJxp26ga_83VdKd0VQfwHqw80RmqW9vWpX9n.7eHFaN3zbVzaDo8UfBeA3qkqHxflxnHV1ux3TnSBmYQYp4q8paFF3oo_S5SstnxdVaTsTyzOlkEzjG5CdW.rHU6TesloSOIHegNEFJokUa5HEfdsKk5OVakWhO8dQUG1ZPNACfHJ9.lCyZeGXcjGNUP6wspEaZkeYqq3bXXO5IrgKM8AylqrMW.9m1Yt..Uh8h_LLU3xLJBNK5Ozm6hNLMent3VF1RJkCnA12MspTkaQo74pVfpAbnWhDh0HVrN1px9qzDMMvDDy_z1fW0hWpDcQQ0Sn2r7DCV9xLnjY.rgyeTQWPo_GQ1WFdEo11AT_MIDnM0huDKLpfGeSXeMuPZJAm_f.AZEZKO7nTkjuCxcEYBaFFmoySEnZcAZySi4bpp7pLu9082b.DiswYOyE.ZLjnhYNwddYGx4cuW0B1PqR7URnXCdJxozBBEWNMmw_WUPr4mSz558SW.p32_gJk8CJM0qY21vnVGYAKkdNcIrLzdmJ3IssX4.KSPffgLfBwB_v9onjRnSi3Y2xeci2sfWD74usU6LE7NYsWVWBqmZvUpye1vKeEY19.XkyRnh4epUyqB8fCSQS_I_VJd4GL799gaz8XJuD85X.1fqpU77Fbx.u.g2rRb.fYaMpKtFW8b5m.TEsL1hsyoXgshexVTXGfKPmzJa2AQK7Bw5N7eLu1oxznaX9AQki2Rhyc0q564ABzZVnJnNUmYoreCbdErUX2VoAL8i4BXcnKtiWBpTHppLAaS8su869PiAOI28HLKzkeiBd.6lzyl3wFS_zWpfVLXqu28b__._lyznsb_LTQbmkrYWi684oRxy6U023YjC_IjqUDV5hLdW5V8AZ3pEsGNBHROJERlHMaeJ1KQNXl3DHfDHZhI.qO40P9IYFMMz88pDHmQiRKzOg.QgfXJdkfrv8w',};var a = document.createElement('script');a.src = '/cdn-cgi/challenge-platform/h/g/orchestrate/chl_page/v1?ray=98f870e9ec85cb9c';window._cf_chl_opt.cOgUHash = location.hash === '' && location.href.indexOf('#') !== -1 ? '#' : location.hash;window._cf_chl_opt.cOgUQuery = location.search === '' && location.href.slice(0, location.href.length - window._cf_chl_opt.cOgUHash.length).indexOf('?') !== -1 ? '?' : location.search;if (window.history && window.history.replaceState) {var ogU = location.pathname + window._cf_chl_opt.cOgUQuery + window._cf_chl_opt.cOgUHash;history.replaceState(null, null,\"\\/album\\/1227674-mckinley-dixon-magic-alive.php?__cf_chl_rt_tk=rub7y9NOiuADG3NI43XehbiJjqgoGWyjm5m7s_TviQk-1760626986-1.0.1.1-YTYfQ4yTsJMi_ehXEgHv3iAv2laQR4aWFam0rGduGtk\"+ window._cf_chl_opt.cOgUHash);a.onload = function() {history.replaceState(null, null, ogU);}}document.getElementsByTagName('head')[0].appendChild(a);}());</script></body></html>"
            ]
          },
          "metadata": {},
          "execution_count": 84
        }
      ]
    },
    {
      "cell_type": "code",
      "source": [
        "# def extract_next_sibling_contents(soup, tag, pattern, get_text = False):\n",
        "#   wrapper = soup.find(tag, text = re.compile(pattern))\n",
        "#   if wrapper is not None:\n",
        "#     if get_text:\n",
        "#       return str(wrapper.next_sibling.contents[0].text.strip())\n",
        "#     else:\n",
        "#       return str(wrapper.next_sibling.contents[0].strip())\n",
        "#   return None"
      ],
      "metadata": {
        "id": "31rJBfcOSVAw"
      },
      "execution_count": 6,
      "outputs": []
    },
    {
      "cell_type": "code",
      "source": [
        "# def extract_next_sibling(soup, tag, pattern, get_text = False):\n",
        "#   wrapper = soup.find(tag, text = re.compile(pattern))\n",
        "#   if wrapper is not None:\n",
        "#     if get_text:\n",
        "#       return str(wrapper.next_sibling.next_sibling.text.strip())\n",
        "#     else:\n",
        "#       return str(wrapper.next_sibling.strip())\n",
        "#   return None"
      ],
      "metadata": {
        "id": "RAuQvUUbTERU"
      },
      "execution_count": 5,
      "outputs": []
    },
    {
      "cell_type": "code",
      "source": [
        "# def extract_href(soup, tag, pattern, link_num, host):\n",
        "#   wrapper = soup.find(tag, text = re.compile(pattern))\n",
        "#   if wrapper is not None:\n",
        "#     try:\n",
        "#       return str(host + wrapper.next_sibling.find_all('a')['link_num']['href'])\n",
        "#     except:\n",
        "#       pass\n",
        "#   return None"
      ],
      "metadata": {
        "id": "ZB4c4ZoFTRSb"
      },
      "execution_count": 7,
      "outputs": []
    }
  ]
}