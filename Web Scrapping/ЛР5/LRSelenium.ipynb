{
 "cells": [
  {
   "cell_type": "code",
   "execution_count": 1,
   "id": "cedcfaa1",
   "metadata": {},
   "outputs": [],
   "source": [
    "from selenium import webdriver"
   ]
  },
  {
   "cell_type": "code",
   "execution_count": 28,
   "id": "9e8b1dde",
   "metadata": {},
   "outputs": [],
   "source": [
    "from selenium.webdriver.common.by import By\n",
    "from selenium.webdriver.support.ui import WebDriverWait\n",
    "from selenium.webdriver.support import expected_conditions"
   ]
  },
  {
   "cell_type": "code",
   "execution_count": null,
   "id": "58fefba0",
   "metadata": {},
   "outputs": [
    {
     "name": "stderr",
     "output_type": "stream",
     "text": [
      "Error sending stats to Plausible: error sending request for url (https://plausible.io/api/event)\n"
     ]
    }
   ],
   "source": []
  },
  {
   "cell_type": "code",
   "execution_count": 43,
   "id": "6aea51f6",
   "metadata": {},
   "outputs": [],
   "source": [
    "# файл в одну строку через пробел \"api_id api_hash\"\n",
    "with open(\"gmail.txt\", \"r\") as f:\n",
    "    first_line = f.readline()\n",
    "    lines = first_line.split(' ')\n",
    "mail_adress = lines[0]\n",
    "password = lines[1]"
   ]
  },
  {
   "cell_type": "code",
   "execution_count": null,
   "id": "088ce1e7",
   "metadata": {},
   "outputs": [],
   "source": [
    "def parseMessages(messages):\n",
    "    messagesArr = []\n",
    "    for message_div in messages:\n",
    "        message_link = message_div.find_element(By.XPATH, './/*[@data-testid = \"messages-list_message-item_link\"]').get_attribute('href')\n",
    "\n",
    "        message_sender_mail = message_div.find_element(By.XPATH, './/*[@data-testid = \"message-common_sender-name\"]//*[contains(@class, \"Text\")]').get_attribute('aria-label')\n",
    "\n",
    "        message_list_subject_el = message_div.find_element(By.XPATH, './/*[@data-testid = \"messages-list_subject\"]//*[contains(@class, \"Text\")]').text\n",
    "        message_list_subject = message_list_subject_el\n",
    "        messagesArr.append({\n",
    "            \"message_link\": message_link,\n",
    "            \"message_sender_mail\": message_sender_mail,\n",
    "            \"message_list_subject\": message_list_subject\n",
    "        })\n",
    "    return messagesArr"
   ]
  },
  {
   "cell_type": "code",
   "execution_count": 82,
   "id": "943af757",
   "metadata": {},
   "outputs": [
    {
     "name": "stdout",
     "output_type": "stream",
     "text": [
      "23\n",
      "[{'message_link': 'https://mail.yandex.ru/?uid=1174875866#thread/t191121509186535449', 'message_sender_mail': 'sannickov.yuraa@yandex.ru', 'message_list_subject': 'FFFFFFFFFFFFFFFFFFFFFFFFFFFFFFFFFFFF'}, {'message_link': 'https://mail.yandex.ru/?uid=1174875866#message/191121509186535446', 'message_sender_mail': 'noreply@id.yandex.ru', 'message_list_subject': 'Доступ к аккаунту восстановлен'}, {'message_link': 'https://mail.yandex.ru/?uid=1174875866#message/189714134302982165', 'message_sender_mail': 'noreply@id.yandex.ru', 'message_list_subject': 'К аккаунту на Яндексе привязан телефонный номер'}, {'message_link': 'https://mail.yandex.ru/?uid=1174875866#message/189714134302982164', 'message_sender_mail': 'info@360.yandex.ru', 'message_list_subject': 'Осталось мало свободного места на Диске'}, {'message_link': 'https://mail.yandex.ru/?uid=1174875866#message/189714134302982163', 'message_sender_mail': 'info@360.yandex.ru', 'message_list_subject': 'На Диске осталось мало места'}, {'message_link': 'https://mail.yandex.ru/?uid=1174875866#message/187743809466007570', 'message_sender_mail': 'hello@360.yandex.ru', 'message_list_subject': 'Скидка 35% на безлимитную загрузку медиафайлов'}, {'message_link': 'https://mail.yandex.ru/?uid=1174875866#message/186617909559164945', 'message_sender_mail': 'hello@360.yandex.ru', 'message_list_subject': 'Скидка 60% на два года'}, {'message_link': 'https://mail.yandex.ru/?uid=1174875866#message/186617909559164944', 'message_sender_mail': 'hello@360.yandex.ru', 'message_list_subject': 'Скидка 50% на тарифы Яндекс 360'}, {'message_link': 'https://mail.yandex.ru/?uid=1174875866#message/186054959605743631', 'message_sender_mail': 'hello@360.yandex.ru', 'message_list_subject': 'Скидка 40% и полгода бесплатно'}, {'message_link': 'https://mail.yandex.ru/?uid=1174875866#message/185773484629032974', 'message_sender_mail': 'hello@360.yandex.ru', 'message_list_subject': 'Скидка 40% на тарифы для вас и семьи'}, {'message_link': 'https://mail.yandex.ru/?uid=1174875866#message/184929059698901005', 'message_sender_mail': 'hello@360.yandex.ru', 'message_list_subject': 'Ещё успеваете использовать скидку 50%'}, {'message_link': 'https://mail.yandex.ru/?uid=1174875866#message/184929059698901004', 'message_sender_mail': 'hello@360.yandex.ru', 'message_list_subject': 'Волшебная скидка 40%'}, {'message_link': 'https://mail.yandex.ru/?uid=1174875866#message/184929059698901003', 'message_sender_mail': 'hello@360.yandex.ru', 'message_list_subject': 'Отправляйтесь в новогоднее онлайн-приключение'}, {'message_link': 'https://mail.yandex.ru/?uid=1174875866#message/184647584722190346', 'message_sender_mail': 'cloud@support.yandex.ru', 'message_list_subject': 'Добро пожаловать в Yandex Cloud'}, {'message_link': 'https://mail.yandex.ru/?uid=1174875866#message/184647584722190345', 'message_sender_mail': 'hello@360.yandex.ru', 'message_list_subject': 'Премьера фильма-эксперимента «Дилемма технологий»'}, {'message_link': 'https://mail.yandex.ru/?uid=1174875866#message/182677259885215752', 'message_sender_mail': 'yandex360@mail.yandex.ru', 'message_list_subject': 'Ваша скидка внутри'}, {'message_link': 'https://mail.yandex.ru/?uid=1174875866#message/175921860444160007', 'message_sender_mail': 'hello@plus.yandex.ru', 'message_list_subject': 'Нашли новинки, которые должны вам подойти'}, {'message_link': 'https://mail.yandex.ru/?uid=1174875866#message/174514485560606726', 'message_sender_mail': 'news@kinopoisk.ru', 'message_list_subject': '🏹 Дарим месяц фильмов и сериалов'}, {'message_link': 'https://mail.yandex.ru/?uid=1174875866#message/174514485560606725', 'message_sender_mail': 'news@kinopoisk.ru', 'message_list_subject': '👋 Киноманский опрос для вас'}, {'message_link': 'https://mail.yandex.ru/?uid=1174875866#message/174514485560606724', 'message_sender_mail': 'promo@disk.yandex.ru', 'message_list_subject': 'Больше места и функций со скидкой 20%'}, {'message_link': 'https://mail.yandex.ru/?uid=1174875866#message/174514485560606723', 'message_sender_mail': 'promo@disk.yandex.ru', 'message_list_subject': 'Добро пожаловать в Яндекс.Диск! Мы поможем вам узнать больше о функциях сервиса'}, {'message_link': 'https://mail.yandex.ru/?uid=1174875866#message/174514485560606722', 'message_sender_mail': 'noreply@passport.yandex.ru', 'message_list_subject': 'Выполнен вход в аккаунт на Яндексе'}, {'message_link': 'https://mail.yandex.ru/?uid=1174875866#message/173670060630474753', 'message_sender_mail': 'hello@yandex-team.ru', 'message_list_subject': 'Как убедиться, что письмо доставлено'}]\n",
      "1\n",
      "[{'message_link': 'https://mail.yandex.ru/?uid=1174875866#thread/t191121509186535449', 'message_sender_mail': 'sannickov.yuraa@yandex.ru', 'message_list_subject': 'FFFFFFFFFFFFFFFFFFFFFFFFFFFFFFFFFFFF'}]\n"
     ]
    }
   ],
   "source": [
    "driver = webdriver.Edge()\n",
    "\n",
    "driver.get(\"https://mail.yandex.ru/\")\n",
    "WebDriverWait(driver,120)\n",
    "\n",
    "accButton = driver.find_element(By.ID, 'header-login-button')\n",
    "\n",
    "accButton.click()\n",
    "WebDriverWait(driver, 120).until(expected_conditions.presence_of_all_elements_located((By.ID, 'passp-field-login')))\n",
    "\n",
    "input_email = driver.find_element(By.ID, 'passp-field-login')\n",
    "input_email.send_keys(mail_adress)\n",
    "WebDriverWait(driver,35)\n",
    "\n",
    "next_button = driver.find_element(By.XPATH, '//*[contains(@class, \"passp-sign-in-button\")]//button')\n",
    "next_button.click()\n",
    "WebDriverWait(driver,120).until(expected_conditions.presence_of_all_elements_located((By.ID, 'passp-field-passwd')))\n",
    "\n",
    "input_password = driver.find_element(By.ID, 'passp-field-passwd')\n",
    "input_password.send_keys(password)\n",
    "WebDriverWait(driver,35)\n",
    "\n",
    "next_button = driver.find_element(By.XPATH, '//*[contains(@class, \"passp-sign-in-button\")]//button')\n",
    "next_button.click()\n",
    "\n",
    "WebDriverWait(driver,120).until(expected_conditions.presence_of_all_elements_located((By.XPATH, '//*[@data-testid = \"compact-leftcolumn-folder\"]')))\n",
    "WebDriverWait(driver,120).until(expected_conditions.presence_of_all_elements_located((By.XPATH, '//*[@data-testid = \"messages-list_message-item_link\"]')))\n",
    "allMesages = driver.find_elements(By.XPATH, '//*[@data-testid = \"messages-list_message-item\"]')\n",
    "\n",
    "print(len(allMesages))\n",
    "allMessagesArr = parseMessages(allMesages)\n",
    "print(allMessagesArr)\n",
    "\n",
    "send_m_button = driver.find_element(By.XPATH, '//*[@href = \"#sent\"]')\n",
    "send_m_button.click()\n",
    "\n",
    "WebDriverWait(driver,120).until(expected_conditions.presence_of_all_elements_located((By.XPATH, '//*[@data-testid = \"messages-list_message-item_link\"]')))\n",
    "sentMesages = driver.find_elements(By.XPATH, '//*[@data-testid = \"messages-list_message-item\"]')\n",
    "\n",
    "print(len(sentMesages))\n",
    "sentMessagesArr = parseMessages(sentMesages)\n",
    "print(sentMessagesArr)\n",
    "\n",
    "driver.quit()"
   ]
  },
  {
   "cell_type": "code",
   "execution_count": 77,
   "id": "a3b250c1",
   "metadata": {},
   "outputs": [],
   "source": [
    "import json"
   ]
  },
  {
   "cell_type": "code",
   "execution_count": 83,
   "id": "a947e303",
   "metadata": {},
   "outputs": [],
   "source": [
    "with open('allMessages.json', 'w', encoding='utf-8') as file:\n",
    "    json.dump(allMessagesArr, file, ensure_ascii=False, indent=4)\n",
    "\n",
    "with open('sentMessages.json', 'w', encoding='utf-8') as file:\n",
    "    json.dump(sentMessagesArr, file, ensure_ascii=False, indent=4)"
   ]
  },
  {
   "cell_type": "code",
   "execution_count": 75,
   "id": "6cb3293e",
   "metadata": {},
   "outputs": [],
   "source": [
    "driver.quit()"
   ]
  }
 ],
 "metadata": {
  "kernelspec": {
   "display_name": "venv",
   "language": "python",
   "name": "python3"
  },
  "language_info": {
   "codemirror_mode": {
    "name": "ipython",
    "version": 3
   },
   "file_extension": ".py",
   "mimetype": "text/x-python",
   "name": "python",
   "nbconvert_exporter": "python",
   "pygments_lexer": "ipython3",
   "version": "3.11.3"
  }
 },
 "nbformat": 4,
 "nbformat_minor": 5
}
