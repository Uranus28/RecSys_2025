{
 "cells": [
  {
   "cell_type": "code",
   "execution_count": null,
   "metadata": {
    "id": "8vW28Zdzz_Ia"
   },
   "outputs": [],
   "source": []
  },
  {
   "cell_type": "code",
   "execution_count": 239,
   "metadata": {},
   "outputs": [],
   "source": [
    "import requests\n"
   ]
  },
  {
   "cell_type": "code",
   "execution_count": 3,
   "metadata": {
    "id": "xirbDYsjR1VR"
   },
   "outputs": [],
   "source": [
    "import json\n"
   ]
  },
  {
   "cell_type": "code",
   "execution_count": 5,
   "metadata": {
    "id": "zVxq85RpR1VS"
   },
   "outputs": [],
   "source": [
    "# with open('data.json', 'w', encoding='utf-8') as file:\n",
    "#     json.dump(repos_data, file, ensure_ascii=False, indent=4)\n"
   ]
  },
  {
   "cell_type": "code",
   "execution_count": null,
   "metadata": {},
   "outputs": [],
   "source": []
  },
  {
   "cell_type": "markdown",
   "metadata": {
    "id": "fIcI2uRHR7Nx"
   },
   "source": [
    "# BeautifulSoup"
   ]
  },
  {
   "cell_type": "code",
   "execution_count": 4,
   "metadata": {
    "id": "YMeUqn6eR9mt"
   },
   "outputs": [],
   "source": [
    "from bs4 import BeautifulSoup\n",
    "import re"
   ]
  },
  {
   "cell_type": "code",
   "execution_count": 7,
   "metadata": {
    "id": "Z65SinuxVMNJ"
   },
   "outputs": [],
   "source": []
  },
  {
   "cell_type": "code",
   "execution_count": 7,
   "metadata": {
    "id": "WL9jlYcBi4L2"
   },
   "outputs": [],
   "source": [
    "import base64"
   ]
  },
  {
   "cell_type": "code",
   "execution_count": null,
   "metadata": {
    "id": "EMVQ7R6mi1bp"
   },
   "outputs": [],
   "source": []
  },
  {
   "cell_type": "code",
   "execution_count": 9,
   "metadata": {
    "id": "jCqoEoMPT5FX"
   },
   "outputs": [],
   "source": [
    "\n",
    "headers = {\"User-Agent\": \"Mozilla/5.0 (iPhone; CPU iPhone OS 18_5 like Mac OS X) AppleWebKit/605.1.15 (KHTML, like Gecko) Version/18.5 Mobile/15E148 Safari/604.1\"}\n",
    "host = 'https://www.albumoftheyear.org'\n",
    "text_html = requests.get(host, headers = headers)\n",
    "soup = BeautifulSoup(text_html.text, \"lxml\")\n"
   ]
  },
  {
   "cell_type": "code",
   "execution_count": 14,
   "metadata": {
    "id": "wlZjD20Cjuig"
   },
   "outputs": [],
   "source": [
    "text_html = requests.get(host, headers = headers)\n",
    "soup = BeautifulSoup(text_html.text, \"lxml\")\n"
   ]
  },
  {
   "cell_type": "code",
   "execution_count": 11,
   "metadata": {
    "id": "ySbGuk_Uaj5U"
   },
   "outputs": [],
   "source": [
    "# all_divs = soup.find_all('html')"
   ]
  },
  {
   "cell_type": "code",
   "execution_count": 12,
   "metadata": {
    "collapsed": true,
    "id": "cvmdL7UeatbD",
    "jupyter": {
     "outputs_hidden": true
    }
   },
   "outputs": [],
   "source": [
    "# all_divs"
   ]
  },
  {
   "cell_type": "code",
   "execution_count": 16,
   "metadata": {
    "id": "0MK7LE8nVez3"
   },
   "outputs": [],
   "source": [
    "def getHighestUserRatedAlbums(soup, host):\n",
    "\n",
    "  best_sections = soup.find_all('section', class_ = 'bestHome')\n",
    "  items = []\n",
    "  bestUsers_section = best_sections[1]\n",
    "  for album_div in bestUsers_section.find_all('div', class_ = ['listItemSmall']):\n",
    "    albumTitle = album_div.find('div', class_ = 'albumTitle').get_text(strip=True, separator='\\n')\n",
    "    artistTitle = album_div.find('div', class_ = 'artistTitle').get_text(strip=True, separator='\\n')\n",
    "    albumUrl = host + album_div.find('a')['href']\n",
    "    albumRating = album_div.find('div', class_ = 'rating').get_text(strip=True, separator='\\n')\n",
    "\n",
    "    # попытался пройти далее по ссылке на кнопке, но там js пример ссылки 'https://www.albumoftheyear.org/album/1227674-mckinley-dixon-magic-alive.php'\n",
    "    album_page_html = requests.get(albumUrl, headers = headers)\n",
    "    album_soup = BeautifulSoup(album_page_html.text, \"lxml\")\n",
    "    albumScoreBox_div = album_soup.find('div', class_ = 'albumUserScoreBox')\n",
    "    if albumScoreBox_div is not None:\n",
    "      contributorsCount_div = albumScoreBox_div.find('div', class_ = 'numReviews')\n",
    "      contributorsCount = contributorsCount_div.find('strong').get_text(strip=True, separator='\\n')\n",
    "    else:\n",
    "      contributorsCount= None\n",
    "    items.append({\n",
    "        'albumTitle': albumTitle,\n",
    "        'artistTitle': artistTitle,\n",
    "        'albumUrl': albumUrl,\n",
    "        'albumRating': albumRating,\n",
    "        'contributorsCount': contributorsCount,\n",
    "                  })\n",
    "  return items"
   ]
  },
  {
   "cell_type": "code",
   "execution_count": 18,
   "metadata": {
    "id": "8EPj3lotY6Tl"
   },
   "outputs": [],
   "source": [
    "albums = getHighestUserRatedAlbums(soup, host)"
   ]
  },
  {
   "cell_type": "code",
   "execution_count": 19,
   "metadata": {
    "colab": {
     "base_uri": "https://localhost:8080/"
    },
    "id": "FKIDFexsYyXI",
    "outputId": "f7865bd9-c54d-4d7c-f92e-572d4ddb254d"
   },
   "outputs": [
    {
     "name": "stdout",
     "output_type": "stream",
     "text": [
      "1  Place\n",
      "albumTitle:  Let God Sort Em Out\n",
      "artistTitle:  Clipse\n",
      "albumUrl:  https://www.albumoftheyear.org/album/991217-clipse-let-god-sort-em-out.php\n",
      "albumRating: 88  based on  None\n",
      "------------------------\n",
      "2  Place\n",
      "albumTitle:  Vanisher, Horizon Scraper\n",
      "artistTitle:  Quadeca\n",
      "albumUrl:  https://www.albumoftheyear.org/album/886457-quadeca-vanisher.php\n",
      "albumRating: 87  based on  None\n",
      "------------------------\n",
      "3  Place\n",
      "albumTitle:  Magic, Alive!\n",
      "artistTitle:  McKinley Dixon\n",
      "albumUrl:  https://www.albumoftheyear.org/album/1227674-mckinley-dixon-magic-alive.php\n",
      "albumRating: 87  based on  None\n",
      "------------------------\n",
      "4  Place\n",
      "albumTitle:  Pain to Power\n",
      "artistTitle:  Maruja\n",
      "albumUrl:  https://www.albumoftheyear.org/album/1311691-maruja-pain-to-power.php\n",
      "albumRating: 87  based on  None\n",
      "------------------------\n",
      "5  Place\n",
      "albumTitle:  Racing Mount Pleasant\n",
      "artistTitle:  Racing Mount Pleasant\n",
      "albumUrl:  https://www.albumoftheyear.org/album/1351956-racing-mount-pleasant-racing-mount-pleasant.php\n",
      "albumRating: 86  based on  None\n",
      "------------------------\n"
     ]
    }
   ],
   "source": [
    "for ind, i in enumerate(albums):\n",
    "  print(ind+1,\" Place\")\n",
    "  print('albumTitle: ', i['albumTitle'])\n",
    "  print('artistTitle: ', i['artistTitle'])\n",
    "  print('albumUrl: ', i['albumUrl'])\n",
    "  print('albumRating:', i['albumRating'], ' based on ', i['contributorsCount'])\n",
    "  print('------------------------')"
   ]
  },
  {
   "cell_type": "code",
   "execution_count": 16,
   "metadata": {
    "id": "mWrY4ds3jxwv"
   },
   "outputs": [],
   "source": [
    "#  host_m = 'https://www.albumoftheyear.org/album/1227674-mckinley-dixon-magic-alive.php'\n",
    "#  r = requests.get(host_m)\n",
    "#  r.cookies\n"
   ]
  },
  {
   "cell_type": "code",
   "execution_count": 17,
   "metadata": {
    "id": "jvI_0XNzfq0m"
   },
   "outputs": [],
   "source": [
    "# host_m = 'https://www.albumoftheyear.org/album/1227674-mckinley-dixon-magic-alive.php'\n",
    "# text_html_m = requests.get(host_m, headers = headers)\n",
    "# aaa_soup = text_html_m.content\n",
    "# soup_m = BeautifulSoup(aaa_soup, \"html.parser\")\n"
   ]
  },
  {
   "cell_type": "code",
   "execution_count": 18,
   "metadata": {
    "collapsed": true,
    "id": "3rEs5e-cfxxx",
    "jupyter": {
     "outputs_hidden": true
    }
   },
   "outputs": [],
   "source": [
    "# soup_m"
   ]
  },
  {
   "cell_type": "markdown",
   "metadata": {
    "id": "-ZWoByqAlUHs"
   },
   "source": [
    "# xPath"
   ]
  },
  {
   "cell_type": "code",
   "execution_count": 22,
   "metadata": {
    "id": "jGEUbVL_lUHv"
   },
   "outputs": [],
   "source": [
    "from pprint import pprint\n",
    "from lxml import html"
   ]
  },
  {
   "cell_type": "code",
   "execution_count": 24,
   "metadata": {
    "id": "t5o0V5qPlUHy"
   },
   "outputs": [],
   "source": [
    "# loaded_response = response.json() # Get the JSON response containing the HTML containing the required JSON.\n",
    "# results_html = loaded_response['results_html'] # Get the HTML from the JSON\n",
    "# soup = BeautifulSoup(results_html, 'html.parser')\n",
    "# text = soup.find_all('script')[1].text # Get the script element from the HTML.\n",
    "# # Get the JSON in the HTML script element\n",
    "# jn = json.loads(text[text.index(\"var g_rgTopCurators = \")+ len(\"var g_rgTopCurators = \"):text.index(\"var fnCreateCapsule\")].strip().rstrip(';'))\n",
    "# for i in jn:  # Iterate through JSON\n",
    "#     print (i['name'])\n"
   ]
  },
  {
   "cell_type": "code",
   "execution_count": null,
   "metadata": {
    "id": "Ui6_4MZGlUHz"
   },
   "outputs": [],
   "source": []
  },
  {
   "cell_type": "code",
   "execution_count": 27,
   "metadata": {
    "id": "9vwa0euKlUHz"
   },
   "outputs": [],
   "source": [
    "\n",
    "headers = {\"User-Agent\": \"Mozilla/5.0 (iPhone; CPU iPhone OS 18_5 like Mac OS X) AppleWebKit/605.1.15 (KHTML, like Gecko) Version/18.5 Mobile/15E148 Safari/604.1\"}\n",
    "host = 'https://www.albumoftheyear.org'\n",
    "text_html = requests.get(host, headers = headers)\n",
    "dom = html.fromstring(text_html.text)\n"
   ]
  },
  {
   "cell_type": "code",
   "execution_count": 28,
   "metadata": {
    "id": "xw2C_A_3lUH0"
   },
   "outputs": [],
   "source": [
    "# text_html = requests.get(host, headers = headers)\n",
    "# soup = BeautifulSoup(text_html.text, \"lxml\")\n"
   ]
  },
  {
   "cell_type": "code",
   "execution_count": 31,
   "metadata": {
    "id": "Pc1cI3nVlUH1"
   },
   "outputs": [],
   "source": [
    "def getHighestUserRatedAlbumsXPath(dom):\n",
    "\n",
    "  best_sections = dom.xpath(\"//*[contains(@class, 'bestHome')]\")\n",
    "  items = []\n",
    "  bestUsers_section = best_sections[1]\n",
    "  for album_div in bestUsers_section.xpath(\".//div[contains(@class, 'listItemSmall')]\"):\n",
    "    albumTitle = album_div.xpath(\".//div[contains(@class, 'albumTitle')]//text()\")[0]\n",
    "    artistTitle = album_div.xpath(\".//div[contains(@class, 'artistTitle')]//text()\")[0]\n",
    "    al_url = album_div.xpath(\".//a/@href\")[0]\n",
    "    print(al_url)\n",
    "    albumUrl = host + al_url\n",
    "    albumRating = album_div.xpath(\".//div[contains(@class, 'rating')]//text()\")[0]\n",
    "\n",
    "    items.append({\n",
    "        'albumTitle': albumTitle,\n",
    "        'artistTitle': artistTitle,\n",
    "        'albumUrl': albumUrl,\n",
    "        'albumRating': albumRating,\n",
    "        # 'contributorsCount': contributorsCount,\n",
    "                  })\n",
    "  return items"
   ]
  },
  {
   "cell_type": "code",
   "execution_count": 33,
   "metadata": {
    "colab": {
     "base_uri": "https://localhost:8080/"
    },
    "id": "CjRJx6HulUH2",
    "outputId": "b104bc70-02ae-4cb2-e66c-7f04450d558f"
   },
   "outputs": [
    {
     "name": "stdout",
     "output_type": "stream",
     "text": [
      "/album/991217-clipse-let-god-sort-em-out.php\n",
      "/album/886457-quadeca-vanisher.php\n",
      "/album/1227674-mckinley-dixon-magic-alive.php\n",
      "/album/1311691-maruja-pain-to-power.php\n",
      "/album/1351956-racing-mount-pleasant-racing-mount-pleasant.php\n"
     ]
    }
   ],
   "source": [
    "albums = getHighestUserRatedAlbumsXPath(dom)"
   ]
  },
  {
   "cell_type": "code",
   "execution_count": 35,
   "metadata": {
    "colab": {
     "base_uri": "https://localhost:8080/"
    },
    "id": "vHKu87LrlUH2",
    "outputId": "4fe37713-34d0-408c-c480-d6f218ed824d"
   },
   "outputs": [
    {
     "name": "stdout",
     "output_type": "stream",
     "text": [
      "1  Place\n",
      "albumTitle:  Let God Sort Em Out\n",
      "artistTitle:  Clipse\n",
      "albumUrl:  https://www.albumoftheyear.org/album/991217-clipse-let-god-sort-em-out.php\n",
      "albumRating: 88\n",
      "------------------------\n",
      "2  Place\n",
      "albumTitle:  Vanisher, Horizon Scraper\n",
      "artistTitle:  Quadeca\n",
      "albumUrl:  https://www.albumoftheyear.org/album/886457-quadeca-vanisher.php\n",
      "albumRating: 87\n",
      "------------------------\n",
      "3  Place\n",
      "albumTitle:  Magic, Alive!\n",
      "artistTitle:  McKinley Dixon\n",
      "albumUrl:  https://www.albumoftheyear.org/album/1227674-mckinley-dixon-magic-alive.php\n",
      "albumRating: 87\n",
      "------------------------\n",
      "4  Place\n",
      "albumTitle:  Pain to Power\n",
      "artistTitle:  Maruja\n",
      "albumUrl:  https://www.albumoftheyear.org/album/1311691-maruja-pain-to-power.php\n",
      "albumRating: 87\n",
      "------------------------\n",
      "5  Place\n",
      "albumTitle:  Racing Mount Pleasant\n",
      "artistTitle:  Racing Mount Pleasant\n",
      "albumUrl:  https://www.albumoftheyear.org/album/1351956-racing-mount-pleasant-racing-mount-pleasant.php\n",
      "albumRating: 86\n",
      "------------------------\n"
     ]
    }
   ],
   "source": [
    "for ind, i in enumerate(albums):\n",
    "  print(ind+1,\" Place\")\n",
    "  print('albumTitle: ', i['albumTitle'])\n",
    "  print('artistTitle: ', i['artistTitle'])\n",
    "  print('albumUrl: ', i['albumUrl'])\n",
    "  print('albumRating:', i['albumRating'])\n",
    "  # print('albumRating:', i['albumRating'], ' based on ', i['contributorsCount'])\n",
    "  print('------------------------')"
   ]
  },
  {
   "cell_type": "code",
   "execution_count": 37,
   "metadata": {
    "id": "WXM2v4RF3cvg"
   },
   "outputs": [],
   "source": [
    "import json\n"
   ]
  },
  {
   "cell_type": "code",
   "execution_count": 39,
   "metadata": {
    "id": "aukBhDc_3h6n"
   },
   "outputs": [],
   "source": [
    "with open('data.json', 'w', encoding='utf-8') as file:\n",
    "    json.dump(albums, file, ensure_ascii=False, indent=4)\n"
   ]
  },
  {
   "cell_type": "code",
   "execution_count": 63,
   "metadata": {},
   "outputs": [],
   "source": [
    "def getRecentlyAddedAlbumsXPath(dom):\n",
    "\n",
    "  recently_added = dom.xpath(\"//*[contains(@class, 'thisDayHome')]/following-sibling::*\")[0]\n",
    "  items = []\n",
    "  for album_div in recently_added.xpath(\".//div[contains(@class, 'albumBlock')]\"):\n",
    "    albumTitle = album_div.xpath(\".//div[contains(@class, 'albumTitle')]//text()\")[0]\n",
    "    artistTitle = album_div.xpath(\".//div[contains(@class, 'artistTitle')]//text()\")[0]\n",
    "    al_url = album_div.xpath(\".//a/@href\")[0]\n",
    "    artist_url = album_div.xpath(\".//a/@href\")[1]\n",
    "    print(al_url)\n",
    "    albumUrl = host + al_url\n",
    "    artistUrl = host + artist_url\n",
    "    # albumRating = album_div.xpath(\".//div[contains(@class, 'rating')]//text()\")[0]\n",
    "\n",
    "    items.append({\n",
    "        'albumTitle': albumTitle,\n",
    "        'artistTitle': artistTitle,\n",
    "        'albumUrl': albumUrl,\n",
    "        'artistUrl': artistUrl,\n",
    "        # 'albumRating': albumRating,\n",
    "        # 'contributorsCount': contributorsCount,\n",
    "                  })\n",
    "  return items\n"
   ]
  },
  {
   "cell_type": "code",
   "execution_count": 65,
   "metadata": {},
   "outputs": [
    {
     "name": "stdout",
     "output_type": "stream",
     "text": [
      "/album/1509534-fool-the-future.php\n",
      "/album/1509476-journey-captured-by-the-light-live-houston-80.php\n",
      "/album/1509409-fabiano-do-nascimento-cavejaz.php\n",
      "/album/1509408-imarhan-essam.php\n",
      "/album/1509400-vi-pink.php\n",
      "/album/1509362-various-artists-still-hostile-cebu-city-hardcore.php\n"
     ]
    }
   ],
   "source": [
    "recent_albums = getRecentlyAddedAlbumsXPath(dom)\n"
   ]
  },
  {
   "cell_type": "code",
   "execution_count": 67,
   "metadata": {},
   "outputs": [
    {
     "name": "stdout",
     "output_type": "stream",
     "text": [
      "1  recent\n",
      "albumTitle:  The Future\n",
      "artistTitle:  F.O.O.L\n",
      "albumUrl:  https://www.albumoftheyear.org/album/1509534-fool-the-future.php\n",
      "artistUrl:  https://www.albumoftheyear.org/artist/79699-fool/\n",
      "------------------------\n",
      "2  recent\n",
      "albumTitle:  Captured By The Light (Live Houston '80)\n",
      "artistTitle:  Journey\n",
      "albumUrl:  https://www.albumoftheyear.org/album/1509476-journey-captured-by-the-light-live-houston-80.php\n",
      "artistUrl:  https://www.albumoftheyear.org/artist/8944-journey/\n",
      "------------------------\n",
      "3  recent\n",
      "albumTitle:  Cavejaz\n",
      "artistTitle:  Fabiano do Nascimento\n",
      "albumUrl:  https://www.albumoftheyear.org/album/1509409-fabiano-do-nascimento-cavejaz.php\n",
      "artistUrl:  https://www.albumoftheyear.org/artist/16707-fabiano-do-nascimento/\n",
      "------------------------\n",
      "4  recent\n",
      "albumTitle:  Essam\n",
      "artistTitle:  Imarhan\n",
      "albumUrl:  https://www.albumoftheyear.org/album/1509408-imarhan-essam.php\n",
      "artistUrl:  https://www.albumoftheyear.org/artist/21999-imarhan/\n",
      "------------------------\n",
      "5  recent\n",
      "albumTitle:  Pink\n",
      "artistTitle:  Vĩ\n",
      "albumUrl:  https://www.albumoftheyear.org/album/1509400-vi-pink.php\n",
      "artistUrl:  https://www.albumoftheyear.org/artist/277573-vi/\n",
      "------------------------\n",
      "6  recent\n",
      "albumTitle:  Still Hostile - Cebu City Hardcore\n",
      "artistTitle:  Various Artists\n",
      "albumUrl:  https://www.albumoftheyear.org/album/1509362-various-artists-still-hostile-cebu-city-hardcore.php\n",
      "artistUrl:  https://www.albumoftheyear.org/album/1509362-various-artists-still-hostile-cebu-city-hardcore.php\n",
      "------------------------\n"
     ]
    }
   ],
   "source": [
    "\n",
    "for ind, i in enumerate(recent_albums):\n",
    "  print(ind+1,\" recent\")\n",
    "  print('albumTitle: ', i['albumTitle'])\n",
    "  print('artistTitle: ', i['artistTitle'])\n",
    "  print('albumUrl: ', i['albumUrl'])\n",
    "  print('artistUrl: ', i['artistUrl'])\n",
    "  # print('albumRating:', i['albumRating'], ' based on ', i['contributorsCount'])\n",
    "  print('------------------------')\n"
   ]
  },
  {
   "cell_type": "code",
   "execution_count": 69,
   "metadata": {},
   "outputs": [],
   "source": [
    "with open('recent_data.json', 'w', encoding='utf-8') as file:\n",
    "    json.dump(recent_albums, file, ensure_ascii=False, indent=4)"
   ]
  },
  {
   "cell_type": "code",
   "execution_count": 175,
   "metadata": {},
   "outputs": [],
   "source": [
    "stringRatingRow = \".//div[contains(@class, 'ratingRow')]\"\n",
    "\n",
    "def getRatingType(index):\n",
    "  stringRatingRow = \".//div[contains(@class, 'ratingRow')]\"\n",
    "  return f\"{stringRatingRow}[{index}]//*[contains(@class, 'ratingText')][1]//text()\"\n",
    "\n",
    "def getRatingRow(album_div, index):\n",
    "  return album_div.xpath(stringRatingRow)[index]\n",
    "\n",
    "def getNewlyReleasedAlbumsXPath(dom):\n",
    "\n",
    "  recently_added = dom.xpath(\"//span[@id='homeNewReleases'][1]\")\n",
    "  print(type(recently_added[0]))\n",
    "  items = []\n",
    "  for album_div in recently_added[0].xpath(\".//div[contains(@class, 'albumBlock')]\"):\n",
    "    albumTitle = album_div.xpath(\".//div[contains(@class, 'albumTitle')]//text()\")[0]\n",
    "    artistTitle = album_div.xpath(\".//div[contains(@class, 'artistTitle')]//text()\")[0]\n",
    "    al_url = album_div.xpath(\".//a/@href\")[0]\n",
    "    print(al_url)\n",
    "    albumUrl = host + al_url\n",
    "    firstAlbumRating = album_div.xpath(\".//div[@class = 'rating'][1]/text()\")[0]\n",
    "    firstAlbumRatingType = album_div.xpath(getRatingType(1))[0]\n",
    "\n",
    "    if 'critic score' == firstAlbumRatingType:\n",
    "      criticAlbumRating = int(firstAlbumRating)\n",
    "      ratingRow = getRatingRow(album_div, 2)\n",
    "      userAlbumRating_div = ratingRow.xpath(\".//div[contains(@class, 'rating')]\")[0]\n",
    "      userAlbumRating = int(userAlbumRating_div.xpath(\".//text()\")[0])\n",
    "    else:\n",
    "      userAlbumRating = int(firstAlbumRating)\n",
    "      criticAlbumRating = None\n",
    "      \n",
    "    items.append({\n",
    "        'albumTitle': albumTitle,\n",
    "        'artistTitle': artistTitle,\n",
    "        'albumUrl': albumUrl,\n",
    "        'userAlbumRating': userAlbumRating,\n",
    "        'criticAlbumRating': criticAlbumRating,\n",
    "        # 'contributorsCount': contributorsCount,\n",
    "                  })\n",
    "  return items"
   ]
  },
  {
   "cell_type": "code",
   "execution_count": 177,
   "metadata": {},
   "outputs": [
    {
     "name": "stdout",
     "output_type": "stream",
     "text": [
      "<class 'lxml.html.HtmlElement'>\n",
      "/album/1454777-tame-impala-deadbeat.php\n",
      "/album/1396125-the-last-dinner-party-from-the-pyre.php\n",
      "/album/1346349-sudan-archives-the-bpm.php\n",
      "/album/1203871-ty-dolla-sign-tycoon.php\n",
      "/album/1427705-ashnikko-smoochies.php\n",
      "/album/1400950-bbno-bbno.php\n",
      "/album/1477590-after-after-ep-2.php\n",
      "/album/1410605-silvana-estrada-vendran-suaves-lluvias.php\n",
      "/album/1427693-militarie-gun-god-save-the-gun.php\n",
      "/album/1435756-bar-italia-some-like-it-hot.php\n",
      "/album/1455159-partyof2-amerikas-next-top-party.php\n",
      "/album/1391564-they-are-gutting-a-body-of-water-lotto.php\n"
     ]
    }
   ],
   "source": [
    "newlyReleased_albums = getNewlyReleasedAlbumsXPath(dom)"
   ]
  },
  {
   "cell_type": "code",
   "execution_count": 225,
   "metadata": {},
   "outputs": [],
   "source": [
    "def printAlbWithCritic(data):\n",
    "    for ind, i in enumerate(data):\n",
    "      print(ind+1,\" Most popular\")\n",
    "      print('albumTitle: ', i['albumTitle'])\n",
    "      print('artistTitle: ', i['artistTitle'])\n",
    "      print('albumUrl: ', i['albumUrl'])\n",
    "      print('userAlbumRating:', i['userAlbumRating'])\n",
    "      print('criticAlbumRating:', i['criticAlbumRating'])\n",
    "      # print('albumRating:', i['albumRating'], ' based on ', i['contributorsCount'])\n",
    "      print('------------------------')"
   ]
  },
  {
   "cell_type": "raw",
   "metadata": {},
   "source": []
  },
  {
   "cell_type": "code",
   "execution_count": 227,
   "metadata": {},
   "outputs": [
    {
     "name": "stdout",
     "output_type": "stream",
     "text": [
      "1  Most popular\n",
      "albumTitle:  Deadbeat\n",
      "artistTitle:  Tame Impala\n",
      "albumUrl:  https://www.albumoftheyear.org/album/1454777-tame-impala-deadbeat.php\n",
      "userAlbumRating: 63\n",
      "criticAlbumRating: 64\n",
      "------------------------\n",
      "2  Most popular\n",
      "albumTitle:  From The Pyre\n",
      "artistTitle:  The Last Dinner Party\n",
      "albumUrl:  https://www.albumoftheyear.org/album/1396125-the-last-dinner-party-from-the-pyre.php\n",
      "userAlbumRating: 82\n",
      "criticAlbumRating: 87\n",
      "------------------------\n",
      "3  Most popular\n",
      "albumTitle:  THE BPM\n",
      "artistTitle:  Sudan Archives\n",
      "albumUrl:  https://www.albumoftheyear.org/album/1346349-sudan-archives-the-bpm.php\n",
      "userAlbumRating: 81\n",
      "criticAlbumRating: 83\n",
      "------------------------\n",
      "4  Most popular\n",
      "albumTitle:  TYCOON\n",
      "artistTitle:  Ty Dolla $ign\n",
      "albumUrl:  https://www.albumoftheyear.org/album/1203871-ty-dolla-sign-tycoon.php\n",
      "userAlbumRating: 60\n",
      "criticAlbumRating: None\n",
      "------------------------\n",
      "5  Most popular\n",
      "albumTitle:  Smoochies\n",
      "artistTitle:  Ashnikko\n",
      "albumUrl:  https://www.albumoftheyear.org/album/1427705-ashnikko-smoochies.php\n",
      "userAlbumRating: 73\n",
      "criticAlbumRating: 80\n",
      "------------------------\n",
      "6  Most popular\n",
      "albumTitle:  bbno$\n",
      "artistTitle:  bbno$\n",
      "albumUrl:  https://www.albumoftheyear.org/album/1400950-bbno-bbno.php\n",
      "userAlbumRating: 45\n",
      "criticAlbumRating: None\n",
      "------------------------\n",
      "7  Most popular\n",
      "albumTitle:  After EP 2\n",
      "artistTitle:  After\n",
      "albumUrl:  https://www.albumoftheyear.org/album/1477590-after-after-ep-2.php\n",
      "userAlbumRating: 82\n",
      "criticAlbumRating: None\n",
      "------------------------\n",
      "8  Most popular\n",
      "albumTitle:  Vendrán Suaves Lluvias\n",
      "artistTitle:  Silvana Estrada\n",
      "albumUrl:  https://www.albumoftheyear.org/album/1410605-silvana-estrada-vendran-suaves-lluvias.php\n",
      "userAlbumRating: 85\n",
      "criticAlbumRating: 80\n",
      "------------------------\n",
      "9  Most popular\n",
      "albumTitle:  God Save the Gun\n",
      "artistTitle:  Militarie Gun\n",
      "albumUrl:  https://www.albumoftheyear.org/album/1427693-militarie-gun-god-save-the-gun.php\n",
      "userAlbumRating: 72\n",
      "criticAlbumRating: 82\n",
      "------------------------\n",
      "10  Most popular\n",
      "albumTitle:  Some Like It Hot\n",
      "artistTitle:  bar italia\n",
      "albumUrl:  https://www.albumoftheyear.org/album/1435756-bar-italia-some-like-it-hot.php\n",
      "userAlbumRating: 70\n",
      "criticAlbumRating: 71\n",
      "------------------------\n",
      "11  Most popular\n",
      "albumTitle:  AMERIKA'S NEXT TOP PARTY!\n",
      "artistTitle:  PARTYOF2\n",
      "albumUrl:  https://www.albumoftheyear.org/album/1455159-partyof2-amerikas-next-top-party.php\n",
      "userAlbumRating: 77\n",
      "criticAlbumRating: None\n",
      "------------------------\n",
      "12  Most popular\n",
      "albumTitle:  LOTTO\n",
      "artistTitle:  They Are Gutting a Body of Water\n",
      "albumUrl:  https://www.albumoftheyear.org/album/1391564-they-are-gutting-a-body-of-water-lotto.php\n",
      "userAlbumRating: 74\n",
      "criticAlbumRating: 79\n",
      "------------------------\n"
     ]
    }
   ],
   "source": [
    "printAlbWithCritic(newlyReleased_albums)\n"
   ]
  },
  {
   "cell_type": "code",
   "execution_count": 181,
   "metadata": {},
   "outputs": [],
   "source": [
    "with open('newlyReleased_data.json', 'w', encoding='utf-8') as file:\n",
    "    json.dump(newlyReleased_albums, file, ensure_ascii=False, indent=4)\n"
   ]
  },
  {
   "cell_type": "code",
   "execution_count": null,
   "metadata": {},
   "outputs": [],
   "source": []
  },
  {
   "cell_type": "markdown",
   "metadata": {
    "id": "S3MmF6lp9Yn4"
   },
   "source": [
    "# MongoDB (Загрузка в таблицу лучших)"
   ]
  },
  {
   "cell_type": "code",
   "execution_count": 43,
   "metadata": {
    "colab": {
     "base_uri": "https://localhost:8080/"
    },
    "id": "QngjJo27_X3h",
    "outputId": "578efa9a-8497-4cfd-8b0e-2f81c09ec110"
   },
   "outputs": [
    {
     "name": "stdout",
     "output_type": "stream",
     "text": [
      "Collecting pymongo\n",
      "  Downloading pymongo-4.15.3-cp312-cp312-win_amd64.whl.metadata (22 kB)\n",
      "Collecting dnspython<3.0.0,>=1.16.0 (from pymongo)\n",
      "  Downloading dnspython-2.8.0-py3-none-any.whl.metadata (5.7 kB)\n",
      "Downloading pymongo-4.15.3-cp312-cp312-win_amd64.whl (910 kB)\n",
      "   ---------------------------------------- 0.0/910.9 kB ? eta -:--:--\n",
      "   ---------------------------------------- 0.0/910.9 kB ? eta -:--:--\n",
      "   ----------------------- ---------------- 524.3/910.9 kB 2.1 MB/s eta 0:00:01\n",
      "   ---------------------------------------- 910.9/910.9 kB 2.4 MB/s eta 0:00:00\n",
      "Downloading dnspython-2.8.0-py3-none-any.whl (331 kB)\n",
      "Installing collected packages: dnspython, pymongo\n",
      "Successfully installed dnspython-2.8.0 pymongo-4.15.3\n"
     ]
    }
   ],
   "source": [
    "! python -m pip install pymongo"
   ]
  },
  {
   "cell_type": "code",
   "execution_count": 47,
   "metadata": {
    "id": "M4wBIMTJ9cIo"
   },
   "outputs": [],
   "source": [
    "from pymongo import MongoClient"
   ]
  },
  {
   "cell_type": "code",
   "execution_count": 49,
   "metadata": {
    "id": "idYFfF9GFw2O"
   },
   "outputs": [],
   "source": [
    "# Making Connection\n",
    "myclient = MongoClient(\"mongodb://localhost:27017/\")\n"
   ]
  },
  {
   "cell_type": "code",
   "execution_count": 51,
   "metadata": {
    "colab": {
     "base_uri": "https://localhost:8080/"
    },
    "id": "y9QEKc4HF0M9",
    "outputId": "90b85433-269c-4fa3-8a48-81027bc9b6da"
   },
   "outputs": [
    {
     "data": {
      "text/plain": [
       "Database(MongoClient(host=['localhost:27017'], document_class=dict, tz_aware=False, connect=True), 'stats')"
      ]
     },
     "execution_count": 51,
     "metadata": {},
     "output_type": "execute_result"
    }
   ],
   "source": [
    "myclient.stats                                # .stats  show details about the client"
   ]
  },
  {
   "cell_type": "code",
   "execution_count": 183,
   "metadata": {
    "colab": {
     "base_uri": "https://localhost:8080/",
     "height": 391
    },
    "id": "Gq7fKAKlF26L",
    "outputId": "ef1fd6bd-9521-4f86-972f-c8c48d691f94"
   },
   "outputs": [
    {
     "data": {
      "text/plain": [
       "['admin', 'config', 'dataJson', 'local', 'recentAlbums']"
      ]
     },
     "execution_count": 183,
     "metadata": {},
     "output_type": "execute_result"
    }
   ],
   "source": [
    "myclient.list_database_names()"
   ]
  },
  {
   "cell_type": "code",
   "execution_count": 55,
   "metadata": {
    "id": "DDw886tbGB6q"
   },
   "outputs": [],
   "source": [
    "# database\n",
    "db = myclient[\"dataJson\"]\n"
   ]
  },
  {
   "cell_type": "code",
   "execution_count": 57,
   "metadata": {
    "id": "-sXobdUjGDxC"
   },
   "outputs": [],
   "source": [
    "Collection = db[\"data\"]\n"
   ]
  },
  {
   "cell_type": "code",
   "execution_count": 59,
   "metadata": {
    "id": "Hnksxf4CGF8D"
   },
   "outputs": [],
   "source": [
    "\n",
    "# Loading or Opening the json file\n",
    "with open('data.json') as file:\n",
    "    file_data = json.load(file)\n"
   ]
  },
  {
   "cell_type": "code",
   "execution_count": 61,
   "metadata": {
    "colab": {
     "base_uri": "https://localhost:8080/",
     "height": 460
    },
    "id": "YZ_O4qK-GHgu",
    "outputId": "bce5718a-f051-4004-f924-8351dde86e51"
   },
   "outputs": [],
   "source": [
    "\n",
    "# Inserting the loaded data in the Collection\n",
    "# if JSON contains data more than one entry\n",
    "# insert_many is used else insert_one is used\n",
    "if isinstance(file_data, list):\n",
    "    Collection.insert_many(file_data)\n",
    "else:\n",
    "    Collection.insert_one(file_data)"
   ]
  },
  {
   "cell_type": "markdown",
   "metadata": {
    "id": "S3MmF6lp9Yn4"
   },
   "source": [
    "# MongoDB (Загрузка в таблицу только новых, для старых обновлять данные по двум полям)"
   ]
  },
  {
   "cell_type": "code",
   "execution_count": 91,
   "metadata": {},
   "outputs": [
    {
     "data": {
      "text/plain": [
       "['admin', 'config', 'dataJson', 'local']"
      ]
     },
     "execution_count": 91,
     "metadata": {},
     "output_type": "execute_result"
    }
   ],
   "source": [
    "myclient.list_database_names()"
   ]
  },
  {
   "cell_type": "code",
   "execution_count": 185,
   "metadata": {},
   "outputs": [],
   "source": [
    "# database recent\n",
    "db = myclient[\"recentAlbums\"]\n"
   ]
  },
  {
   "cell_type": "code",
   "execution_count": 187,
   "metadata": {},
   "outputs": [],
   "source": [
    "Collection = db[\"data\"]\n"
   ]
  },
  {
   "cell_type": "code",
   "execution_count": 189,
   "metadata": {},
   "outputs": [],
   "source": [
    "    from pymongo import ReturnDocument\n"
   ]
  },
  {
   "cell_type": "code",
   "execution_count": 191,
   "metadata": {},
   "outputs": [],
   "source": [
    "def insert_update_one(collection, new_data):\n",
    "    albumUrl = new_data['albumUrl']\n",
    "    filter_query = {'albumUrl': albumUrl}\n",
    "    set_new_values = {'$setOnInsert': new_data }\n",
    "    # Используем update_one с upsert=True и $setOnInsert\n",
    "    result = collection.update_one(\n",
    "        filter_query,\n",
    "        set_new_values,\n",
    "        upsert=True\n",
    "    )\n",
    "\n",
    "    if result.upserted_id:\n",
    "        print(f\"СТрока с albumUrl {albumUrl} был создан.\")\n",
    "    else:\n",
    "        update_new_values = {\"$set\": { \"criticAlbumRating\": new_data[\"criticAlbumRating\"], \"userAlbumRating\": new_data[\"userAlbumRating\"] }}\n",
    "        result_update = collection.find_one_and_update(\n",
    "        filter_query,\n",
    "        update_new_values,\n",
    "        return_document=ReturnDocument.BEFORE\n",
    "        )\n",
    "        if result_update['criticAlbumRating'] != new_data[\"criticAlbumRating\"] or result_update['userAlbumRating'] != new_data[\"userAlbumRating\"]:\n",
    "            print(f\"СТрока с таким url уже существует(обновлен).\")\n",
    "        else:\n",
    "            print(\"СТрока с таким url уже существует(не обновлен).\")"
   ]
  },
  {
   "cell_type": "code",
   "execution_count": 193,
   "metadata": {},
   "outputs": [],
   "source": [
    "\n",
    "# Loading or Opening the json file\n",
    "with open('newlyReleased_data.json') as file:\n",
    "    newlyReleased_data = json.load(file)\n"
   ]
  },
  {
   "cell_type": "code",
   "execution_count": 197,
   "metadata": {},
   "outputs": [
    {
     "name": "stdout",
     "output_type": "stream",
     "text": [
      "СТрока с таким url уже существует(не обновлен).\n",
      "СТрока с таким url уже существует(не обновлен).\n",
      "СТрока с таким url уже существует(не обновлен).\n",
      "СТрока с таким url уже существует(не обновлен).\n",
      "СТрока с таким url уже существует(не обновлен).\n",
      "СТрока с таким url уже существует(не обновлен).\n",
      "СТрока с таким url уже существует(не обновлен).\n",
      "СТрока с таким url уже существует(не обновлен).\n",
      "СТрока с таким url уже существует(не обновлен).\n",
      "СТрока с таким url уже существует(не обновлен).\n",
      "СТрока с таким url уже существует(не обновлен).\n",
      "СТрока с таким url уже существует(не обновлен).\n"
     ]
    }
   ],
   "source": [
    "for nData in newlyReleased_data:\n",
    "    insert_update_one(Collection, nData)"
   ]
  },
  {
   "cell_type": "code",
   "execution_count": 221,
   "metadata": {},
   "outputs": [],
   "source": [
    "def getFoundData(Collection):\n",
    "    resultsQuery = Collection.find({\"$and\": [ {\"userAlbumRating\": {\"$gte\": 70}}, {\"criticAlbumRating\": {\"$ne\": None}}]})\n",
    "    dataFound = []\n",
    "    for i in resultsQuery:\n",
    "      # ind+=1\n",
    "      dataFound.append({\n",
    "            'albumTitle': i['albumTitle'],\n",
    "            'artistTitle': i['artistTitle'],\n",
    "            'albumUrl': i['albumUrl'],\n",
    "            'userAlbumRating': i['userAlbumRating'],\n",
    "            'criticAlbumRating': i['criticAlbumRating'],\n",
    "            # 'contributorsCount': contributorsCount,\n",
    "                      })\n",
    "    return dataFound"
   ]
  },
  {
   "cell_type": "code",
   "execution_count": 223,
   "metadata": {},
   "outputs": [],
   "source": [
    "resultsFinder = getFoundData(Collection)"
   ]
  },
  {
   "cell_type": "code",
   "execution_count": 229,
   "metadata": {},
   "outputs": [
    {
     "name": "stdout",
     "output_type": "stream",
     "text": [
      "1  Most popular\n",
      "albumTitle:  From The Pyre\n",
      "artistTitle:  The Last Dinner Party\n",
      "albumUrl:  https://www.albumoftheyear.org/album/1396125-the-last-dinner-party-from-the-pyre.php\n",
      "userAlbumRating: 82\n",
      "criticAlbumRating: 87\n",
      "------------------------\n",
      "2  Most popular\n",
      "albumTitle:  THE BPM\n",
      "artistTitle:  Sudan Archives\n",
      "albumUrl:  https://www.albumoftheyear.org/album/1346349-sudan-archives-the-bpm.php\n",
      "userAlbumRating: 81\n",
      "criticAlbumRating: 83\n",
      "------------------------\n",
      "3  Most popular\n",
      "albumTitle:  Smoochies\n",
      "artistTitle:  Ashnikko\n",
      "albumUrl:  https://www.albumoftheyear.org/album/1427705-ashnikko-smoochies.php\n",
      "userAlbumRating: 73\n",
      "criticAlbumRating: 80\n",
      "------------------------\n",
      "4  Most popular\n",
      "albumTitle:  VendrГЎn Suaves Lluvias\n",
      "artistTitle:  Silvana Estrada\n",
      "albumUrl:  https://www.albumoftheyear.org/album/1410605-silvana-estrada-vendran-suaves-lluvias.php\n",
      "userAlbumRating: 85\n",
      "criticAlbumRating: 80\n",
      "------------------------\n",
      "5  Most popular\n",
      "albumTitle:  God Save the Gun\n",
      "artistTitle:  Militarie Gun\n",
      "albumUrl:  https://www.albumoftheyear.org/album/1427693-militarie-gun-god-save-the-gun.php\n",
      "userAlbumRating: 72\n",
      "criticAlbumRating: 82\n",
      "------------------------\n",
      "6  Most popular\n",
      "albumTitle:  Some Like It Hot\n",
      "artistTitle:  bar italia\n",
      "albumUrl:  https://www.albumoftheyear.org/album/1435756-bar-italia-some-like-it-hot.php\n",
      "userAlbumRating: 70\n",
      "criticAlbumRating: 71\n",
      "------------------------\n",
      "7  Most popular\n",
      "albumTitle:  LOTTO\n",
      "artistTitle:  They Are Gutting a Body of Water\n",
      "albumUrl:  https://www.albumoftheyear.org/album/1391564-they-are-gutting-a-body-of-water-lotto.php\n",
      "userAlbumRating: 74\n",
      "criticAlbumRating: 79\n",
      "------------------------\n"
     ]
    }
   ],
   "source": [
    "printAlbWithCritic(resultsFinder)"
   ]
  },
  {
   "cell_type": "code",
   "execution_count": 211,
   "metadata": {},
   "outputs": [
    {
     "data": {
      "text/plain": [
       "<pymongo.synchronous.cursor.Cursor at 0x2ab85594ef0>"
      ]
     },
     "execution_count": 211,
     "metadata": {},
     "output_type": "execute_result"
    }
   ],
   "source": []
  },
  {
   "cell_type": "code",
   "execution_count": null,
   "metadata": {},
   "outputs": [],
   "source": []
  }
 ],
 "metadata": {
  "colab": {
   "collapsed_sections": [
    "FsTV9BgMxLha"
   ],
   "provenance": []
  },
  "kernelspec": {
   "display_name": "Python [conda env:base] *",
   "language": "python",
   "name": "conda-base-py"
  },
  "language_info": {
   "codemirror_mode": {
    "name": "ipython",
    "version": 3
   },
   "file_extension": ".py",
   "mimetype": "text/x-python",
   "name": "python",
   "nbconvert_exporter": "python",
   "pygments_lexer": "ipython3",
   "version": "3.12.7"
  }
 },
 "nbformat": 4,
 "nbformat_minor": 4
}
